{
 "cells": [
  {
   "cell_type": "markdown",
   "metadata": {},
   "source": [
    "---\n",
    "title: \"Sample Markdown\"\n",
    "author: \"Data Scientist, Organization\"\n",
    "date: '`r Sys.Date()`'\n",
    "output:\n",
    "  html_notebook: default\n",
    "---\n",
    "\n",
    "This is a sample R markdown of an R accelerator. More infomation about acceleratoRs can be found [here](https://github.com/Microsoft/acceleratoRs).\n",
    "\n",
    "## 1 Introduction"
   ]
  },
  {
   "cell_type": "code",
   "execution_count": null,
   "metadata": {},
   "outputs": [],
   "source": [
    "print(\"Hello World!\")"
   ]
  },
  {
   "cell_type": "code",
   "execution_count": null,
   "metadata": {},
   "outputs": [],
   "source": [
    "library(ggplot2)\n",
    "\n",
    "ggplot(data=iris) +\n",
    "  geom_point(aes(x=Petal.Length, y=Petal.Width, color=Species)) +\n",
    "  xlab(\"Length of Petal\") +\n",
    "  ylab(\"Width of Petal\") +\n",
    "  theme_bw()"
   ]
  }
 ],
 "metadata": {},
 "nbformat": 4,
 "nbformat_minor": 1
}

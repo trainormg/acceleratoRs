{
 "cells": [
  {
   "cell_type": "markdown",
   "metadata": {},
   "source": [
    "---\n",
    "title: \"Data Science Design Pattern for Student Score Modelling\"\n",
    "author: \"Microsoft\"\n",
    "output: \n",
    "    rmarkdown::html_vignette:\n",
    "        toc: true\n",
    "\n",
    "vignette: >\n",
    "  %\\VignetteIndexEntry{Vignette Title}\n",
    "  %\\VignetteEngine{knitr::rmarkdown}\n",
    "  %\\VignetteEncoding{UTF-8}\n",
    "---"
   ]
  },
  {
   "cell_type": "code",
   "execution_count": 1,
   "metadata": {
    "attributes": {
     "classes": [],
     "echo": "FALSE",
     "id": ""
    },
    "collapsed": true
   },
   "outputs": [],
   "source": [
    "\n",
    "knitr::opts_chunk$set(fig.width = 6,\n",
    "                      fig.height = 4,\n",
    "                      fig.align='center',\n",
    "                      dev = \"png\")\n"
   ]
  },
  {
   "cell_type": "markdown",
   "metadata": {},
   "source": [
    "# Introducation\n",
    "\n",
    "Welcome to the Data Science Design Pattern for Student Score Modelling. This pattern provides a starting point for the data scientist exploring a new dataset. By no means is it the end point of the data science journey. The pattern is under regular revision and improvement and is provided as is. \n",
    "\n",
    "We now introduce a generic pattern for building mixed effect regression models using R.\n",
    "\n",
    "# Pre-configuration\n",
    "\n",
    "We load the R packages required for modelling."
   ]
  },
  {
   "cell_type": "code",
   "execution_count": 2,
   "metadata": {
    "attributes": {
     "classes": [],
     "error": "FALSE",
     "id": "",
     "message": "FALSE,",
     "warning": "FALSE,"
    },
    "collapsed": false
   },
   "outputs": [
    {
     "name": "stderr",
     "output_type": "stream",
     "text": [
      "Rattle: A free graphical interface for data mining with R.\n",
      "Version 4.1.0 Copyright (c) 2006-2015 Togaware Pty Ltd.\n",
      "Type 'rattle()' to shake, rattle, and roll your data.\n",
      "Loading required package: Matrix\n"
     ]
    }
   ],
   "source": [
    "########################################################################\n",
    "# R SETUP\n",
    "\n",
    "# Load required packages from local library into R.\n",
    "\n",
    "library(magrittr)     # Data pipelines: %>% %T>% %<>%.\n",
    "library(stringi)      # String operator: %s+%.\n",
    "library(rattle)       # Evaluate using riskchart().\n",
    "library(ggplot2)      # Visually evaluate performance.\n",
    "library(lme4)         # Linear mixed effect model."
   ]
  },
  {
   "cell_type": "markdown",
   "metadata": {},
   "source": [
    "# Step 4.4: Re-load Dataset\n",
    "\n",
    "In the Data template we loaded the studentScoreAUS dataset, processed it, and saved it to file. Here we re-load the dataset and review its contents."
   ]
  },
  {
   "cell_type": "code",
   "execution_count": 3,
   "metadata": {
    "attributes": {
     "classes": [],
     "error": "FALSE",
     "id": "",
     "message": "FALSE,",
     "warning": "FALSE,"
    },
    "collapsed": false
   },
   "outputs": [
    {
     "name": "stdout",
     "output_type": "stream",
     "text": [
      "[1] \"data/studentScoreAUS_20161215.RData\"\n",
      " [1] \"ds\"     \"dsname\" \"dspath\" \"dsdate\" \"nobs\"   \"vars\"   \"target\" \"id\"    \n",
      " [9] \"ignore\" \"omit\"   \"inputi\" \"inputs\" \"numi\"   \"numc\"   \"cati\"   \"catc\"  \n"
     ]
    },
    {
     "data": {
      "text/html": [
       "'studentScoreAUS'"
      ],
      "text/latex": [
       "'studentScoreAUS'"
      ],
      "text/markdown": [
       "'studentScoreAUS'"
      ],
      "text/plain": [
       "[1] \"studentScoreAUS\""
      ]
     },
     "metadata": {},
     "output_type": "display_data"
    },
    {
     "data": {
      "text/html": [
       "'C:/Users/zhouf/Documents/Revolution Analytics/Projects/Education2/Demo/studentScoreAUS_20161215.csv'"
      ],
      "text/latex": [
       "'C:/Users/zhouf/Documents/Revolution Analytics/Projects/Education2/Demo/studentScoreAUS\\_20161215.csv'"
      ],
      "text/markdown": [
       "'C:/Users/zhouf/Documents/Revolution Analytics/Projects/Education2/Demo/studentScoreAUS_20161215.csv'"
      ],
      "text/plain": [
       "[1] \"C:/Users/zhouf/Documents/Revolution Analytics/Projects/Education2/Demo/studentScoreAUS_20161215.csv\""
      ]
     },
     "metadata": {},
     "output_type": "display_data"
    },
    {
     "data": {
      "text/html": [
       "'_20161215'"
      ],
      "text/latex": [
       "'\\_20161215'"
      ],
      "text/markdown": [
       "'_20161215'"
      ],
      "text/plain": [
       "[1] \"_20161215\""
      ]
     },
     "metadata": {},
     "output_type": "display_data"
    },
    {
     "data": {
      "text/html": [
       "1222"
      ],
      "text/latex": [
       "1222"
      ],
      "text/markdown": [
       "1222"
      ],
      "text/plain": [
       "[1] 1222"
      ]
     },
     "metadata": {},
     "output_type": "display_data"
    },
    {
     "data": {
      "text/html": [
       "<ol class=list-inline>\n",
       "\t<li>'score'</li>\n",
       "\t<li>'indigenous'</li>\n",
       "\t<li>'english_language'</li>\n",
       "\t<li>'father_occupation'</li>\n",
       "\t<li>'mother_occupation'</li>\n",
       "\t<li>'attendance_rate'</li>\n",
       "\t<li>'guardian'</li>\n",
       "\t<li>'level'</li>\n",
       "</ol>\n"
      ],
      "text/latex": [
       "\\begin{enumerate*}\n",
       "\\item 'score'\n",
       "\\item 'indigenous'\n",
       "\\item 'english\\_language'\n",
       "\\item 'father\\_occupation'\n",
       "\\item 'mother\\_occupation'\n",
       "\\item 'attendance\\_rate'\n",
       "\\item 'guardian'\n",
       "\\item 'level'\n",
       "\\end{enumerate*}\n"
      ],
      "text/markdown": [
       "1. 'score'\n",
       "2. 'indigenous'\n",
       "3. 'english_language'\n",
       "4. 'father_occupation'\n",
       "5. 'mother_occupation'\n",
       "6. 'attendance_rate'\n",
       "7. 'guardian'\n",
       "8. 'level'\n",
       "\n",
       "\n"
      ],
      "text/plain": [
       "[1] \"score\"             \"indigenous\"        \"english_language\" \n",
       "[4] \"father_occupation\" \"mother_occupation\" \"attendance_rate\"  \n",
       "[7] \"guardian\"          \"level\"            "
      ]
     },
     "metadata": {},
     "output_type": "display_data"
    },
    {
     "data": {
      "text/html": [
       "'score'"
      ],
      "text/latex": [
       "'score'"
      ],
      "text/markdown": [
       "'score'"
      ],
      "text/plain": [
       "[1] \"score\""
      ]
     },
     "metadata": {},
     "output_type": "display_data"
    },
    {
     "data": {
      "text/html": [
       "<ol class=list-inline>\n",
       "\t<li>'student_id'</li>\n",
       "\t<li>'school_code'</li>\n",
       "\t<li>'test_year'</li>\n",
       "</ol>\n"
      ],
      "text/latex": [
       "\\begin{enumerate*}\n",
       "\\item 'student\\_id'\n",
       "\\item 'school\\_code'\n",
       "\\item 'test\\_year'\n",
       "\\end{enumerate*}\n"
      ],
      "text/markdown": [
       "1. 'student_id'\n",
       "2. 'school_code'\n",
       "3. 'test_year'\n",
       "\n",
       "\n"
      ],
      "text/plain": [
       "[1] \"student_id\"  \"school_code\" \"test_year\"  "
      ]
     },
     "metadata": {},
     "output_type": "display_data"
    },
    {
     "data": {
      "text/html": [
       "<ol class=list-inline>\n",
       "\t<li>'student_id'</li>\n",
       "\t<li>'school_code'</li>\n",
       "\t<li>'test_year'</li>\n",
       "</ol>\n"
      ],
      "text/latex": [
       "\\begin{enumerate*}\n",
       "\\item 'student\\_id'\n",
       "\\item 'school\\_code'\n",
       "\\item 'test\\_year'\n",
       "\\end{enumerate*}\n"
      ],
      "text/markdown": [
       "1. 'student_id'\n",
       "2. 'school_code'\n",
       "3. 'test_year'\n",
       "\n",
       "\n"
      ],
      "text/plain": [
       "[1] \"student_id\"  \"school_code\" \"test_year\"  "
      ]
     },
     "metadata": {},
     "output_type": "display_data"
    },
    {
     "data": {
      "text/plain": [
       "NULL"
      ]
     },
     "metadata": {},
     "output_type": "display_data"
    }
   ],
   "source": [
    "########################################################################\n",
    "# DATA INGESTION\n",
    "\n",
    "# Identify the dataset.\n",
    "\n",
    "dsname <- \"studentScoreAUS\"\n",
    "\n",
    "# Identify the dataset to load.\n",
    "\n",
    "fpath  <- \"data\"\n",
    "dsdate <- \"_\" %s+% \"20161215\"\n",
    "\n",
    "# Filename of the saved dataset.\n",
    "\n",
    "dsrdata <-\n",
    "  file.path(fpath, dsname %s+% dsdate %s+% \".RData\") %T>% \n",
    "  print()\n",
    "\n",
    "# Load the R objects from file and list them.\n",
    "\n",
    "load(dsrdata) %>% print()\n",
    "\n",
    "# Review the metadata.\n",
    "\n",
    "dsname\n",
    "dspath\n",
    "dsdate\n",
    "nobs\n",
    "vars\n",
    "target\n",
    "id\n",
    "ignore\n",
    "omit"
   ]
  },
  {
   "cell_type": "markdown",
   "metadata": {},
   "source": [
    "# Step 4.5: Prepare - Formula to Describe the Goal\n",
    "\n",
    "After re-loading the data into memory, we continue on from the Data template where we had Steps 1, 2, and 3 and the beginnings of Step 4 of a data mining process.\n",
    "\n",
    "The next step is to describe the model to be built by way of writing a formula to capture our intent. The formula describes the model to be built as being constructed to predict the target variable based on the other (suitable) variables available in the dataset.\n",
    "\n",
    "In this particular case, we address the problem as a regression problem, but taking random effects for student and school into account. Statistically speaking, parameters associated with the particular levels of a covariate in a model are sometimes called the “effects” of the levels. If the set of possible levels of the covariate is fixed and reproducible we model the covariate using fixed-effects parameters. If the levels that we observed represent a random sample from the set of all possible levels we incorporate random effects in the model. For example, here the levels of the english_language covariate, true and false, are fixed. If we consider data from another school or we incorporate scores from earlier tests, we will not change those levels. On the other hand, the students whose scores we observed would generally be regarded as a sample from the set of all possible students whom we could have observed. Adding more data, either from more school or from results on previous or subsequent tests, will increase the number of distinct levels of the student identifier. Understanding this point, we will need a formula for mixed effects regression model, where the two identifiers student_id and school_code are specified as random effects and other covariates are treated as fixed effects. The notation used to express this is to name the target (score), followed by a tilde (~), and followed by an addition of crossed random effects represented by (1|student_id)+(1|school_code) and fixed effects."
   ]
  },
  {
   "cell_type": "code",
   "execution_count": 4,
   "metadata": {
    "attributes": {
     "classes": [],
     "error": "FALSE",
     "id": "",
     "message": "FALSE,",
     "warning": "FALSE,"
    },
    "collapsed": false
   },
   "outputs": [
    {
     "name": "stdout",
     "output_type": "stream",
     "text": [
      "[1] \"(1|student_id)+(1|school_code)\"\n"
     ]
    }
   ],
   "source": [
    "########################################################################\n",
    "# PREPARE FOR MODELLING\n",
    "\n",
    "# Formula for modelling.\n",
    "rvars <- c(\"student_id\", \"school_code\")\n",
    "reffect <- \"(1|\" %s+% rvars[1] %s+% \")+(1|\" %s+% rvars[2] %s+% \")\" %T>% print()"
   ]
  },
  {
   "cell_type": "code",
   "execution_count": 5,
   "metadata": {
    "attributes": {
     "classes": [],
     "error": "FALSE",
     "id": "",
     "message": "FALSE,",
     "warning": "FALSE,"
    },
    "collapsed": false
   },
   "outputs": [
    {
     "name": "stdout",
     "output_type": "stream",
     "text": [
      "[1] \"indigenous+english_language+father_occupation+mother_occupation+attendance_rate+guardian+level\"\n"
     ]
    }
   ],
   "source": [
    "fvars <- setdiff(vars, target) \n",
    "feffect <- paste(fvars, collapse=\"+\") %T>% print()"
   ]
  },
  {
   "cell_type": "code",
   "execution_count": 6,
   "metadata": {
    "attributes": {
     "classes": [],
     "error": "FALSE",
     "id": "",
     "message": "FALSE,",
     "warning": "FALSE,"
    },
    "collapsed": false
   },
   "outputs": [
    {
     "name": "stdout",
     "output_type": "stream",
     "text": [
      "score ~ (1 | student_id) + (1 | school_code) + indigenous + english_language + \n",
      "    father_occupation + mother_occupation + attendance_rate + \n",
      "    guardian + level\n"
     ]
    }
   ],
   "source": [
    "form <- as.formula(target %s+% \"~\" %s+% reffect %s+% \"+\" %s+% feffect) %T>% print()"
   ]
  },
  {
   "cell_type": "markdown",
   "metadata": {},
   "source": [
    "# Step 5: Build - Mixed Effect Regression Model\n",
    "\n",
    "Now we build a mixed effect regression model using the function 'lmer' from the R package 'lme4'."
   ]
  },
  {
   "cell_type": "code",
   "execution_count": 7,
   "metadata": {
    "attributes": {
     "classes": [],
     "error": "FALSE",
     "id": "",
     "message": "FALSE,",
     "warning": "FALSE,"
    },
    "collapsed": false
   },
   "outputs": [
    {
     "data": {
      "text/plain": [
       "Linear mixed model fit by REML ['lmerMod']\n",
       "Formula: \n",
       "score ~ (1 | student_id) + (1 | school_code) + indigenous + english_language +  \n",
       "    father_occupation + mother_occupation + attendance_rate +  \n",
       "    guardian + level\n",
       "   Data: ds\n",
       "REML criterion at convergence: 13566.48\n",
       "Random effects:\n",
       " Groups      Name        Std.Dev.\n",
       " student_id  (Intercept) 74.22   \n",
       " school_code (Intercept) 13.98   \n",
       " Residual                47.14   \n",
       "Number of obs: 1222, groups:  student_id, 380; school_code, 2\n",
       "Fixed Effects:\n",
       "              (Intercept)             indigenoustrue  \n",
       "                 314.9855                   -48.4786  \n",
       "     english_languagetrue    father_occupationhealth  \n",
       "                  19.2053                   -24.0325  \n",
       "   father_occupationother  father_occupationservices  \n",
       "                 -28.3204                   -30.4842  \n",
       " father_occupationteacher    mother_occupationhealth  \n",
       "                   4.1558                    51.3506  \n",
       "   mother_occupationother  mother_occupationservices  \n",
       "                   7.6443                    27.1775  \n",
       " mother_occupationteacher            attendance_rate  \n",
       "                  28.4483                   203.0815  \n",
       "            guardianmixed             guardianmother  \n",
       "                 -27.0913                    -1.0574  \n",
       "            guardianother                     level5  \n",
       "                 -20.9788                    61.4488  \n",
       "                   level7                     level9  \n",
       "                  -0.4535                    61.4016  "
      ]
     },
     "metadata": {},
     "output_type": "display_data"
    }
   ],
   "source": [
    "# Initialise random numbers for repeatable results.\n",
    "\n",
    "seed <- 123\n",
    "set.seed(seed)\n",
    "\n",
    "########################################################################\n",
    "# TRAIN MODEL\n",
    "\n",
    "# Train a mixed effect regression model.\n",
    "m.lmer <- lmer(form, data=ds)\n",
    "\n",
    "model <- m.lmer\n",
    "mtype <- \"lmer\"\n",
    "mdesc <- \"Linear Mixed Effect Model\"\n",
    "\n",
    "# Basic model summary.\n",
    "\n",
    "model"
   ]
  },
  {
   "cell_type": "markdown",
   "metadata": {},
   "source": [
    "The printed display of the model fit with lmer() has four major sections: a description of the model that was fit, some statistics characterizing the model fit, a summary of properties of the random effects and a summary of the fixed-effects parameter estimates. \n",
    "\n",
    "The description section states that this is a linear mixed model in which the parameters have been estimated as those that minimize the REML (Residual Maximum Likelihood) criterion. The formula and data arguments are displayed for later reference. \n",
    "\n",
    "The statistic describing the model fit is the value of the REML criterion, which is equal to 13566.48. This criterion is usually used to describe the model fit, where crossed random effects (1|r1)+(1|r2) exist. If your random effects are nested (1|r1/r2), or you have only one random effect, and if your data are balanced, you can use ML (Maximum Likelihood) criterion, which can be obtained by specifying the argument REML = FALSE in the lmer() function. \n",
    "\n",
    "The third section is the table of estimates of parameters associated with the random effects. There are three sources of variability in the model we have fit, a student-to-student variability, a school-to-school variability and the residual or per-observation variability. These variabilities are measured by standard deviations. The value of the standard deviation for random effect, like student or school, is important, because if it is indistinguishable from zero, then this random effect probably doesn't matter and you can delete it or go ahead and do a regular linear model instead. Here, we can actually delete the random effect for school.\n",
    "\n",
    "The last section shows the estimates of the fixed effect parameters. For example, the estimated parameter of english_languagetrue equal to 19.2053 means that the student who is an english native speaker has a higher probability in achieving a better test score.\n",
    "\n",
    "# Step 6: Evaluate \n",
    "\n",
    "We do model diagonosis by checking a set of goodness-of-fit measures, for example, residual plot and R-square. A residual plot without any trend or pattern and a R-square equal to 83% as shown in the below output roughly indicate a good initial model."
   ]
  },
  {
   "cell_type": "code",
   "execution_count": 9,
   "metadata": {
    "collapsed": false
   },
   "outputs": [
    {
     "data": {
      "image/png": "[encoded data removed]",
      "text/plain": [
       "plot without title"
      ]
     },
     "metadata": {},
     "output_type": "display_data"
    }
   ],
   "source": [
    "########################################################################\n",
    "# DIAGONOSE MODEL\n",
    "\n",
    "# Draw residual plot.\n",
    "\n",
    "m.res <- resid(model)\n",
    "m.fit <- fitted(model)\n",
    "plot(m.res ~ m.fit)"
   ]
  },
  {
   "cell_type": "code",
   "execution_count": 10,
   "metadata": {
    "collapsed": false
   },
   "outputs": [
    {
     "data": {
      "text/html": [
       "0.82908514228553"
      ],
      "text/latex": [
       "0.82908514228553"
      ],
      "text/markdown": [
       "0.82908514228553"
      ],
      "text/plain": [
       "[1] 0.8290851"
      ]
     },
     "metadata": {},
     "output_type": "display_data"
    }
   ],
   "source": [
    "# Calculate R-square.\n",
    "\n",
    "cor(m.fit, model@frame$score)^2"
   ]
  },
  {
   "cell_type": "code",
   "execution_count": 11,
   "metadata": {
    "attributes": {
     "classes": [],
     "error": "FALSE",
     "id": "",
     "message": "FALSE,",
     "warning": "FALSE,"
    },
    "collapsed": false
   },
   "outputs": [
    {
     "name": "stderr",
     "output_type": "stream",
     "text": [
      "\n",
      "Correlation matrix not shown by default, as p = 18 > 12.\n",
      "Use print(obj, correlation=TRUE)  or\n",
      "\t vcov(obj)\t if you need it\n",
      "\n"
     ]
    },
    {
     "data": {
      "text/plain": [
       "Linear mixed model fit by REML ['lmerMod']\n",
       "Formula: \n",
       "score ~ (1 | student_id) + (1 | school_code) + indigenous + english_language +  \n",
       "    father_occupation + mother_occupation + attendance_rate +  \n",
       "    guardian + level\n",
       "   Data: ds\n",
       "\n",
       "REML criterion at convergence: 13566.5\n",
       "\n",
       "Scaled residuals: \n",
       "    Min      1Q  Median      3Q     Max \n",
       "-3.1363 -0.5455 -0.0325  0.5519  3.9712 \n",
       "\n",
       "Random effects:\n",
       " Groups      Name        Variance Std.Dev.\n",
       " student_id  (Intercept) 5508.7   74.22   \n",
       " school_code (Intercept)  195.5   13.98   \n",
       " Residual                2221.9   47.14   \n",
       "Number of obs: 1222, groups:  student_id, 380; school_code, 2\n",
       "\n",
       "Fixed effects:\n",
       "                          Estimate Std. Error t value\n",
       "(Intercept)               314.9855    61.5294   5.119\n",
       "indigenoustrue            -48.4786    33.5530  -1.445\n",
       "english_languagetrue       19.2053    19.6396   0.978\n",
       "father_occupationhealth   -24.0325    28.4770  -0.844\n",
       "father_occupationother    -28.3204    20.8976  -1.355\n",
       "father_occupationservices -30.4842    21.5449  -1.415\n",
       "father_occupationteacher    4.1558    25.0300   0.166\n",
       "mother_occupationhealth    51.3506    18.1908   2.823\n",
       "mother_occupationother      7.6443    13.1932   0.579\n",
       "mother_occupationservices  27.1775    13.9698   1.945\n",
       "mother_occupationteacher   28.4483    15.5993   1.824\n",
       "attendance_rate           203.0815    56.3149   3.606\n",
       "guardianmixed             -27.0913    34.1323  -0.794\n",
       "guardianmother             -1.0574    10.2736  -0.103\n",
       "guardianother             -20.9788    21.8914  -0.958\n",
       "level5                     61.4488     3.9210  15.672\n",
       "level7                     -0.4535     3.9397  -0.115\n",
       "level9                     61.4016     3.9173  15.674"
      ]
     },
     "metadata": {},
     "output_type": "display_data"
    }
   ],
   "source": [
    "# Compare impact of effects.\n",
    "\n",
    "summary(model, cor=FALSE)"
   ]
  },
  {
   "cell_type": "markdown",
   "metadata": {},
   "source": [
    "# Step 7: Predict\n",
    "\n",
    "We pre-define the function lmeForecast() that we will use for forecasting. Within this function, we select the data which contains only final test score for each student and then use the trained model in Step 5 to predict on the selected data without taking student effect into account. The design of this function benefits in comparing overall student test scores across school corhorts."
   ]
  },
  {
   "cell_type": "code",
   "execution_count": 12,
   "metadata": {
    "attributes": {
     "classes": [],
     "error": "FALSE",
     "id": "",
     "message": "FALSE,",
     "warning": "FALSE,"
    },
    "collapsed": true
   },
   "outputs": [],
   "source": [
    "########################################################################\n",
    "# FORECAST\n",
    "\n",
    "# We define the function that we will use for forecasting.\n",
    "\n",
    "lmeForecast <- function(model, data) \n",
    "{\n",
    "  # variables in the functions: student_id, school_code, test_year, level, score.\n",
    "  # i.e., id, target, level\n",
    "  \n",
    "  require(dplyr)\n",
    "  require(lme4)\n",
    "  data <- data %>%\n",
    "    arrange(student_id, level) %>%\n",
    "    group_by(student_id) %>%\n",
    "    filter(row_number() == n(), # keep final test result for each student\n",
    "           level != \"9\") %>%  # but only if student is not already in year 9\n",
    "    do({\n",
    "      yearLevel <- as.numeric(as.character(.$level))[1]\n",
    "      year <- as.numeric(as.character(.$test_year))\n",
    "      newRows <- (9 - yearLevel)/2 + 1\n",
    "      out <- .[rep(1, newRows), ]\n",
    "      yearLevel <- seq(yearLevel, to=9, by=2)\n",
    "      out$test_year <- year + yearLevel - yearLevel[1]\n",
    "      out$level <- factor(yearLevel, levels=c(3, 5, 7, 9))\n",
    "      out\n",
    "    })\n",
    "  dim\n",
    "  \n",
    "  # get predicted scores without student effect\n",
    "  \n",
    "  data <- data.frame(data,\n",
    "                     pred=predict(model, data, allow.new.levels=TRUE, re.form=~(1|school_code)))\n",
    "  \n",
    "  # adjust predicted scores based on most recent test result, keep only forecasted rows\n",
    "  \n",
    "  left_join(data,\n",
    "            data %>%\n",
    "              group_by(student_id) %>%\n",
    "              summarise(adj=(score - pred)[1], n=n()),\n",
    "            by=\"student_id\") %>%\n",
    "    mutate(predictedScore=pred + adj, score=NA) %>%\n",
    "    group_by(student_id) %>%\n",
    "    select(-pred, -adj, -n) %>%\n",
    "    filter(row_number() != 1)\n",
    "}"
   ]
  },
  {
   "cell_type": "markdown",
   "metadata": {},
   "source": [
    "Finally, we can use the pre-defined function lmeForecast() to predict on a subset of observations in specific corhort and review the forecasting results."
   ]
  },
  {
   "cell_type": "code",
   "execution_count": 13,
   "metadata": {
    "attributes": {
     "classes": [],
     "error": "FALSE",
     "id": "",
     "message": "FALSE,",
     "warning": "FALSE,"
    },
    "collapsed": false
   },
   "outputs": [
    {
     "name": "stderr",
     "output_type": "stream",
     "text": [
      "Loading required package: dplyr\n",
      "\n",
      "Attaching package: 'dplyr'\n",
      "\n",
      "The following objects are masked from 'package:stats':\n",
      "\n",
      "    filter, lag\n",
      "\n",
      "The following objects are masked from 'package:base':\n",
      "\n",
      "    intersect, setdiff, setequal, union\n",
      "\n"
     ]
    },
    {
     "data": {
      "text/html": [
       "<table>\n",
       "<thead><tr><th scope=col>student_id</th><th scope=col>indigenous</th><th scope=col>english_language</th><th scope=col>father_occupation</th><th scope=col>mother_occupation</th><th scope=col>attendance_rate</th><th scope=col>guardian</th><th scope=col>level</th><th scope=col>score</th><th scope=col>test_year</th><th scope=col>school_code</th><th scope=col>predictedScore</th></tr></thead>\n",
       "<tbody>\n",
       "\t<tr><td>s00001   </td><td>false    </td><td>false    </td><td>other    </td><td>at_home  </td><td>0.9600000</td><td>mother   </td><td>5        </td><td>NA       </td><td>2011     </td><td>301      </td><td>547.4488 </td></tr>\n",
       "\t<tr><td>s00001   </td><td>false    </td><td>false    </td><td>other    </td><td>at_home  </td><td>0.9600000</td><td>mother   </td><td>7        </td><td>NA       </td><td>2013     </td><td>301      </td><td>485.5465 </td></tr>\n",
       "\t<tr><td>s00001   </td><td>false    </td><td>false    </td><td>other    </td><td>at_home  </td><td>0.9600000</td><td>mother   </td><td>9        </td><td>NA       </td><td>2015     </td><td>301      </td><td>547.4016 </td></tr>\n",
       "\t<tr><td>s00009   </td><td>false    </td><td>true     </td><td>other    </td><td>other    </td><td>0.8800000</td><td>father   </td><td>9        </td><td>NA       </td><td>2015     </td><td>301      </td><td>738.8551 </td></tr>\n",
       "\t<tr><td>s00014   </td><td>false    </td><td>true     </td><td>services </td><td>other    </td><td>1.0000000</td><td>father   </td><td>9        </td><td>NA       </td><td>2015     </td><td>301      </td><td>570.8551 </td></tr>\n",
       "\t<tr><td>s00016   </td><td>false    </td><td>true     </td><td>services </td><td>at_home  </td><td>0.9866667</td><td>mother   </td><td>9        </td><td>NA       </td><td>2015     </td><td>301      </td><td>701.8551 </td></tr>\n",
       "</tbody>\n",
       "</table>\n"
      ],
      "text/latex": [
       "\\begin{tabular}{r|llllllllllll}\n",
       " student\\_id & indigenous & english\\_language & father\\_occupation & mother\\_occupation & attendance\\_rate & guardian & level & score & test\\_year & school\\_code & predictedScore\\\\\n",
       "\\hline\n",
       "\t s00001    & false     & false     & other     & at\\_home & 0.9600000 & mother    & 5         & NA        & 2011      & 301       & 547.4488 \\\\\n",
       "\t s00001    & false     & false     & other     & at\\_home & 0.9600000 & mother    & 7         & NA        & 2013      & 301       & 485.5465 \\\\\n",
       "\t s00001    & false     & false     & other     & at\\_home & 0.9600000 & mother    & 9         & NA        & 2015      & 301       & 547.4016 \\\\\n",
       "\t s00009    & false     & true      & other     & other     & 0.8800000 & father    & 9         & NA        & 2015      & 301       & 738.8551 \\\\\n",
       "\t s00014    & false     & true      & services  & other     & 1.0000000 & father    & 9         & NA        & 2015      & 301       & 570.8551 \\\\\n",
       "\t s00016    & false     & true      & services  & at\\_home & 0.9866667 & mother    & 9         & NA        & 2015      & 301       & 701.8551 \\\\\n",
       "\\end{tabular}\n"
      ],
      "text/plain": [
       "  student_id indigenous english_language father_occupation mother_occupation\n",
       "1 s00001     false      false            other             at_home          \n",
       "2 s00001     false      false            other             at_home          \n",
       "3 s00001     false      false            other             at_home          \n",
       "4 s00009     false      true             other             other            \n",
       "5 s00014     false      true             services          other            \n",
       "6 s00016     false      true             services          at_home          \n",
       "  attendance_rate guardian level score test_year school_code predictedScore\n",
       "1 0.9600000       mother   5     NA    2011      301         547.4488      \n",
       "2 0.9600000       mother   7     NA    2013      301         485.5465      \n",
       "3 0.9600000       mother   9     NA    2015      301         547.4016      \n",
       "4 0.8800000       father   9     NA    2015      301         738.8551      \n",
       "5 1.0000000       father   9     NA    2015      301         570.8551      \n",
       "6 0.9866667       mother   9     NA    2015      301         701.8551      "
      ]
     },
     "metadata": {},
     "output_type": "display_data"
    },
    {
     "data": {
      "text/html": [
       "<table>\n",
       "<thead><tr><th scope=col>student_id</th><th scope=col>indigenous</th><th scope=col>english_language</th><th scope=col>father_occupation</th><th scope=col>mother_occupation</th><th scope=col>attendance_rate</th><th scope=col>guardian</th><th scope=col>level</th><th scope=col>score</th><th scope=col>test_year</th><th scope=col>school_code</th><th scope=col>predictedScore</th></tr></thead>\n",
       "<tbody>\n",
       "\t<tr><td>s00320   </td><td>false    </td><td>true     </td><td>other    </td><td>services </td><td>0.9466667</td><td>mother   </td><td>9        </td><td>NA       </td><td>2015     </td><td>301      </td><td>485.8551 </td></tr>\n",
       "\t<tr><td>s00322   </td><td>false    </td><td>true     </td><td>other    </td><td>teacher  </td><td>0.9133333</td><td>mother   </td><td>9        </td><td>NA       </td><td>2015     </td><td>301      </td><td>576.8551 </td></tr>\n",
       "\t<tr><td>s00331   </td><td>false    </td><td>true     </td><td>other    </td><td>other    </td><td>1.0000000</td><td>mother   </td><td>9        </td><td>NA       </td><td>2015     </td><td>301      </td><td>511.8551 </td></tr>\n",
       "\t<tr><td>s00333   </td><td>false    </td><td>true     </td><td>other    </td><td>other    </td><td>0.9866667</td><td>mother   </td><td>9        </td><td>NA       </td><td>2015     </td><td>301      </td><td>479.8551 </td></tr>\n",
       "\t<tr><td>s00339   </td><td>false    </td><td>true     </td><td>at_home  </td><td>services </td><td>0.9600000</td><td>mother   </td><td>9        </td><td>NA       </td><td>2015     </td><td>301      </td><td>497.8551 </td></tr>\n",
       "\t<tr><td>s00340   </td><td>false    </td><td>true     </td><td>at_home  </td><td>services </td><td>0.8933333</td><td>mother   </td><td>9        </td><td>NA       </td><td>2015     </td><td>301      </td><td>572.8551 </td></tr>\n",
       "</tbody>\n",
       "</table>\n"
      ],
      "text/latex": [
       "\\begin{tabular}{r|llllllllllll}\n",
       " student\\_id & indigenous & english\\_language & father\\_occupation & mother\\_occupation & attendance\\_rate & guardian & level & score & test\\_year & school\\_code & predictedScore\\\\\n",
       "\\hline\n",
       "\t s00320    & false     & true      & other     & services  & 0.9466667 & mother    & 9         & NA        & 2015      & 301       & 485.8551 \\\\\n",
       "\t s00322    & false     & true      & other     & teacher   & 0.9133333 & mother    & 9         & NA        & 2015      & 301       & 576.8551 \\\\\n",
       "\t s00331    & false     & true      & other     & other     & 1.0000000 & mother    & 9         & NA        & 2015      & 301       & 511.8551 \\\\\n",
       "\t s00333    & false     & true      & other     & other     & 0.9866667 & mother    & 9         & NA        & 2015      & 301       & 479.8551 \\\\\n",
       "\t s00339    & false     & true      & at\\_home & services  & 0.9600000 & mother    & 9         & NA        & 2015      & 301       & 497.8551 \\\\\n",
       "\t s00340    & false     & true      & at\\_home & services  & 0.8933333 & mother    & 9         & NA        & 2015      & 301       & 572.8551 \\\\\n",
       "\\end{tabular}\n"
      ],
      "text/plain": [
       "  student_id indigenous english_language father_occupation mother_occupation\n",
       "1 s00320     false      true             other             services         \n",
       "2 s00322     false      true             other             teacher          \n",
       "3 s00331     false      true             other             other            \n",
       "4 s00333     false      true             other             other            \n",
       "5 s00339     false      true             at_home           services         \n",
       "6 s00340     false      true             at_home           services         \n",
       "  attendance_rate guardian level score test_year school_code predictedScore\n",
       "1 0.9466667       mother   9     NA    2015      301         485.8551      \n",
       "2 0.9133333       mother   9     NA    2015      301         576.8551      \n",
       "3 1.0000000       mother   9     NA    2015      301         511.8551      \n",
       "4 0.9866667       mother   9     NA    2015      301         479.8551      \n",
       "5 0.9600000       mother   9     NA    2015      301         497.8551      \n",
       "6 0.8933333       mother   9     NA    2015      301         572.8551      "
      ]
     },
     "metadata": {},
     "output_type": "display_data"
    },
    {
     "data": {
      "text/plain": [
       "  student_id        indigenous english_language father_occupation\n",
       " Length:94          false:93   false: 5         at_home : 2      \n",
       " Class :character   true : 1   true :89         health  : 5      \n",
       " Mode  :character                               other   :57      \n",
       "                                                services:24      \n",
       "                                                teacher : 6      \n",
       "                                                                 \n",
       " mother_occupation attendance_rate    guardian  level   score        \n",
       " at_home :15       Min.   :0.7400   father:23   3: 0   Mode:logical  \n",
       " health  : 8       1st Qu.:0.9333   mixed : 0   5: 5   NA's:94       \n",
       " other   :36       Median :0.9600   mother:67   7:18                 \n",
       " services:21       Mean   :0.9472   other : 4   9:71                 \n",
       " teacher :14       3rd Qu.:0.9867                                    \n",
       "                   Max.   :1.0000                                    \n",
       "   test_year    school_code predictedScore \n",
       " Min.   :2011   301:94      Min.   :359.5  \n",
       " 1st Qu.:2015   302: 0      1st Qu.:492.2  \n",
       " Median :2015               Median :576.4  \n",
       " Mean   :2014               Mean   :573.7  \n",
       " 3rd Qu.:2015               3rd Qu.:648.5  \n",
       " Max.   :2015               Max.   :822.9  "
      ]
     },
     "metadata": {},
     "output_type": "display_data"
    }
   ],
   "source": [
    "# Select observations in specific corhort.\n",
    "\n",
    "testcohort <- subset(ds, school_code == \"301\")\n",
    "\n",
    "# Forecast for the data in the corhort.\n",
    "\n",
    "testcohort.fcast <- lmeForecast(model, testcohort)\n",
    "\n",
    "# Review forecasting result.\n",
    "\n",
    "head(testcohort.fcast)\n",
    "\n",
    "tail(testcohort.fcast)\n",
    "\n",
    "summary(testcohort.fcast)"
   ]
  },
  {
   "cell_type": "markdown",
   "metadata": {},
   "source": [
    "# Step 8: Finish Up - Save Model\n",
    "\n",
    "We save the model, together with the dataset and other variables, into a binary R file."
   ]
  },
  {
   "cell_type": "code",
   "execution_count": 14,
   "metadata": {
    "attributes": {
     "classes": [],
     "error": "FALSE",
     "id": "",
     "message": "FALSE,",
     "warning": "FALSE,"
    },
    "collapsed": false
   },
   "outputs": [
    {
     "data": {
      "text/html": [
       "'models/studentScoreAUS_lmer_20161220_160031.RData'"
      ],
      "text/latex": [
       "'models/studentScoreAUS\\_lmer\\_20161220\\_160031.RData'"
      ],
      "text/markdown": [
       "'models/studentScoreAUS_lmer_20161220_160031.RData'"
      ],
      "text/plain": [
       "[1] \"models/studentScoreAUS_lmer_20161220_160031.RData\""
      ]
     },
     "metadata": {},
     "output_type": "display_data"
    }
   ],
   "source": [
    "dname <- \"models\"\n",
    "if (! file.exists(dname)) dir.create(dname)\n",
    "time.stamp <- format(Sys.time(), \"%Y%m%d_%H%M%S\")\n",
    "fstem <- paste(dsname, mtype, time.stamp, sep=\"_\")\n",
    "(fname <- file.path(dname, sprintf(\"%s.RData\", fstem)))"
   ]
  },
  {
   "cell_type": "code",
   "execution_count": 15,
   "metadata": {
    "attributes": {
     "classes": [],
     "error": "FALSE",
     "id": "",
     "message": "FALSE,",
     "warning": "FALSE,"
    },
    "collapsed": true
   },
   "outputs": [],
   "source": [
    "save(ds, dsname, vars, target, ignore,\n",
    "form, nobs, seed, model, mtype, \n",
    "file=fname)"
   ]
  },
  {
   "cell_type": "markdown",
   "metadata": {},
   "source": [
    "We can then load this later and replicate the process."
   ]
  },
  {
   "cell_type": "code",
   "execution_count": 16,
   "metadata": {
    "attributes": {
     "classes": [],
     "error": "FALSE",
     "id": "",
     "message": "FALSE,",
     "warning": "FALSE,"
    },
    "collapsed": false
   },
   "outputs": [
    {
     "data": {
      "text/html": [
       "<ol class=list-inline>\n",
       "\t<li>'ds'</li>\n",
       "\t<li>'dsname'</li>\n",
       "\t<li>'vars'</li>\n",
       "\t<li>'target'</li>\n",
       "\t<li>'ignore'</li>\n",
       "\t<li>'form'</li>\n",
       "\t<li>'nobs'</li>\n",
       "\t<li>'seed'</li>\n",
       "\t<li>'model'</li>\n",
       "\t<li>'mtype'</li>\n",
       "</ol>\n"
      ],
      "text/latex": [
       "\\begin{enumerate*}\n",
       "\\item 'ds'\n",
       "\\item 'dsname'\n",
       "\\item 'vars'\n",
       "\\item 'target'\n",
       "\\item 'ignore'\n",
       "\\item 'form'\n",
       "\\item 'nobs'\n",
       "\\item 'seed'\n",
       "\\item 'model'\n",
       "\\item 'mtype'\n",
       "\\end{enumerate*}\n"
      ],
      "text/markdown": [
       "1. 'ds'\n",
       "2. 'dsname'\n",
       "3. 'vars'\n",
       "4. 'target'\n",
       "5. 'ignore'\n",
       "6. 'form'\n",
       "7. 'nobs'\n",
       "8. 'seed'\n",
       "9. 'model'\n",
       "10. 'mtype'\n",
       "\n",
       "\n"
      ],
      "text/plain": [
       " [1] \"ds\"     \"dsname\" \"vars\"   \"target\" \"ignore\" \"form\"   \"nobs\"   \"seed\"  \n",
       " [9] \"model\"  \"mtype\" "
      ]
     },
     "metadata": {},
     "output_type": "display_data"
    }
   ],
   "source": [
    "(load(fname))"
   ]
  },
  {
   "cell_type": "markdown",
   "metadata": {},
   "source": [
    "Note that by using generic variable names we can load different model files and perform common operations on them without changing the names within a script. However, do note that each time we load such a saved model file we overwrite any other variables of the same name."
   ]
  },
  {
   "cell_type": "code",
   "execution_count": null,
   "metadata": {
    "collapsed": true
   },
   "outputs": [],
   "source": []
  }
 ],
 "metadata": {
  "kernelspec": {
   "display_name": "R",
   "language": "R",
   "name": "ir"
  },
  "language_info": {
   "codemirror_mode": "r",
   "file_extension": ".r",
   "mimetype": "text/x-r-source",
   "name": "R",
   "pygments_lexer": "r",
   "version": "3.2.5"
  }
 },
 "nbformat": 4,
 "nbformat_minor": 1
}

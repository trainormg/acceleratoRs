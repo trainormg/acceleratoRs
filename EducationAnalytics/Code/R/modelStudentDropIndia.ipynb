{
 "cells": [
  {
   "cell_type": "markdown",
   "metadata": {},
   "source": [
    "---\n",
    "title: \"Data Science Design Pattern for Student Drop Out\"\n",
    "author: \"Microsoft\"\n",
    "output: \n",
    "    rmarkdown::html_vignette:\n",
    "        toc: true\n",
    "\n",
    "vignette: >\n",
    "  %\\VignetteIndexEntry{Vignette Title}\n",
    "  %\\VignetteEngine{knitr::rmarkdown}\n",
    "  %\\VignetteEncoding{UTF-8}\n",
    "---"
   ]
  },
  {
   "cell_type": "code",
   "execution_count": 2,
   "metadata": {
    "attributes": {
     "classes": [],
     "echo": "FALSE",
     "id": ""
    },
    "collapsed": false
   },
   "outputs": [],
   "source": [
    "\n",
    "knitr::opts_chunk$set(fig.width = 6,\n",
    "                      fig.height = 4,\n",
    "                      fig.align='center',\n",
    "                      dev = \"png\")\n"
   ]
  },
  {
   "cell_type": "markdown",
   "metadata": {},
   "source": [
    "# Introducation\n",
    "\n",
    "Welcome to the Data Science Design Pattern for Student Drop Out. This pattern provides a starting point for the data scientist exploring a new dataset. By no means is it the end point of the data science journey. The pattern is under regular revision and improvement and is provided as is. \n",
    "\n",
    "We now introduce a generic pattern for building multiple binary classification models using R.\n",
    "\n",
    "# Pre-configuration\n",
    "\n",
    "We load the R packages required for modelling."
   ]
  },
  {
   "cell_type": "code",
   "execution_count": 3,
   "metadata": {
    "attributes": {
     "classes": [],
     "error": "FALSE",
     "id": "",
     "message": "FALSE,",
     "warning": "FALSE,"
    },
    "collapsed": false
   },
   "outputs": [
    {
     "name": "stderr",
     "output_type": "stream",
     "text": [
      "Rattle: A free graphical interface for data mining with R.\n",
      "Version 4.1.0 Copyright (c) 2006-2015 Togaware Pty Ltd.\n",
      "Type 'rattle()' to shake, rattle, and roll your data.\n",
      "Loading required package: BBmisc\n",
      "Loading required package: ggplot2\n",
      "Loading required package: ParamHelpers\n",
      "Loading required package: foreach\n",
      "Loading required package: doParallel\n",
      "Loading required package: iterators\n",
      "Loading required package: parallel\n",
      "randomForest 4.6-12\n",
      "Type rfNews() to see new features/changes/bug fixes.\n",
      "\n",
      "Attaching package: 'randomForest'\n",
      "\n",
      "The following object is masked from 'package:ggplot2':\n",
      "\n",
      "    margin\n",
      "\n",
      "Loading required package: grid\n",
      "\n",
      "Attaching package: 'grid'\n",
      "\n",
      "The following object is masked from 'package:BBmisc':\n",
      "\n",
      "    explode\n",
      "\n",
      "Loading required package: mvtnorm\n",
      "Loading required package: modeltools\n",
      "Loading required package: stats4\n",
      "Loading required package: strucchange\n",
      "Loading required package: zoo\n",
      "\n",
      "Attaching package: 'zoo'\n",
      "\n",
      "The following objects are masked from 'package:base':\n",
      "\n",
      "    as.Date, as.Date.numeric\n",
      "\n",
      "Loading required package: sandwich\n",
      "\n",
      "Attaching package: 'e1071'\n",
      "\n",
      "The following object is masked from 'package:mlr':\n",
      "\n",
      "    impute\n",
      "\n",
      "Loading required package: lattice\n",
      "\n",
      "Attaching package: 'caret'\n",
      "\n",
      "The following object is masked from 'package:mlr':\n",
      "\n",
      "    train\n",
      "\n",
      "Loading required package: gplots\n",
      "\n",
      "Attaching package: 'gplots'\n",
      "\n",
      "The following object is masked from 'package:stats':\n",
      "\n",
      "    lowess\n",
      "\n",
      "\n",
      "Attaching package: 'ROCR'\n",
      "\n",
      "The following object is masked from 'package:mlr':\n",
      "\n",
      "    performance\n",
      "\n"
     ]
    }
   ],
   "source": [
    "########################################################################\n",
    "# R SETUP\n",
    "\n",
    "# Load required packages from local library into R.\n",
    "\n",
    "library(magrittr)     # Data pipelines: %>% %T>% %<>%.\n",
    "library(stringi)      # String operator: %s+%.\n",
    "library(rattle)       # Evaluate using riskchart().\n",
    "library(mlr)          # Dependency of unbalanced.\n",
    "library(unbalanced)   # Resampling using ubSMOTE.\n",
    "library(rpart)        # Model: decision tree.\n",
    "library(rpart.plot)   # Draw fancyRpartPlot().\n",
    "library(randomForest) # Model: random forest.\n",
    "library(ada)          # Model: ada boosting.\n",
    "library(party)        # Model: ctree and cforest.\n",
    "library(e1071)        # Model: support vector machine.\n",
    "library(nnet)         # Model: neural network.\n",
    "library(Matrix)       # Construct a Matrix of a class that inherits from Matrix.\n",
    "library(caret)        # Tune model hyper-parameters.\n",
    "library(xgboost)      # Model: extreme gradiant boosting.\n",
    "library(Ckmeans.1d.dp)# Plot feature importance using xgb.plot.importance.\n",
    "library(DiagrammeR)   # Plot xgboost tree using xgb.plot.tree.\n",
    "library(ROCR)         # Use prediction() for evaluation.\n",
    "library(pROC)         # Use auc() for evaluation. \n",
    "library(ggplot2)      # Visually evaluate performance."
   ]
  },
  {
   "cell_type": "markdown",
   "metadata": {},
   "source": [
    "# Step 4.4: Re-load Dataset\n",
    "\n",
    "In the Data template we loaded the studentDropIndia dataset, processed it, and saved it to file. Here we re-load the dataset and review its contents. In addition, we define some support functions for evaluation."
   ]
  },
  {
   "cell_type": "code",
   "execution_count": 4,
   "metadata": {
    "attributes": {
     "classes": [],
     "error": "FALSE",
     "id": "",
     "message": "FALSE,",
     "warning": "FALSE,"
    },
    "collapsed": false
   },
   "outputs": [
    {
     "name": "stdout",
     "output_type": "stream",
     "text": [
      "[1] \"data/studentDropIndia_20161215.RData\"\n"
     ]
    }
   ],
   "source": [
    "########################################################################\n",
    "# DATA INGESTION\n",
    "\n",
    "# Identify the dataset.\n",
    "\n",
    "dsname <- \"studentDropIndia\"\n",
    "\n",
    "# We define some support functions that we often find useful.\n",
    "\n",
    "evaluateModel <- function(data, observed, predicted) \n",
    "{ \n",
    "  # Calculate the confusion matrix\n",
    "  \n",
    "  confusion <- table(data[[observed]], data[[predicted]], dnn=c(\"Observed\", \"Predicted\"))\n",
    "  confusion %>% print()\n",
    "  \n",
    "  # Calculate the performance metrics\n",
    "  \n",
    "  tp <- confusion[rownames(confusion) == 1, colnames(confusion) == 1]\n",
    "  fn <- confusion[rownames(confusion) == 1, colnames(confusion) == 0]\n",
    "  fp <- confusion[rownames(confusion) == 0, colnames(confusion) == 1]\n",
    "  tn <- confusion[rownames(confusion) == 0, colnames(confusion) == 0]\n",
    "  \n",
    "  accuracy <- (tp + tn) / (tp + fn + fp + tn)\n",
    "  precision <- tp / (tp + fp)\n",
    "  recall <- tp / (tp + fn)\n",
    "  fscore <- 2 * (precision * recall) / (precision + recall)\n",
    "  \n",
    "  # Construct the vector of performance metrics\n",
    "  \n",
    "  metrics <- c(\"Accuracy\" = accuracy,\n",
    "               \"Precision\" = precision,\n",
    "               \"Recall\" = recall,\n",
    "               \"F-Score\" = fscore)\n",
    "  \n",
    "  # Return the vector of performance metrics\n",
    "  \n",
    "  return(metrics)\n",
    "}\n",
    "\n",
    "rocChart <- function(pr, target)\n",
    "{\n",
    "  # Calculate the true positive and the false positive rates.\n",
    "  \n",
    "  rates <- pr %>%\n",
    "    prediction(target) %>%\n",
    "    performance(\"tpr\", \"fpr\")\n",
    "  \n",
    "  # Calulcate the AUC.\n",
    "  \n",
    "  auc <- pr %>%\n",
    "    prediction(target) %>%\n",
    "    performance(\"auc\") %>%\n",
    "    attr(\"y.values\") %>%\n",
    "    extract2(1)\n",
    "  \n",
    "  # Construct the plot.\n",
    "  \n",
    "  pl <- data.frame(tpr=attr(rates, \"y.values\")[[1]], \n",
    "                   fpr=attr(rates, \"x.values\")[[1]]) %>%\n",
    "    ggplot(aes(fpr, tpr)) +\n",
    "    geom_line() +\n",
    "    annotate(\"text\", x=0.875, y=0.125, vjust=0,\n",
    "             label=paste(\"AUC =\", round(100*auc, 2)), \n",
    "             family=\"xkcd\") +\n",
    "    xlab(\"False Positive Rate (1-Specificity)\") +\n",
    "    ylab(\"True Positive Rate (Sensitivity)\")\n",
    "  \n",
    "  # Return the plot object.\n",
    "  \n",
    "  return(pl)\n",
    "}\n",
    "\n",
    "# Identify the dataset to load.\n",
    "\n",
    "fpath  <- \"data\"\n",
    "dsdate <- \"_\" %s+% \"20161215\"\n",
    "\n",
    "# Filename of the saved dataset.\n",
    "\n",
    "dsrdata <-\n",
    "  file.path(fpath, dsname %s+% dsdate %s+% \".RData\") %T>% \n",
    "  print()"
   ]
  },
  {
   "cell_type": "code",
   "execution_count": 5,
   "metadata": {
    "attributes": {
     "classes": [],
     "error": "FALSE",
     "id": "",
     "message": "FALSE,",
     "warning": "FALSE,"
    },
    "collapsed": false
   },
   "outputs": [
    {
     "name": "stdout",
     "output_type": "stream",
     "text": [
      " [1] \"ds\"     \"dsname\" \"dspath\" \"dsdate\" \"nobs\"   \"vars\"   \"target\" \"id\"    \n",
      " [9] \"ignore\" \"omit\"   \"inputi\" \"inputs\" \"numi\"   \"numc\"   \"cati\"   \"catc\"  \n"
     ]
    }
   ],
   "source": [
    "# Load the R objects from file and list them.\n",
    "\n",
    "load(dsrdata) %>% print()"
   ]
  },
  {
   "cell_type": "code",
   "execution_count": 6,
   "metadata": {
    "attributes": {
     "classes": [],
     "error": "FALSE",
     "id": "",
     "message": "FALSE,",
     "warning": "FALSE,"
    },
    "collapsed": false
   },
   "outputs": [
    {
     "data": {
      "text/html": [
       "'studentDropIndia'"
      ],
      "text/latex": [
       "'studentDropIndia'"
      ],
      "text/markdown": [
       "'studentDropIndia'"
      ],
      "text/plain": [
       "[1] \"studentDropIndia\""
      ]
     },
     "metadata": {},
     "output_type": "display_data"
    },
    {
     "data": {
      "text/html": [
       "'C:/Users/zhouf/Documents/Revolution Analytics/Projects/Education2/Demo/studentDropIndia_20161215.csv'"
      ],
      "text/latex": [
       "'C:/Users/zhouf/Documents/Revolution Analytics/Projects/Education2/Demo/studentDropIndia\\_20161215.csv'"
      ],
      "text/markdown": [
       "'C:/Users/zhouf/Documents/Revolution Analytics/Projects/Education2/Demo/studentDropIndia_20161215.csv'"
      ],
      "text/plain": [
       "[1] \"C:/Users/zhouf/Documents/Revolution Analytics/Projects/Education2/Demo/studentDropIndia_20161215.csv\""
      ]
     },
     "metadata": {},
     "output_type": "display_data"
    },
    {
     "data": {
      "text/html": [
       "'_20161215'"
      ],
      "text/latex": [
       "'\\_20161215'"
      ],
      "text/markdown": [
       "'_20161215'"
      ],
      "text/plain": [
       "[1] \"_20161215\""
      ]
     },
     "metadata": {},
     "output_type": "display_data"
    },
    {
     "data": {
      "text/html": [
       "19100"
      ],
      "text/latex": [
       "19100"
      ],
      "text/markdown": [
       "19100"
      ],
      "text/plain": [
       "[1] 19100"
      ]
     },
     "metadata": {},
     "output_type": "display_data"
    },
    {
     "data": {
      "text/html": [
       "<ol class=list-inline>\n",
       "\t<li>'continue_drop'</li>\n",
       "\t<li>'gender'</li>\n",
       "\t<li>'caste'</li>\n",
       "\t<li>'mathematics_marks'</li>\n",
       "\t<li>'english_marks'</li>\n",
       "\t<li>'science_marks'</li>\n",
       "\t<li>'science_teacher'</li>\n",
       "\t<li>'languages_teacher'</li>\n",
       "\t<li>'guardian'</li>\n",
       "\t<li>'internet'</li>\n",
       "\t<li>'total_students'</li>\n",
       "\t<li>'total_toilets'</li>\n",
       "\t<li>'establishment_year'</li>\n",
       "</ol>\n"
      ],
      "text/latex": [
       "\\begin{enumerate*}\n",
       "\\item 'continue\\_drop'\n",
       "\\item 'gender'\n",
       "\\item 'caste'\n",
       "\\item 'mathematics\\_marks'\n",
       "\\item 'english\\_marks'\n",
       "\\item 'science\\_marks'\n",
       "\\item 'science\\_teacher'\n",
       "\\item 'languages\\_teacher'\n",
       "\\item 'guardian'\n",
       "\\item 'internet'\n",
       "\\item 'total\\_students'\n",
       "\\item 'total\\_toilets'\n",
       "\\item 'establishment\\_year'\n",
       "\\end{enumerate*}\n"
      ],
      "text/markdown": [
       "1. 'continue_drop'\n",
       "2. 'gender'\n",
       "3. 'caste'\n",
       "4. 'mathematics_marks'\n",
       "5. 'english_marks'\n",
       "6. 'science_marks'\n",
       "7. 'science_teacher'\n",
       "8. 'languages_teacher'\n",
       "9. 'guardian'\n",
       "10. 'internet'\n",
       "11. 'total_students'\n",
       "12. 'total_toilets'\n",
       "13. 'establishment_year'\n",
       "\n",
       "\n"
      ],
      "text/plain": [
       " [1] \"continue_drop\"      \"gender\"             \"caste\"             \n",
       " [4] \"mathematics_marks\"  \"english_marks\"      \"science_marks\"     \n",
       " [7] \"science_teacher\"    \"languages_teacher\"  \"guardian\"          \n",
       "[10] \"internet\"           \"total_students\"     \"total_toilets\"     \n",
       "[13] \"establishment_year\""
      ]
     },
     "metadata": {},
     "output_type": "display_data"
    },
    {
     "data": {
      "text/html": [
       "'continue_drop'"
      ],
      "text/latex": [
       "'continue\\_drop'"
      ],
      "text/markdown": [
       "'continue_drop'"
      ],
      "text/plain": [
       "[1] \"continue_drop\""
      ]
     },
     "metadata": {},
     "output_type": "display_data"
    },
    {
     "data": {
      "text/html": [
       "<ol class=list-inline>\n",
       "\t<li>'student_id'</li>\n",
       "\t<li>'school_id'</li>\n",
       "</ol>\n"
      ],
      "text/latex": [
       "\\begin{enumerate*}\n",
       "\\item 'student\\_id'\n",
       "\\item 'school\\_id'\n",
       "\\end{enumerate*}\n"
      ],
      "text/markdown": [
       "1. 'student_id'\n",
       "2. 'school_id'\n",
       "\n",
       "\n"
      ],
      "text/plain": [
       "[1] \"student_id\" \"school_id\" "
      ]
     },
     "metadata": {},
     "output_type": "display_data"
    },
    {
     "data": {
      "text/html": [
       "<ol class=list-inline>\n",
       "\t<li>'student_id'</li>\n",
       "\t<li>'school_id'</li>\n",
       "</ol>\n"
      ],
      "text/latex": [
       "\\begin{enumerate*}\n",
       "\\item 'student\\_id'\n",
       "\\item 'school\\_id'\n",
       "\\end{enumerate*}\n"
      ],
      "text/markdown": [
       "1. 'student_id'\n",
       "2. 'school_id'\n",
       "\n",
       "\n"
      ],
      "text/plain": [
       "[1] \"student_id\" \"school_id\" "
      ]
     },
     "metadata": {},
     "output_type": "display_data"
    },
    {
     "data": {
      "text/plain": [
       "NULL"
      ]
     },
     "metadata": {},
     "output_type": "display_data"
    }
   ],
   "source": [
    "# Review the metadata.\n",
    "\n",
    "dsname\n",
    "dspath\n",
    "dsdate\n",
    "nobs\n",
    "vars\n",
    "target\n",
    "id\n",
    "ignore\n",
    "omit"
   ]
  },
  {
   "cell_type": "markdown",
   "metadata": {},
   "source": [
    "# Step 4.5: Prepare - Formula to Describe the Goal\n",
    "\n",
    "We continue on from the Data module where we had Steps 1, 2, and 3 and the beginnings of Step 4 of a data mining process.\n",
    "\n",
    "The next step is to describe the model to be built by way of writing a formula to capture our intent. The formula describes the model to be built as being constructed to predict the target variable based on the other (suitable) variables available in the dataset. The notation used to express this is to name the target (continue_drop), followed by a tilde (~) followed by a period (.) to represent all other variables (these variables will be listed in vars in our case)."
   ]
  },
  {
   "cell_type": "code",
   "execution_count": 7,
   "metadata": {
    "attributes": {
     "classes": [],
     "error": "FALSE",
     "id": "",
     "message": "FALSE,",
     "warning": "FALSE,"
    },
    "collapsed": false
   },
   "outputs": [
    {
     "name": "stdout",
     "output_type": "stream",
     "text": [
      "continue_drop ~ gender + caste + mathematics_marks + english_marks + \n",
      "    science_marks + science_teacher + languages_teacher + guardian + \n",
      "    internet + total_students + total_toilets + establishment_year\n",
      "<environment: 0x000000001e5e2c90>\n"
     ]
    }
   ],
   "source": [
    "########################################################################\n",
    "# PREPARE FOR MODELLING\n",
    "\n",
    "# Formula for modelling.\n",
    "\n",
    "form <- ds[vars] %>% formula() %T>% print()"
   ]
  },
  {
   "cell_type": "markdown",
   "metadata": {},
   "source": [
    "A common methodology for model building is to randomly partition the available data into a training dataset and testing dataset. We sometimes also introducing a third dataset called the validation dataset, used during the building of the model, but for now we will use just the two.\n",
    "\n",
    "First we (optionally) initiate the random number sequence with a randomly selected seed, and report what the seed is so that we could repeat the experiments presented here if required. For consistency in this module we use a particular seed of 123.\n",
    "\n",
    "Next we partition the dataset into two subsets. The first is a 70% random sample for building the model (the training dataset) and the second is the remainder, used to evaluate the performance of the model (the testing dataset)."
   ]
  },
  {
   "cell_type": "code",
   "execution_count": 8,
   "metadata": {
    "attributes": {
     "classes": [],
     "error": "FALSE",
     "id": "",
     "message": "FALSE,",
     "warning": "FALSE,"
    },
    "collapsed": false
   },
   "outputs": [
    {
     "name": "stdout",
     "output_type": "stream",
     "text": [
      "[1] 13370\n"
     ]
    },
    {
     "data": {
      "text/html": [
       "<ol class=list-inline>\n",
       "\t<li>5493</li>\n",
       "\t<li>15056</li>\n",
       "\t<li>7811</li>\n",
       "\t<li>16863</li>\n",
       "\t<li>17960</li>\n",
       "\t<li>870</li>\n",
       "</ol>\n"
      ],
      "text/latex": [
       "\\begin{enumerate*}\n",
       "\\item 5493\n",
       "\\item 15056\n",
       "\\item 7811\n",
       "\\item 16863\n",
       "\\item 17960\n",
       "\\item 870\n",
       "\\end{enumerate*}\n"
      ],
      "text/markdown": [
       "1. 5493\n",
       "2. 15056\n",
       "3. 7811\n",
       "4. 16863\n",
       "5. 17960\n",
       "6. 870\n",
       "\n",
       "\n"
      ],
      "text/plain": [
       "[1]  5493 15056  7811 16863 17960   870"
      ]
     },
     "metadata": {},
     "output_type": "display_data"
    },
    {
     "name": "stdout",
     "output_type": "stream",
     "text": [
      "[1] 5730\n"
     ]
    },
    {
     "data": {
      "text/html": [
       "<ol class=list-inline>\n",
       "\t<li>2</li>\n",
       "\t<li>3</li>\n",
       "\t<li>6</li>\n",
       "\t<li>15</li>\n",
       "\t<li>16</li>\n",
       "\t<li>17</li>\n",
       "</ol>\n"
      ],
      "text/latex": [
       "\\begin{enumerate*}\n",
       "\\item 2\n",
       "\\item 3\n",
       "\\item 6\n",
       "\\item 15\n",
       "\\item 16\n",
       "\\item 17\n",
       "\\end{enumerate*}\n"
      ],
      "text/markdown": [
       "1. 2\n",
       "2. 3\n",
       "3. 6\n",
       "4. 15\n",
       "5. 16\n",
       "6. 17\n",
       "\n",
       "\n"
      ],
      "text/plain": [
       "[1]  2  3  6 15 16 17"
      ]
     },
     "metadata": {},
     "output_type": "display_data"
    }
   ],
   "source": [
    "# Initialise random numbers for repeatable results.\n",
    "\n",
    "seed <- 123\n",
    "set.seed(seed)\n",
    "\n",
    "# Partition the full dataset into two.\n",
    "\n",
    "train <- \n",
    "  sample(nobs, 0.70*nobs) %T>% \n",
    "  {length(.) %>% print()}\n",
    "\n",
    "head(train)\n",
    "\n",
    "test <- \n",
    "  seq_len(nobs) %>%\n",
    "  setdiff(train) %T>%\n",
    "  {length(.) %>% print()}\n",
    "\n",
    "head(test)"
   ]
  },
  {
   "cell_type": "markdown",
   "metadata": {},
   "source": [
    "# Step 5: Resampling - Rebalancing the Proportion of Minority over Majority (Optional)\n",
    "\n",
    "Since the proportion of minority class (student dropping-out) is around 5% among the whole dataset, we here implement the SMOTE on the training dataset by using the function ubSMOTE from the R package “unbalanced”. This yields a dropping-out proportion of 23% among all the training data. By using the training dataset after SMOTE as the modeling input, we can greatly improve the model performance, especially when applying some of the algorithms not suitable for unbalanced data."
   ]
  },
  {
   "cell_type": "code",
   "execution_count": 9,
   "metadata": {
    "attributes": {
     "classes": [],
     "error": "FALSE",
     "id": "",
     "message": "FALSE,",
     "warning": "FALSE,"
    },
    "collapsed": false
   },
   "outputs": [
    {
     "data": {
      "text/plain": [
       "\n",
       "        0         1 \n",
       "0.7692308 0.2307692 "
      ]
     },
     "metadata": {},
     "output_type": "display_data"
    }
   ],
   "source": [
    "# Rebalance the training dataset.\n",
    "\n",
    "traindata <- as.data.frame(ds[train, inputs])\n",
    "traintarget <- as.factor(as.numeric(as.data.frame(ds[train, target])[[1]])-1)\n",
    "\n",
    "smote <- ubSMOTE(X=traindata, Y=traintarget,\n",
    "                 perc.over=200, perc.under=500,\n",
    "                 k=3, verbose=TRUE) \n",
    "\n",
    "trainsmote <- cbind(smote$X, smote$Y)\n",
    "names(trainsmote)[names(trainsmote) == \"smote$Y\"] <- \"continue_drop\"\n",
    "\n",
    "traindata <- trainsmote\n",
    "\n",
    "# Check the dropping-out proportion\n",
    "\n",
    "table(traindata$continue_drop)/nrow(traindata)"
   ]
  },
  {
   "cell_type": "markdown",
   "metadata": {},
   "source": [
    "# Step 6.1: Build - Decision Tree Model\n",
    "\n",
    "The commonly used classification model builders include rpart() decision tree, randomForest() random forest, ada() stochastic boosting, ect. Now we build an rpart() decision tree, as a baseline model builder. Note that our models from now on are all built on the original training dataset in the purpose of demonstration."
   ]
  },
  {
   "cell_type": "code",
   "execution_count": 10,
   "metadata": {
    "attributes": {
     "classes": [],
     "error": "FALSE",
     "id": "",
     "message": "FALSE,",
     "warning": "FALSE,"
    },
    "collapsed": false
   },
   "outputs": [
    {
     "data": {
      "text/plain": [
       "   user  system elapsed \n",
       "   0.17    0.00    0.18 "
      ]
     },
     "metadata": {},
     "output_type": "display_data"
    },
    {
     "data": {
      "text/plain": [
       "n= 13370 \n",
       "\n",
       "node), split, n, loss, yval, (yprob)\n",
       "      * denotes terminal node\n",
       "\n",
       " 1) root 13370 645 continue (0.95175767 0.04824233)  \n",
       "   2) english_marks< 0.9975 13334 609 continue (0.95432728 0.04567272)  \n",
       "     4) science_teacher< 5.5 9625 244 continue (0.97464935 0.02535065) *\n",
       "     5) science_teacher>=5.5 3709 365 continue (0.90159073 0.09840927)  \n",
       "      10) english_marks>=0.228 3671 327 continue (0.91092345 0.08907655) *\n",
       "      11) english_marks< 0.228 38   0 drop (0.00000000 1.00000000) *\n",
       "   3) english_marks>=0.9975 36   0 drop (0.00000000 1.00000000) *"
      ]
     },
     "metadata": {},
     "output_type": "display_data"
    }
   ],
   "source": [
    "# Train model: rpart\n",
    "\n",
    "ctrl <- rpart.control(maxdepth=3)\n",
    "system.time(m.rp <- rpart(form, ds[train, vars], control=ctrl))\n",
    "m.rp"
   ]
  },
  {
   "cell_type": "code",
   "execution_count": 11,
   "metadata": {
    "attributes": {
     "classes": [],
     "error": "FALSE",
     "id": "",
     "message": "FALSE,",
     "warning": "FALSE,"
    },
    "collapsed": true
   },
   "outputs": [],
   "source": [
    "# Record the type of the model for later use.\n",
    "\n",
    "mtype <- \"rpart\" "
   ]
  },
  {
   "cell_type": "markdown",
   "metadata": {},
   "source": [
    "We can also draw the model."
   ]
  },
  {
   "cell_type": "code",
   "execution_count": 12,
   "metadata": {
    "attributes": {
     "classes": [],
     "error": "FALSE",
     "id": "",
     "message": "FALSE,",
     "warning": "FALSE,"
    },
    "collapsed": false
   },
   "outputs": [
    {
     "data": {
      "image/png": "[encoded data removed]",
      "text/plain": [
       "Plot with title \"\""
      ]
     },
     "metadata": {},
     "output_type": "display_data"
    }
   ],
   "source": [
    "fancyRpartPlot(m.rp)"
   ]
  },
  {
   "cell_type": "markdown",
   "metadata": {},
   "source": [
    "# Step 6.2: Evaluate - Decision Tree Model\n",
    "\n",
    "As we have noted though, performing any evaluation on the training dataset provides a biased estimate of the actual performance. We must instead evaluate the performance of our models on a previously unseen dataset (at least unseen by the algorithm building the model).\n",
    "\n",
    "So we now evaluate the model performance on the testing dataset."
   ]
  },
  {
   "cell_type": "code",
   "execution_count": 13,
   "metadata": {
    "attributes": {
     "classes": [],
     "error": "FALSE",
     "id": "",
     "message": "FALSE,",
     "warning": "FALSE,"
    },
    "collapsed": false
   },
   "outputs": [
    {
     "data": {
      "text/html": [
       "<table>\n",
       "<thead><tr><th></th><th scope=col>continue_drop</th><th scope=col>gender</th><th scope=col>caste</th><th scope=col>mathematics_marks</th><th scope=col>english_marks</th><th scope=col>science_marks</th><th scope=col>science_teacher</th><th scope=col>languages_teacher</th><th scope=col>guardian</th><th scope=col>internet</th><th scope=col>total_students</th><th scope=col>total_toilets</th><th scope=col>establishment_year</th><th scope=col>rpart_prediction</th><th scope=col>rpart_probability</th></tr></thead>\n",
       "<tbody>\n",
       "\t<tr><th scope=row>2</th><td>continue  </td><td>f         </td><td>bc        </td><td>0.290     </td><td>0.512     </td><td>0.290     </td><td>4         </td><td> 7        </td><td>mother    </td><td>true      </td><td>356       </td><td>14        </td><td>1943      </td><td>0         </td><td>0.02535065</td></tr>\n",
       "\t<tr><th scope=row>3</th><td>continue  </td><td>f         </td><td>oc        </td><td>0.602     </td><td>0.666     </td><td>0.602     </td><td>4         </td><td> 2        </td><td>mother    </td><td>false     </td><td>179       </td><td> 8        </td><td>1955      </td><td>0         </td><td>0.02535065</td></tr>\n",
       "\t<tr><th scope=row>6</th><td>continue  </td><td>f         </td><td>bc        </td><td>0.594     </td><td>0.519     </td><td>0.594     </td><td>4         </td><td> 8        </td><td>mother    </td><td>true      </td><td>335       </td><td>43        </td><td>1916      </td><td>0         </td><td>0.02535065</td></tr>\n",
       "\t<tr><th scope=row>15</th><td>continue  </td><td>f         </td><td>bc        </td><td>0.461     </td><td>0.524     </td><td>0.461     </td><td>0         </td><td> 3        </td><td>mother    </td><td>true      </td><td>469       </td><td>14        </td><td>1905      </td><td>0         </td><td>0.02535065</td></tr>\n",
       "\t<tr><th scope=row>16</th><td>continue  </td><td>f         </td><td>oc        </td><td>0.742     </td><td>0.672     </td><td>0.742     </td><td>3         </td><td>12        </td><td>mother    </td><td>true      </td><td>132       </td><td>14        </td><td>1996      </td><td>0         </td><td>0.02535065</td></tr>\n",
       "\t<tr><th scope=row>17</th><td>drop      </td><td>f         </td><td>bc        </td><td>0.503     </td><td>0.523     </td><td>0.503     </td><td>9         </td><td> 0        </td><td>father    </td><td>true      </td><td>397       </td><td> 5        </td><td>1950      </td><td>0         </td><td>0.08907655</td></tr>\n",
       "</tbody>\n",
       "</table>\n"
      ],
      "text/latex": [
       "\\begin{tabular}{r|lllllllllllllll}\n",
       "  & continue\\_drop & gender & caste & mathematics\\_marks & english\\_marks & science\\_marks & science\\_teacher & languages\\_teacher & guardian & internet & total\\_students & total\\_toilets & establishment\\_year & rpart\\_prediction & rpart\\_probability\\\\\n",
       "\\hline\n",
       "\t2 & continue   & f          & bc         & 0.290      & 0.512      & 0.290      & 4          &  7         & mother     & true       & 356        & 14         & 1943       & 0          & 0.02535065\\\\\n",
       "\t3 & continue   & f          & oc         & 0.602      & 0.666      & 0.602      & 4          &  2         & mother     & false      & 179        &  8         & 1955       & 0          & 0.02535065\\\\\n",
       "\t6 & continue   & f          & bc         & 0.594      & 0.519      & 0.594      & 4          &  8         & mother     & true       & 335        & 43         & 1916       & 0          & 0.02535065\\\\\n",
       "\t15 & continue   & f          & bc         & 0.461      & 0.524      & 0.461      & 0          &  3         & mother     & true       & 469        & 14         & 1905       & 0          & 0.02535065\\\\\n",
       "\t16 & continue   & f          & oc         & 0.742      & 0.672      & 0.742      & 3          & 12         & mother     & true       & 132        & 14         & 1996       & 0          & 0.02535065\\\\\n",
       "\t17 & drop       & f          & bc         & 0.503      & 0.523      & 0.503      & 9          &  0         & father     & true       & 397        &  5         & 1950       & 0          & 0.08907655\\\\\n",
       "\\end{tabular}\n"
      ],
      "text/plain": [
       "   continue_drop gender caste mathematics_marks english_marks science_marks\n",
       "2  continue      f      bc    0.290             0.512         0.290        \n",
       "3  continue      f      oc    0.602             0.666         0.602        \n",
       "6  continue      f      bc    0.594             0.519         0.594        \n",
       "15 continue      f      bc    0.461             0.524         0.461        \n",
       "16 continue      f      oc    0.742             0.672         0.742        \n",
       "17 drop          f      bc    0.503             0.523         0.503        \n",
       "   science_teacher languages_teacher guardian internet total_students\n",
       "2  4                7                mother   true     356           \n",
       "3  4                2                mother   false    179           \n",
       "6  4                8                mother   true     335           \n",
       "15 0                3                mother   true     469           \n",
       "16 3               12                mother   true     132           \n",
       "17 9                0                father   true     397           \n",
       "   total_toilets establishment_year rpart_prediction rpart_probability\n",
       "2  14            1943               0                0.02535065       \n",
       "3   8            1955               0                0.02535065       \n",
       "6  43            1916               0                0.02535065       \n",
       "15 14            1905               0                0.02535065       \n",
       "16 14            1996               0                0.02535065       \n",
       "17  5            1950               0                0.08907655       "
      ]
     },
     "metadata": {},
     "output_type": "display_data"
    }
   ],
   "source": [
    "# Score model\n",
    "\n",
    "predictions <- predict(m.rp, ds[test, vars], type=\"prob\")\n",
    "threshold <- 0.5\n",
    "rpart_probability <- predictions[, 2]\n",
    "rpart_prediction <- ifelse(rpart_probability > threshold, 1, 0)\n",
    "pred <- cbind(ds[test, vars], rpart_prediction, rpart_probability)\n",
    "head(pred)"
   ]
  },
  {
   "cell_type": "code",
   "execution_count": 14,
   "metadata": {
    "attributes": {
     "classes": [],
     "error": "FALSE",
     "id": "",
     "message": "FALSE,",
     "warning": "FALSE,"
    },
    "collapsed": false
   },
   "outputs": [
    {
     "name": "stdout",
     "output_type": "stream",
     "text": [
      "        Predicted\n",
      "Observed    0    1\n",
      "       0 5475    0\n",
      "       1  229   26\n"
     ]
    },
    {
     "data": {
      "text/html": [
       "<dl class=dl-horizontal>\n",
       "\t<dt>Accuracy</dt>\n",
       "\t\t<dd>0.960034904013962</dd>\n",
       "\t<dt>Precision</dt>\n",
       "\t\t<dd>1</dd>\n",
       "\t<dt>Recall</dt>\n",
       "\t\t<dd>0.101960784313725</dd>\n",
       "\t<dt>F-Score</dt>\n",
       "\t\t<dd>0.185053380782918</dd>\n",
       "</dl>\n"
      ],
      "text/latex": [
       "\\begin{description*}\n",
       "\\item[Accuracy] 0.960034904013962\n",
       "\\item[Precision] 1\n",
       "\\item[Recall] 0.101960784313725\n",
       "\\item[F-Score] 0.185053380782918\n",
       "\\end{description*}\n"
      ],
      "text/markdown": [
       "Accuracy\n",
       ":   0.960034904013962Precision\n",
       ":   1Recall\n",
       ":   0.101960784313725F-Score\n",
       ":   0.185053380782918\n",
       "\n"
      ],
      "text/plain": [
       " Accuracy Precision    Recall   F-Score \n",
       "0.9600349 1.0000000 0.1019608 0.1850534 "
      ]
     },
     "metadata": {},
     "output_type": "display_data"
    },
    {
     "name": "stderr",
     "output_type": "stream",
     "text": [
      "Warning message in grid.Call.graphics(L_text, as.graphicsAnnot(x$label), x$x, x$y, :\n",
      "\"font family not found in Windows font database\""
     ]
    },
    {
     "data": {},
     "metadata": {},
     "output_type": "display_data"
    },
    {
     "data": {
      "image/png": "[encoded data removed]",
      "text/plain": [
       "plot without title"
      ]
     },
     "metadata": {},
     "output_type": "display_data"
    }
   ],
   "source": [
    "# Evaluate model\n",
    "\n",
    "pred$continue_drop <- as.numeric(pred$continue_drop)-1\n",
    "\n",
    "metrics.rp <- evaluateModel(data=pred,\n",
    "                            observed=\"continue_drop\",\n",
    "                            predicted=\"rpart_prediction\")\n",
    "metrics.rp\n",
    "\n",
    "rocChart(pr=pred$rpart_probability, target=pred$continue_drop)"
   ]
  },
  {
   "cell_type": "markdown",
   "metadata": {},
   "source": [
    "# Step 6.3: Compare - Multiple Models using Experiment\n",
    "\n",
    "We can repeat the modelling multiple times, randomly selecting different datasets for training, to get an estimate of the actual expected performance and variation we see in the performance. The helper function experi() can be used to assist us here. It is available as http://onepager.togaware.com/experi.R and we show some of the coding of experi() below."
   ]
  },
  {
   "cell_type": "code",
   "execution_count": 15,
   "metadata": {
    "attributes": {
     "classes": [],
     "error": "FALSE",
     "id": "",
     "message": "FALSE,",
     "warning": "FALSE,"
    },
    "collapsed": true
   },
   "outputs": [],
   "source": [
    "# Show the function experi()\n",
    "\n",
    "experi <- function(form, ds, dsname, target, modeller, details=\"\",\n",
    "                   n=100, control=NULL,\n",
    "                   keep=FALSE, # Keep the last model built.\n",
    "                   prob=\"prob\",   \n",
    "                   class=\"class\",\n",
    "                   log=\"experi.log\")\n",
    "{\n",
    " suppressPackageStartupMessages(require(pROC))\n",
    "  \n",
    " user <- Sys.getenv(\"LOGNAME\")\n",
    " node <- Sys.info()[[\"nodename\"]]\n",
    " \n",
    " wsrpart.model <- modeller==\"wsrpart\"\n",
    " \n",
    " numclass <- length(levels(ds[,target]))\n",
    " \n",
    " start.time <- proc.time()\n",
    " \n",
    " seeds <- cors <- strs <- aucs <- accs <- NULL\n",
    " for (i in seq_len(n))\n",
    "{\n",
    " loop.time <- proc.time()\n",
    " \n",
    " seeds <- c(seeds, seed <- sample(1:1000000, 1))\n",
    " set.seed(seed)\n",
    " \n",
    "....\n",
    "\n",
    " result[-c(1:7)] <- round(result[-c(1:7)], 2)\n",
    " row.names(result) <- NULL\n",
    " if (keep)\n",
    " {\n",
    "  if (numclass==2)\n",
    "  {\n",
    "   attr(result, \"pr\") <- pr\n",
    "   attr(result, \"test\") <- test\n",
    "  }\n",
    "  attr(result, \"model\") <- model\n",
    " }\n",
    "}\n",
    "return(result)\n",
    "}"
   ]
  },
  {
   "cell_type": "markdown",
   "metadata": {},
   "source": [
    "Let's run the experiments using the algorihtms rpart (Therneau and Atkinson, 2014), randomForest (Breiman et al., 2012), ada (Culp et al., 2012), ctree() from party (Hothorn et al., 2013). In such way, we can conveniently implement those models and compare their performance."
   ]
  },
  {
   "cell_type": "code",
   "execution_count": 16,
   "metadata": {
    "attributes": {
     "classes": [],
     "error": "FALSE",
     "id": "",
     "message": "FALSE,",
     "warning": "FALSE,"
    },
    "collapsed": false
   },
   "outputs": [
    {
     "name": "stderr",
     "output_type": "stream",
     "text": [
      "Loading required package: lubridate\n",
      "\n",
      "Attaching package: 'lubridate'\n",
      "\n",
      "The following object is masked from 'package:base':\n",
      "\n",
      "    date\n",
      "\n"
     ]
    },
    {
     "data": {
      "text/html": [
       "<table>\n",
       "<thead><tr><th></th><th scope=col>auc</th><th scope=col>auc.sd</th><th scope=col>cor</th><th scope=col>cor.sd</th><th scope=col>str</th><th scope=col>str.sd</th><th scope=col>acc</th><th scope=col>acc.sd</th><th scope=col>n</th><th scope=col>user</th><th scope=col>elapsed</th></tr></thead>\n",
       "<tbody>\n",
       "\t<tr><th scope=row>rpart_1</th><td>0.99  </td><td>0.02  </td><td>NA    </td><td>NA    </td><td>NA    </td><td>NA    </td><td>1     </td><td>0     </td><td>10    </td><td>  4.09</td><td>  4.32</td></tr>\n",
       "\t<tr><th scope=row>randomForest_500</th><td>1.00  </td><td>0.00  </td><td>NA    </td><td>NA    </td><td>NA    </td><td>NA    </td><td>1     </td><td>0     </td><td>10    </td><td> 66.67</td><td> 70.73</td></tr>\n",
       "\t<tr><th scope=row>ada_50</th><td>1.00  </td><td>0.00  </td><td>NA    </td><td>NA    </td><td>NA    </td><td>NA    </td><td>1     </td><td>0     </td><td>10    </td><td>155.28</td><td>156.28</td></tr>\n",
       "\t<tr><th scope=row>ctree_1</th><td>1.00  </td><td>0.00  </td><td>NA    </td><td>NA    </td><td>NA    </td><td>NA    </td><td>1     </td><td>0     </td><td>10    </td><td>  5.56</td><td>  5.68</td></tr>\n",
       "</tbody>\n",
       "</table>\n"
      ],
      "text/latex": [
       "\\begin{tabular}{r|lllllllllll}\n",
       "  & auc & auc.sd & cor & cor.sd & str & str.sd & acc & acc.sd & n & user & elapsed\\\\\n",
       "\\hline\n",
       "\trpart\\_1 & 0.99   & 0.02   & NA     & NA     & NA     & NA     & 1      & 0      & 10     &   4.09 &   4.32\\\\\n",
       "\trandomForest\\_500 & 1.00   & 0.00   & NA     & NA     & NA     & NA     & 1      & 0      & 10     &  66.67 &  70.73\\\\\n",
       "\tada\\_50 & 1.00   & 0.00   & NA     & NA     & NA     & NA     & 1      & 0      & 10     & 155.28 & 156.28\\\\\n",
       "\tctree\\_1 & 1.00   & 0.00   & NA     & NA     & NA     & NA     & 1      & 0      & 10     &   5.56 &   5.68\\\\\n",
       "\\end{tabular}\n"
      ],
      "text/plain": [
       "                 auc  auc.sd cor cor.sd str str.sd acc acc.sd n  user   elapsed\n",
       "rpart_1          0.99 0.02   NA  NA     NA  NA     1   0      10   4.09   4.32 \n",
       "randomForest_500 1.00 0.00   NA  NA     NA  NA     1   0      10  66.67  70.73 \n",
       "ada_50           1.00 0.00   NA  NA     NA  NA     1   0      10 155.28 156.28 \n",
       "ctree_1          1.00 0.00   NA  NA     NA  NA     1   0      10   5.56   5.68 "
      ]
     },
     "metadata": {},
     "output_type": "display_data"
    }
   ],
   "source": [
    "# Source experi.R \n",
    "\n",
    "source(\"http://onepager.togaware.com/experi.R\")\n",
    "\n",
    "# Set the times of loops\n",
    "\n",
    "n <- 10\n",
    "\n",
    "# Run experiments\n",
    "\n",
    "ex.rp <- experi(form, ds[vars], dsname, target, \"rpart\", \"1\", n=n, keep=TRUE)\n",
    "ex.rf <- experi(form, ds[vars], dsname, target, \"randomForest\", \"500\", n=n, keep=TRUE, control=list(na.action=na.omit))\n",
    "ex.ad <- experi(form, ds[vars], dsname, target, \"ada\", \"50\", n=n, keep=TRUE)\n",
    "ex.ct <- experi(form, ds[vars], dsname, target, \"ctree\", \"1\", n=n, keep=TRUE)\n",
    "\n",
    "# Compare results\n",
    "\n",
    "results <- rbind(ex.rp, ex.rf, ex.ad, ex.ct)\n",
    "rownames(results) <- results$modeller\n",
    "results$modeller <- NULL\n",
    "results"
   ]
  },
  {
   "cell_type": "markdown",
   "metadata": {},
   "source": [
    "# Step 7.1: Other Models - Support Vector Machine Model\n",
    "\n",
    "Except for the above commonly used binary classification models, we could also try some more advanced models, for instance, svm(), support vector machine, nnet(), neural network, xgboost(), extreme gradient boosting, ect. We firstly build a svm() support vector machine model here."
   ]
  },
  {
   "cell_type": "code",
   "execution_count": null,
   "metadata": {
    "attributes": {
     "classes": [],
     "error": "FALSE",
     "id": "",
     "message": "FALSE,",
     "warning": "FALSE,"
    },
    "collapsed": true
   },
   "outputs": [],
   "source": [
    "# Tune hyper-parameters\n",
    "\n",
    "system.time({\n",
    "m.svm.cv <- tune.svm(form, \n",
    "                     data=ds[train, vars], \n",
    "                     gamma=2^(-1:1), \n",
    "                     cost=2^(2:4), \n",
    "                     type=\"C-classification\",\n",
    "                     probability=TRUE,\n",
    "                     scale=FALSE)\n",
    "})\n",
    "\n",
    "print(m.svm.cv$best.performance)"
   ]
  },
  {
   "cell_type": "code",
   "execution_count": null,
   "metadata": {
    "attributes": {
     "classes": [],
     "error": "FALSE",
     "id": "",
     "message": "FALSE,",
     "warning": "FALSE,"
    },
    "collapsed": true
   },
   "outputs": [],
   "source": [
    "# Train model: svm\n",
    "\n",
    "system.time({\n",
    "  m.svm <- svm(form, \n",
    "               data=ds[train, vars], \n",
    "               gamma=m.svm.cv$best.parameters[1], \n",
    "               cost=m.svm.cv$best.parameters[2],\n",
    "               type=\"C-classification\",\n",
    "               probability = TRUE,\n",
    "               scale = FALSE)\n",
    "})\n",
    "\n",
    "# Check the model information\n",
    "\n",
    "m.svm"
   ]
  },
  {
   "cell_type": "markdown",
   "metadata": {},
   "source": [
    "Then we score the model on testing dataset and evaluate the model performance."
   ]
  },
  {
   "cell_type": "code",
   "execution_count": null,
   "metadata": {
    "attributes": {
     "classes": [],
     "error": "FALSE",
     "id": "",
     "message": "FALSE,",
     "warning": "FALSE,"
    },
    "collapsed": true
   },
   "outputs": [],
   "source": [
    "# Score model \n",
    "\n",
    "predictions <- predict(m.svm, ds[test, vars], probability=TRUE)\n",
    "threshold <- 0.5\n",
    "svm_probability <- attr(predictions, 'probabilities')[, 2]\n",
    "svm_prediction <- ifelse(svm_probability > threshold, 1, 0)\n",
    "pred <- cbind(ds[test, vars], svm_prediction, svm_probability)\n",
    "head(pred)"
   ]
  },
  {
   "cell_type": "code",
   "execution_count": null,
   "metadata": {
    "attributes": {
     "classes": [],
     "error": "FALSE",
     "id": "",
     "message": "FALSE,",
     "warning": "FALSE,"
    },
    "collapsed": true
   },
   "outputs": [],
   "source": [
    "# Evaluate model\n",
    "\n",
    "pred$continue_drop <- as.numeric(pred$continue_drop)-1\n",
    "\n",
    "metrics.svm <- evaluateModel(data=pred,\n",
    "                              observed=\"continue_drop\",\n",
    "                              predicted=\"svm_prediction\")\n",
    "metrics.svm\n",
    "\n",
    "rocChart(pr=pred$svm_probability, target=pred$continue_drop)"
   ]
  },
  {
   "cell_type": "markdown",
   "metadata": {},
   "source": [
    "# Step 7.2: Other Models - Neural Network Model\n",
    "\n",
    "Next we build a nnet(), neural network model."
   ]
  },
  {
   "cell_type": "code",
   "execution_count": null,
   "metadata": {
    "attributes": {
     "classes": [],
     "error": "FALSE",
     "id": "",
     "message": "FALSE,",
     "warning": "FALSE,"
    },
    "collapsed": true
   },
   "outputs": [],
   "source": [
    "# Tune hyper-parameters\n",
    "\n",
    "system.time({\n",
    "m.nnet.cv <- tune.nnet(form, \n",
    "                       data=ds[train, vars], \n",
    "                       size=c(6, 8, 10), \n",
    "                       decay=5*10^(-3:-1), \n",
    "                       rang=0.1,\n",
    "                       maxit=200)\n",
    "})\n",
    "\n",
    "print(m.nnet.cv$best.performance)"
   ]
  },
  {
   "cell_type": "code",
   "execution_count": null,
   "metadata": {
    "attributes": {
     "classes": [],
     "error": "FALSE",
     "id": "",
     "message": "FALSE,",
     "warning": "FALSE,"
    },
    "collapsed": true
   },
   "outputs": [],
   "source": [
    "# Train model: nnet\n",
    "\n",
    "system.time({\n",
    "  m.nnet <- nnet(formula=form,\n",
    "                 data=ds[train, vars],\n",
    "                 size=m.nnet.cv$best.parameters[1], \n",
    "                 decay=m.nnet.cv$best.parameters[2], \n",
    "                 rang=0.1,\n",
    "                 maxit=200)\n",
    "})\n",
    "\n",
    "# Check the model information\n",
    "\n",
    "m.nnet"
   ]
  },
  {
   "cell_type": "markdown",
   "metadata": {},
   "source": [
    "Then we score the model on testing dataset and evaluate the model performance."
   ]
  },
  {
   "cell_type": "code",
   "execution_count": null,
   "metadata": {
    "attributes": {
     "classes": [],
     "error": "FALSE",
     "id": "",
     "message": "FALSE,",
     "warning": "FALSE,"
    },
    "collapsed": true
   },
   "outputs": [],
   "source": [
    "# Score model\n",
    "\n",
    "predictions <- predict(m.nnet, ds[test, vars], type=\"raw\")\n",
    "threshold <- 0.5\n",
    "nnet_probability <- predictions\n",
    "nnet_prediction <- ifelse(nnet_probability > threshold, 1, 0)\n",
    "pred <- cbind(ds[test, vars], nnet_prediction, nnet_probability)\n",
    "head(pred)"
   ]
  },
  {
   "cell_type": "code",
   "execution_count": null,
   "metadata": {
    "attributes": {
     "classes": [],
     "error": "FALSE",
     "id": "",
     "message": "FALSE,",
     "warning": "FALSE,"
    },
    "collapsed": true
   },
   "outputs": [],
   "source": [
    "# Evaluate model\n",
    "\n",
    "pred$continue_drop <- as.numeric(pred$continue_drop)-1\n",
    "\n",
    "metrics.nnet <- evaluateModel(data=pred,\n",
    "                              observed=\"continue_drop\",\n",
    "                              predicted=\"nnet_prediction\")\n",
    "metrics.nnet\n",
    "\n",
    "rocChart(pr=pred$nnet_probability, target=pred$continue_drop)"
   ]
  },
  {
   "cell_type": "markdown",
   "metadata": {},
   "source": [
    "# Step 7.3: Other Models - Extreme Gradient Boosting Model\n",
    "\n",
    "Finally, we build a xgboost() extreme gradient boosting, as a specicial example, which performs well when dealing with unbalanced data. In our case, the proportion of student drop-out is around 5% in the original training dataset. Here we just use it as input to demonstrate the power of xgboost() in dealing with unbalanced data."
   ]
  },
  {
   "cell_type": "code",
   "execution_count": 17,
   "metadata": {
    "attributes": {
     "classes": [],
     "error": "FALSE",
     "id": "",
     "message": "FALSE,",
     "warning": "FALSE,"
    },
    "collapsed": false
   },
   "outputs": [
    {
     "name": "stdout",
     "output_type": "stream",
     "text": [
      "List of 2\n",
      " $ data :Formal class 'dgCMatrix' [package \"Matrix\"] with 6 slots\n",
      "  .. ..@ i       : int [1:158037] 0 1 2 3 4 5 6 7 8 9 ...\n",
      "  .. ..@ p       : int [1:13] 0 13370 26740 40110 53480 66850 79090 91187 104557 117927 ...\n",
      "  .. ..@ Dim     : int [1:2] 13370 12\n",
      "  .. ..@ Dimnames:List of 2\n",
      "  .. .. ..$ : NULL\n",
      "  .. .. ..$ : chr [1:12] \"gender\" \"caste\" \"mathematics_marks\" \"english_marks\" ...\n",
      "  .. ..@ x       : num [1:158037] 1 1 1 1 1 1 1 2 2 2 ...\n",
      "  .. ..@ factors : list()\n",
      " $ label: num [1:13370] 0 0 0 0 0 1 0 0 0 0 ...\n"
     ]
    }
   ],
   "source": [
    "# Re-structure the training data set\n",
    "\n",
    "traindata <- ds[train, inputs]\n",
    "\n",
    "traindata[, c(1:ncol(traindata))] <- sapply(traindata[, c(1:ncol(traindata))], as.numeric) \n",
    "ntrain <- as.matrix(traindata[ , c(1:ncol(traindata))])\n",
    "\n",
    "dtrain <- list()\n",
    "dtrain$data <- Matrix(ntrain, sparse=TRUE)\n",
    "dtrain$label <- as.numeric(as.data.frame(ds[train, target])[[1]]) - 1\n",
    "\n",
    "dtrain %>% str()"
   ]
  },
  {
   "cell_type": "code",
   "execution_count": 19,
   "metadata": {
    "attributes": {
     "classes": [],
     "error": "FALSE",
     "id": "",
     "message": "FALSE,",
     "warning": "FALSE,"
    },
    "collapsed": false
   },
   "outputs": [
    {
     "data": {
      "text/plain": [
       "eXtreme Gradient Boosting \n",
       "\n",
       "No pre-processing\n",
       "Resampling: Cross-Validated (5 fold) \n",
       "Summary of sample sizes: 10696, 10696, 10696, 10696, 10696 \n",
       "Resampling results across tuning parameters:\n",
       "\n",
       "  eta    max_depth  ROC        Sens       Spec      \n",
       "  1e-04   2         0.6868065  1.0000000  0.05581395\n",
       "  1e-04   4         0.7739779  1.0000000  0.22015504\n",
       "  1e-04   8         0.9785562  0.9971709  0.66046512\n",
       "  1e-04  16         0.9974816  1.0000000  0.98139535\n",
       "  1e-04  32         0.9974816  1.0000000  0.98139535\n",
       "  1e-03   2         0.6868065  1.0000000  0.05581395\n",
       "  1e-03   4         0.7739779  1.0000000  0.22015504\n",
       "  1e-03   8         0.9785562  0.9971709  0.66046512\n",
       "  1e-03  16         0.9974816  1.0000000  0.98139535\n",
       "  1e-03  32         0.9974816  1.0000000  0.98139535\n",
       "  1e-02   2         0.6868065  1.0000000  0.05581395\n",
       "  1e-02   4         0.7739779  1.0000000  0.22015504\n",
       "  1e-02   8         0.9785562  0.9971709  0.66046512\n",
       "  1e-02  16         0.9974816  1.0000000  0.98139535\n",
       "  1e-02  32         0.9974816  1.0000000  0.98139535\n",
       "  1e-01   2         0.6868065  1.0000000  0.05581395\n",
       "  1e-01   4         0.7767530  1.0000000  0.22015504\n",
       "  1e-01   8         0.9871498  0.9995285  0.65581395\n",
       "  1e-01  16         1.0000000  1.0000000  0.96279070\n",
       "  1e-01  32         1.0000000  1.0000000  0.96279070\n",
       "  1e+00   2         0.7065927  1.0000000  0.09457364\n",
       "  1e+00   4         0.9152690  0.9993713  0.36899225\n",
       "  1e+00   8         0.9997807  0.9975639  1.00000000\n",
       "  1e+00  16         1.0000000  1.0000000  1.00000000\n",
       "  1e+00  32         1.0000000  1.0000000  1.00000000\n",
       "\n",
       "Tuning parameter 'nrounds' was held constant at a value of 2\n",
       "Tuning\n",
       "\n",
       "Tuning parameter 'min_child_weight' was held constant at a value of 1\n",
       "\n",
       "Tuning parameter 'subsample' was held constant at a value of 1\n",
       "ROC was used to select the optimal model using  the largest value.\n",
       "The final values used for the model were nrounds = 2, max_depth = 16, eta\n",
       " = 0.1, gamma = 0, colsample_bytree = 1, min_child_weight = 1 and subsample = 1. "
      ]
     },
     "metadata": {},
     "output_type": "display_data"
    }
   ],
   "source": [
    "# Tune hyper-parameters\n",
    "\n",
    "cv.ctrl <- trainControl(method=\"cv\",                     # specify resampling method to be cross-validation\n",
    "                        number=5,                        # set the number of folds to be 5\n",
    "                        verboseIter=FALSE,               # set to FALSE for not printing a training log\n",
    "                        returnData=FALSE,                # set to FALSE for not saving the data\n",
    "                        returnResamp=\"all\",              # save losses across all models\n",
    "                        classProbs=TRUE,                 # set to TRUE for class probabilities be computed for classification models \n",
    "                        summaryFunction=twoClassSummary, # specify a function AUC to compute performance metrics across resamples\n",
    "                        allowParallel=TRUE)              # use a parallel backend if it is available\n",
    "\n",
    "grid.xgb <- expand.grid(nrounds=2,\n",
    "                        max_depth=2^(1:5),\n",
    "                        eta=1*10^(-4:0),\n",
    "                        min_child_weight=1,\n",
    "                        colsample_bytree=1,\n",
    "                        subsample=1,\n",
    "                        gamma=0)\n",
    "\n",
    "set.seed(45)\n",
    "m.xgb.cv <-train(x=ntrain,\n",
    "                 y=as.data.frame(ds[train, target])[[1]],\n",
    "                 method=\"xgbTree\",\n",
    "                 trControl=cv.ctrl,\n",
    "                 tuneGrid=grid.xgb,\n",
    "                 verbose=TRUE,\n",
    "                 metric=\"ROC\",\n",
    "                 nthread =2)\n",
    "\n",
    "m.xgb.cv"
   ]
  },
  {
   "cell_type": "code",
   "execution_count": 20,
   "metadata": {
    "attributes": {
     "classes": [],
     "error": "FALSE",
     "id": "",
     "message": "FALSE,",
     "warning": "FALSE,"
    },
    "collapsed": false
   },
   "outputs": [
    {
     "name": "stdout",
     "output_type": "stream",
     "text": [
      "[1]\ttrain-error:0.000000 \n",
      "[2]\ttrain-error:0.000000 \n"
     ]
    },
    {
     "data": {
      "text/plain": [
       "   user  system elapsed \n",
       "   0.08    0.00    0.06 "
      ]
     },
     "metadata": {},
     "output_type": "display_data"
    },
    {
     "data": {
      "text/plain": [
       "##### xgb.Booster\n",
       "raw: 5.9 Kb \n",
       "call:\n",
       "  xgb.train(params = params, data = dtrain, nrounds = nrounds, \n",
       "    watchlist = watchlist, verbose = verbose, print_every_n = print_every_n, \n",
       "    early_stopping_rounds = early_stopping_rounds, maximize = maximize, \n",
       "    save_period = save_period, save_name = save_name, xgb_model = xgb_model, \n",
       "    callbacks = callbacks, max.depth = ..1, eta = ..2, min_child_weight = 1, \n",
       "    colsample_bytree = 1, subsample = 1, gamma = 0, nthread = 2, \n",
       "    objective = \"binary:logistic\")\n",
       "params (as set within xgb.train):\n",
       "  max_depth = \"16\", eta = \"0.1\", min_child_weight = \"1\", colsample_bytree = \"1\", subsample = \"1\", gamma = \"0\", nthread = \"2\", objective = \"binary:logistic\", silent = \"1\"\n",
       "xgb.attributes:\n",
       "  niter\n",
       "callbacks:\n",
       "  cb.print.evaluation(period = print_every_n)\n",
       "  cb.evaluation.log()\n",
       "  cb.save.model(save_period = save_period, save_name = save_name)\n",
       "niter: 2\n",
       "evaluation_log:\n",
       " iter train_error\n",
       "    1           0\n",
       "    2           0"
      ]
     },
     "metadata": {},
     "output_type": "display_data"
    }
   ],
   "source": [
    "# Train model: xgboost\n",
    "\n",
    "system.time({\n",
    "  m.xgb <- xgboost(data=dtrain$data, \n",
    "                   label=dtrain$label,\n",
    "                   nround=m.xgb.cv$bestTune[[1]], \n",
    "                   max.depth=m.xgb.cv$bestTune[[2]], \n",
    "                   eta=m.xgb.cv$bestTune[[3]], \n",
    "                   min_child_weight=1,\n",
    "                   colsample_bytree=1,\n",
    "                   subsample=1,\n",
    "                   gamma=0,\n",
    "                   nthread=2, \n",
    "                   objective=\"binary:logistic\")\n",
    "})\n",
    "\n",
    "m.xgb"
   ]
  },
  {
   "cell_type": "code",
   "execution_count": 21,
   "metadata": {
    "attributes": {
     "classes": [],
     "error": "FALSE",
     "id": "",
     "message": "FALSE,",
     "warning": "FALSE,"
    },
    "collapsed": false
   },
   "outputs": [
    {
     "name": "stdout",
     "output_type": "stream",
     "text": [
      "             Feature       Gain       Cover  Frequency\n",
      "1: mathematics_marks 0.30998281 0.147120885 0.27397260\n",
      "2:     english_marks 0.21674073 0.320301422 0.16438356\n",
      "3: languages_teacher 0.12209233 0.138141886 0.13698630\n",
      "4:          guardian 0.09762265 0.120764467 0.08219178\n",
      "5:             caste 0.09611334 0.078339736 0.15068493\n",
      "6:            gender 0.08452394 0.003929090 0.08219178\n",
      "7:   science_teacher 0.05576744 0.185562256 0.08219178\n",
      "8:          internet 0.01715675 0.005840258 0.02739726\n"
     ]
    }
   ],
   "source": [
    "# Calculate feature importance\n",
    "\n",
    "importance <- xgb.importance(feature_names=dtrain$data@Dimnames[[2]], \n",
    "                             model=m.xgb)\n",
    "print(importance)"
   ]
  },
  {
   "cell_type": "code",
   "execution_count": 22,
   "metadata": {
    "attributes": {
     "classes": [],
     "error": "FALSE",
     "id": "",
     "message": "FALSE,",
     "warning": "FALSE,"
    },
    "collapsed": false
   },
   "outputs": [
    {
     "data": {
      "image/png": "[encoded data removed]",
      "text/plain": [
       "plot without title"
      ]
     },
     "metadata": {},
     "output_type": "display_data"
    }
   ],
   "source": [
    "# Visualize feature importance\n",
    "\n",
    "xgb.plot.importance(importance)"
   ]
  },
  {
   "cell_type": "code",
   "execution_count": 23,
   "metadata": {
    "attributes": {
     "classes": [],
     "error": "FALSE",
     "id": "",
     "message": "FALSE,",
     "warning": "FALSE,"
    },
    "collapsed": false
   },
   "outputs": [
    {
     "data": {
      "text/plain": [
       "HTML widgets cannot be represented in plain text (need html)"
      ]
     },
     "metadata": {},
     "output_type": "display_data"
    }
   ],
   "source": [
    "# Plot a boosted tree model\n",
    "\n",
    "xgb.plot.tree(dtrain$data@Dimnames[[2]], model=m.xgb)"
   ]
  },
  {
   "cell_type": "markdown",
   "metadata": {},
   "source": [
    "Now we score the model on testing dataset and evaluate the model performance."
   ]
  },
  {
   "cell_type": "code",
   "execution_count": 24,
   "metadata": {
    "attributes": {
     "classes": [],
     "error": "FALSE",
     "id": "",
     "message": "FALSE,",
     "warning": "FALSE,"
    },
    "collapsed": false
   },
   "outputs": [
    {
     "name": "stdout",
     "output_type": "stream",
     "text": [
      "List of 2\n",
      " $ data :Formal class 'dgCMatrix' [package \"Matrix\"] with 6 slots\n",
      "  .. ..@ i       : int [1:67713] 0 1 2 3 4 5 6 7 8 9 ...\n",
      "  .. ..@ p       : int [1:13] 0 5730 11460 17190 22920 28650 33860 39063 44793 50523 ...\n",
      "  .. ..@ Dim     : int [1:2] 5730 12\n",
      "  .. ..@ Dimnames:List of 2\n",
      "  .. .. ..$ : NULL\n",
      "  .. .. ..$ : chr [1:12] \"gender\" \"caste\" \"mathematics_marks\" \"english_marks\" ...\n",
      "  .. ..@ x       : num [1:67713] 1 1 1 1 1 1 1 1 1 1 ...\n",
      "  .. ..@ factors : list()\n",
      " $ label: num [1:5730] 0 0 0 0 0 1 0 0 0 0 ...\n"
     ]
    }
   ],
   "source": [
    "# Re-structure the testing data set\n",
    "\n",
    "testdata <- ds[test, inputs]\n",
    "\n",
    "testdata[, c(1:ncol(traindata))] <- sapply(testdata[, c(1:ncol(traindata))], as.numeric) \n",
    "ntest <- as.matrix(testdata[, c(1:ncol(traindata))])\n",
    "\n",
    "dtest <- list()\n",
    "dtest$data <- Matrix(ntest, sparse=TRUE)\n",
    "dtest$label <- as.numeric(as.data.frame(ds[test, target])[[1]]) - 1\n",
    "\n",
    "dtest %>% str()"
   ]
  },
  {
   "cell_type": "code",
   "execution_count": 25,
   "metadata": {
    "attributes": {
     "classes": [],
     "error": "FALSE",
     "id": "",
     "message": "FALSE,",
     "warning": "FALSE,"
    },
    "collapsed": false
   },
   "outputs": [
    {
     "data": {
      "text/html": [
       "<table>\n",
       "<thead><tr><th scope=col>gender</th><th scope=col>caste</th><th scope=col>mathematics_marks</th><th scope=col>english_marks</th><th scope=col>science_marks</th><th scope=col>science_teacher</th><th scope=col>languages_teacher</th><th scope=col>guardian</th><th scope=col>internet</th><th scope=col>total_students</th><th scope=col>total_toilets</th><th scope=col>establishment_year</th><th scope=col>continue_drop</th><th scope=col>xgboost_prediction</th><th scope=col>xgboost_probability</th></tr></thead>\n",
       "<tbody>\n",
       "\t<tr><td>1        </td><td>1        </td><td>0.290    </td><td>0.512    </td><td>0.290    </td><td>4        </td><td> 7       </td><td>3        </td><td>2        </td><td>356      </td><td>14       </td><td>1943     </td><td>0        </td><td>0        </td><td>0.4057302</td></tr>\n",
       "\t<tr><td>1        </td><td>2        </td><td>0.602    </td><td>0.666    </td><td>0.602    </td><td>4        </td><td> 2       </td><td>3        </td><td>1        </td><td>179      </td><td> 8       </td><td>1955     </td><td>0        </td><td>0        </td><td>0.4060442</td></tr>\n",
       "\t<tr><td>1        </td><td>1        </td><td>0.594    </td><td>0.519    </td><td>0.594    </td><td>4        </td><td> 8       </td><td>3        </td><td>2        </td><td>335      </td><td>43       </td><td>1916     </td><td>0        </td><td>0        </td><td>0.4057302</td></tr>\n",
       "\t<tr><td>1        </td><td>1        </td><td>0.461    </td><td>0.524    </td><td>0.461    </td><td>0        </td><td> 3       </td><td>3        </td><td>2        </td><td>469      </td><td>14       </td><td>1905     </td><td>0        </td><td>0        </td><td>0.4060442</td></tr>\n",
       "\t<tr><td>1        </td><td>2        </td><td>0.742    </td><td>0.672    </td><td>0.742    </td><td>3        </td><td>12       </td><td>3        </td><td>2        </td><td>132      </td><td>14       </td><td>1996     </td><td>0        </td><td>0        </td><td>0.4057302</td></tr>\n",
       "\t<tr><td>1        </td><td>1        </td><td>0.503    </td><td>0.523    </td><td>0.503    </td><td>9        </td><td> 0       </td><td>1        </td><td>2        </td><td>397      </td><td> 5       </td><td>1950     </td><td>1        </td><td>1        </td><td>0.5898832</td></tr>\n",
       "</tbody>\n",
       "</table>\n"
      ],
      "text/latex": [
       "\\begin{tabular}{r|lllllllllllllll}\n",
       " gender & caste & mathematics\\_marks & english\\_marks & science\\_marks & science\\_teacher & languages\\_teacher & guardian & internet & total\\_students & total\\_toilets & establishment\\_year & continue\\_drop & xgboost\\_prediction & xgboost\\_probability\\\\\n",
       "\\hline\n",
       "\t 1         & 1         & 0.290     & 0.512     & 0.290     & 4         &  7        & 3         & 2         & 356       & 14        & 1943      & 0         & 0         & 0.4057302\\\\\n",
       "\t 1         & 2         & 0.602     & 0.666     & 0.602     & 4         &  2        & 3         & 1         & 179       &  8        & 1955      & 0         & 0         & 0.4060442\\\\\n",
       "\t 1         & 1         & 0.594     & 0.519     & 0.594     & 4         &  8        & 3         & 2         & 335       & 43        & 1916      & 0         & 0         & 0.4057302\\\\\n",
       "\t 1         & 1         & 0.461     & 0.524     & 0.461     & 0         &  3        & 3         & 2         & 469       & 14        & 1905      & 0         & 0         & 0.4060442\\\\\n",
       "\t 1         & 2         & 0.742     & 0.672     & 0.742     & 3         & 12        & 3         & 2         & 132       & 14        & 1996      & 0         & 0         & 0.4057302\\\\\n",
       "\t 1         & 1         & 0.503     & 0.523     & 0.503     & 9         &  0        & 1         & 2         & 397       &  5        & 1950      & 1         & 1         & 0.5898832\\\\\n",
       "\\end{tabular}\n"
      ],
      "text/markdown": [
       "\n",
       "gender | caste | mathematics_marks | english_marks | science_marks | science_teacher | languages_teacher | guardian | internet | total_students | total_toilets | establishment_year | continue_drop | xgboost_prediction | xgboost_probability | \n",
       "|---|---|---|---|---|---|\n",
       "| 1         | 1         | 0.290     | 0.512     | 0.290     | 4         |  7        | 3         | 2         | 356       | 14        | 1943      | 0         | 0         | 0.4057302 | \n",
       "| 1         | 2         | 0.602     | 0.666     | 0.602     | 4         |  2        | 3         | 1         | 179       |  8        | 1955      | 0         | 0         | 0.4060442 | \n",
       "| 1         | 1         | 0.594     | 0.519     | 0.594     | 4         |  8        | 3         | 2         | 335       | 43        | 1916      | 0         | 0         | 0.4057302 | \n",
       "| 1         | 1         | 0.461     | 0.524     | 0.461     | 0         |  3        | 3         | 2         | 469       | 14        | 1905      | 0         | 0         | 0.4060442 | \n",
       "| 1         | 2         | 0.742     | 0.672     | 0.742     | 3         | 12        | 3         | 2         | 132       | 14        | 1996      | 0         | 0         | 0.4057302 | \n",
       "| 1         | 1         | 0.503     | 0.523     | 0.503     | 9         |  0        | 1         | 2         | 397       |  5        | 1950      | 1         | 1         | 0.5898832 | \n",
       "\n",
       "\n"
      ],
      "text/plain": [
       "  gender caste mathematics_marks english_marks science_marks science_teacher\n",
       "1 1      1     0.290             0.512         0.290         4              \n",
       "2 1      2     0.602             0.666         0.602         4              \n",
       "3 1      1     0.594             0.519         0.594         4              \n",
       "4 1      1     0.461             0.524         0.461         0              \n",
       "5 1      2     0.742             0.672         0.742         3              \n",
       "6 1      1     0.503             0.523         0.503         9              \n",
       "  languages_teacher guardian internet total_students total_toilets\n",
       "1  7                3        2        356            14           \n",
       "2  2                3        1        179             8           \n",
       "3  8                3        2        335            43           \n",
       "4  3                3        2        469            14           \n",
       "5 12                3        2        132            14           \n",
       "6  0                1        2        397             5           \n",
       "  establishment_year continue_drop xgboost_prediction xgboost_probability\n",
       "1 1943               0             0                  0.4057302          \n",
       "2 1955               0             0                  0.4060442          \n",
       "3 1916               0             0                  0.4057302          \n",
       "4 1905               0             0                  0.4060442          \n",
       "5 1996               0             0                  0.4057302          \n",
       "6 1950               1             1                  0.5898832          "
      ]
     },
     "metadata": {},
     "output_type": "display_data"
    }
   ],
   "source": [
    "# Score model\n",
    "\n",
    "predictions <- predict(m.xgb, dtest$data)\n",
    "threshold <- 0.5\n",
    "xgboost_probability <- predictions\n",
    "xgboost_prediction <- ifelse(xgboost_probability > threshold, 1, 0)\n",
    "pred <- cbind(testdata, dtest$label, xgboost_prediction, xgboost_probability)\n",
    "names(pred)[names(pred) == \"dtest$label\"] <- target\n",
    "head(pred)"
   ]
  },
  {
   "cell_type": "code",
   "execution_count": 26,
   "metadata": {
    "attributes": {
     "classes": [],
     "error": "FALSE",
     "id": "",
     "message": "FALSE,",
     "warning": "FALSE,"
    },
    "collapsed": false
   },
   "outputs": [
    {
     "name": "stdout",
     "output_type": "stream",
     "text": [
      "        Predicted\n",
      "Observed    0    1\n",
      "       0 5475    0\n",
      "       1    0  255\n"
     ]
    },
    {
     "data": {
      "text/html": [
       "<dl class=dl-horizontal>\n",
       "\t<dt>Accuracy</dt>\n",
       "\t\t<dd>1</dd>\n",
       "\t<dt>Precision</dt>\n",
       "\t\t<dd>1</dd>\n",
       "\t<dt>Recall</dt>\n",
       "\t\t<dd>1</dd>\n",
       "\t<dt>F-Score</dt>\n",
       "\t\t<dd>1</dd>\n",
       "</dl>\n"
      ],
      "text/latex": [
       "\\begin{description*}\n",
       "\\item[Accuracy] 1\n",
       "\\item[Precision] 1\n",
       "\\item[Recall] 1\n",
       "\\item[F-Score] 1\n",
       "\\end{description*}\n"
      ],
      "text/markdown": [
       "Accuracy\n",
       ":   1Precision\n",
       ":   1Recall\n",
       ":   1F-Score\n",
       ":   1\n",
       "\n"
      ],
      "text/plain": [
       " Accuracy Precision    Recall   F-Score \n",
       "        1         1         1         1 "
      ]
     },
     "metadata": {},
     "output_type": "display_data"
    },
    {
     "name": "stderr",
     "output_type": "stream",
     "text": [
      "Warning message in grid.Call.graphics(L_text, as.graphicsAnnot(x$label), x$x, x$y, :\n",
      "\"font family not found in Windows font database\""
     ]
    },
    {
     "data": {},
     "metadata": {},
     "output_type": "display_data"
    },
    {
     "data": {
      "image/png": "[encoded data removed]",
      "text/plain": [
       "plot without title"
      ]
     },
     "metadata": {},
     "output_type": "display_data"
    }
   ],
   "source": [
    "# Evaluate model\n",
    "\n",
    "metrics.xgb <- evaluateModel(data=pred,\n",
    "                             observed=\"continue_drop\",\n",
    "                             predicted=\"xgboost_prediction\")\n",
    "metrics.xgb\n",
    "\n",
    "rocChart(pr=pred$xgboost_probability, target=pred$continue_drop)"
   ]
  },
  {
   "cell_type": "markdown",
   "metadata": {},
   "source": [
    "# Step 8: Finish Up - Save Model\n",
    "\n",
    "We save the model, together with the dataset and other variables, into a binary R file. Here, we use xgboost model as an example."
   ]
  },
  {
   "cell_type": "code",
   "execution_count": 27,
   "metadata": {
    "attributes": {
     "classes": [],
     "error": "FALSE",
     "id": "",
     "message": "FALSE,",
     "warning": "FALSE,"
    },
    "collapsed": false
   },
   "outputs": [
    {
     "data": {
      "text/html": [
       "'models/studentDropIndia_xgboost_20161220_165404.RData'"
      ],
      "text/latex": [
       "'models/studentDropIndia\\_xgboost\\_20161220\\_165404.RData'"
      ],
      "text/markdown": [
       "'models/studentDropIndia_xgboost_20161220_165404.RData'"
      ],
      "text/plain": [
       "[1] \"models/studentDropIndia_xgboost_20161220_165404.RData\""
      ]
     },
     "metadata": {},
     "output_type": "display_data"
    }
   ],
   "source": [
    "model <- m.xgb\n",
    "mtype <- 'xgboost'\n",
    "pr <- xgboost_probability\n",
    "cl <- xgboost_prediction\n",
    "\n",
    "dname <- \"models\"\n",
    "if (! file.exists(dname)) dir.create(dname)\n",
    "time.stamp <- format(Sys.time(), \"%Y%m%d_%H%M%S\")\n",
    "fstem <- paste(dsname, mtype, time.stamp, sep=\"_\")\n",
    "(fname <- file.path(dname, sprintf(\"%s.RData\", fstem)))"
   ]
  },
  {
   "cell_type": "code",
   "execution_count": 28,
   "metadata": {
    "attributes": {
     "classes": [],
     "error": "FALSE",
     "id": "",
     "message": "FALSE,",
     "warning": "FALSE,"
    },
    "collapsed": true
   },
   "outputs": [],
   "source": [
    "save(ds, dsname, vars, target, ignore,\n",
    "form, nobs, seed, train, test, model, mtype, pr, cl,\n",
    "file=fname)"
   ]
  },
  {
   "cell_type": "markdown",
   "metadata": {},
   "source": [
    "We can then load this later and replicate the process."
   ]
  },
  {
   "cell_type": "code",
   "execution_count": 29,
   "metadata": {
    "attributes": {
     "classes": [],
     "error": "FALSE",
     "id": "",
     "message": "FALSE,",
     "warning": "FALSE,"
    },
    "collapsed": false
   },
   "outputs": [
    {
     "data": {
      "text/html": [
       "<ol class=list-inline>\n",
       "\t<li>'ds'</li>\n",
       "\t<li>'dsname'</li>\n",
       "\t<li>'vars'</li>\n",
       "\t<li>'target'</li>\n",
       "\t<li>'ignore'</li>\n",
       "\t<li>'form'</li>\n",
       "\t<li>'nobs'</li>\n",
       "\t<li>'seed'</li>\n",
       "\t<li>'train'</li>\n",
       "\t<li>'test'</li>\n",
       "\t<li>'model'</li>\n",
       "\t<li>'mtype'</li>\n",
       "\t<li>'pr'</li>\n",
       "\t<li>'cl'</li>\n",
       "</ol>\n"
      ],
      "text/latex": [
       "\\begin{enumerate*}\n",
       "\\item 'ds'\n",
       "\\item 'dsname'\n",
       "\\item 'vars'\n",
       "\\item 'target'\n",
       "\\item 'ignore'\n",
       "\\item 'form'\n",
       "\\item 'nobs'\n",
       "\\item 'seed'\n",
       "\\item 'train'\n",
       "\\item 'test'\n",
       "\\item 'model'\n",
       "\\item 'mtype'\n",
       "\\item 'pr'\n",
       "\\item 'cl'\n",
       "\\end{enumerate*}\n"
      ],
      "text/markdown": [
       "1. 'ds'\n",
       "2. 'dsname'\n",
       "3. 'vars'\n",
       "4. 'target'\n",
       "5. 'ignore'\n",
       "6. 'form'\n",
       "7. 'nobs'\n",
       "8. 'seed'\n",
       "9. 'train'\n",
       "10. 'test'\n",
       "11. 'model'\n",
       "12. 'mtype'\n",
       "13. 'pr'\n",
       "14. 'cl'\n",
       "\n",
       "\n"
      ],
      "text/plain": [
       " [1] \"ds\"     \"dsname\" \"vars\"   \"target\" \"ignore\" \"form\"   \"nobs\"   \"seed\"  \n",
       " [9] \"train\"  \"test\"   \"model\"  \"mtype\"  \"pr\"     \"cl\"    "
      ]
     },
     "metadata": {},
     "output_type": "display_data"
    }
   ],
   "source": [
    "(load(fname))"
   ]
  },
  {
   "cell_type": "markdown",
   "metadata": {},
   "source": [
    "Note that by using generic variable names we can load different model files and perform common operations on them without changing the names within a script. However, do note that each time we load such a saved model file we overwrite any other variables of the same name."
   ]
  }
 ],
 "metadata": {
  "anaconda-cloud": {},
  "kernelspec": {
   "display_name": "R",
   "language": "R",
   "name": "ir"
  },
  "language_info": {
   "codemirror_mode": "r",
   "file_extension": ".r",
   "mimetype": "text/x-r-source",
   "name": "R",
   "pygments_lexer": "r",
   "version": "3.2.5"
  }
 },
 "nbformat": 4,
 "nbformat_minor": 1
}

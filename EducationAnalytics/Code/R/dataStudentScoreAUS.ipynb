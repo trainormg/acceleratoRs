{
 "cells": [
  {
   "cell_type": "markdown",
   "metadata": {},
   "source": [
    "---\n",
    "title: \"Data Science Design Pattern for Student Score Modelling\"\n",
    "author: \"Microsoft\"\n",
    "output: \n",
    "    rmarkdown::html_vignette:\n",
    "        toc: true\n",
    "\n",
    "vignette: >\n",
    "  %\\VignetteIndexEntry{Vignette Title}\n",
    "  %\\VignetteEngine{knitr::rmarkdown}\n",
    "  %\\VignetteEncoding{UTF-8}\n",
    "---"
   ]
  },
  {
   "cell_type": "code",
   "execution_count": 2,
   "metadata": {
    "attributes": {
     "classes": [],
     "echo": "FALSE",
     "id": ""
    },
    "collapsed": true
   },
   "outputs": [],
   "source": [
    "\n",
    "knitr::opts_chunk$set(fig.width = 6,\n",
    "                      fig.height = 4,\n",
    "                      fig.align='center',\n",
    "                      dev = \"png\")\n"
   ]
  },
  {
   "cell_type": "markdown",
   "metadata": {},
   "source": [
    "# Introducation\n",
    "\n",
    "Welcome to the Data Science Design Pattern for Student Score Modelling. This pattern provides a starting point for the data scientist exploring a new dataset. By no means is it the end point of the data science journey. The pattern is under regular revision and improvement and is provided as is. \n",
    "\n",
    "We now begin with the task of preparing our data for building models using R. \n",
    "\n",
    "# Pre-configuration\n",
    "\n",
    "We load the R packages required for data preparation."
   ]
  },
  {
   "cell_type": "code",
   "execution_count": 3,
   "metadata": {
    "attributes": {
     "classes": [],
     "error": "FALSE",
     "id": "",
     "message": "FALSE,",
     "warning": "FALSE,"
    },
    "collapsed": false
   },
   "outputs": [
    {
     "name": "stderr",
     "output_type": "stream",
     "text": [
      "Rattle: A free graphical interface for data mining with R.\n",
      "Version 4.1.0 Copyright (c) 2006-2015 Togaware Pty Ltd.\n",
      "Type 'rattle()' to shake, rattle, and roll your data.\n",
      "\n",
      "Attaching package: 'dplyr'\n",
      "\n",
      "The following objects are masked from 'package:stats':\n",
      "\n",
      "    filter, lag\n",
      "\n",
      "The following objects are masked from 'package:base':\n",
      "\n",
      "    intersect, setdiff, setequal, union\n",
      "\n",
      "\n",
      "Attaching package: 'lubridate'\n",
      "\n",
      "The following object is masked from 'package:base':\n",
      "\n",
      "    date\n",
      "\n",
      "\n",
      "Attaching package: 'tidyr'\n",
      "\n",
      "The following object is masked from 'package:magrittr':\n",
      "\n",
      "    extract\n",
      "\n",
      "randomForest 4.6-12\n",
      "Type rfNews() to see new features/changes/bug fixes.\n",
      "\n",
      "Attaching package: 'randomForest'\n",
      "\n",
      "The following object is masked from 'package:dplyr':\n",
      "\n",
      "    combine\n",
      "\n",
      "\n",
      "Attaching package: 'ggplot2'\n",
      "\n",
      "The following object is masked from 'package:randomForest':\n",
      "\n",
      "    margin\n",
      "\n"
     ]
    }
   ],
   "source": [
    "########################################################################\n",
    "# R SETUP\n",
    "# Load required packages from local library into R.\n",
    "\n",
    "library(rattle)       # The normVarNames().\n",
    "library(readr)        # Modern and efficient data reader.\n",
    "library(dplyr)        # Wrangling: tbl_df(), group_by(), print(), glimpse().\n",
    "library(magrittr)     # Pipe operator %>% %<>% %T>% equals().\n",
    "library(lubridate)    # Dates and time.\n",
    "library(tidyr)        # Tidy the dataset: gather().\n",
    "library(stringi)      # String concat operator %s+%.\n",
    "library(stringr)      # String manipulation: str_replace().\n",
    "library(randomForest) # Impute missing values with na.roughfix()\n",
    "library(FSelector)    # Feature selection: information.gain().\n",
    "library(ggplot2)      # Visualise data.\n",
    "library(tibble)       # Table data frame: rownames_to_column()"
   ]
  },
  {
   "cell_type": "markdown",
   "metadata": {},
   "source": [
    "Let's define some utility functions which simplify the coding."
   ]
  },
  {
   "cell_type": "code",
   "execution_count": 4,
   "metadata": {
    "attributes": {
     "classes": [],
     "error": "FALSE",
     "id": "",
     "message": "FALSE,",
     "warning": "FALSE,"
    },
    "collapsed": true
   },
   "outputs": [],
   "source": [
    "# Useful utility functions.\n",
    "\n",
    "echo <- function(x, big.mark=\",\", ...)\n",
    "{\n",
    "  format(x, big.mark=big.mark, ...) %>% cat(\"\\n\")\n",
    "}"
   ]
  },
  {
   "cell_type": "markdown",
   "metadata": {},
   "source": [
    "# Step 1.1: Load - Dataset\n",
    "\n",
    "We use the studentScoreAUS dataset simulated from student data in UCI repository and an Australia Education Organization to illustrate our data preparation. Often though we will be loading the dataset from a CSV file and so we illustrate that step first. We begin by identifying the path to the CSV file we wish to load - in this case we load it from a local directory. Then it is a simple matter of reading the data into the memory of the computer, referring to it as variable studentScoreAUS."
   ]
  },
  {
   "cell_type": "code",
   "execution_count": 5,
   "metadata": {
    "attributes": {
     "classes": [],
     "error": "FALSE",
     "id": "",
     "message": "FALSE,",
     "warning": "FALSE,"
    },
    "collapsed": false
   },
   "outputs": [
    {
     "name": "stderr",
     "output_type": "stream",
     "text": [
      "Parsed with column specification:\n",
      "cols(\n",
      "  student_id = col_character(),\n",
      "  indigenous = col_logical(),\n",
      "  english_language = col_logical(),\n",
      "  father_occupation = col_character(),\n",
      "  mother_occupation = col_character(),\n",
      "  attendance_rate = col_double(),\n",
      "  guardian = col_character(),\n",
      "  level = col_integer(),\n",
      "  score = col_double(),\n",
      "  test_year = col_integer(),\n",
      "  school_code = col_integer()\n",
      ")\n"
     ]
    }
   ],
   "source": [
    "########################################################################\n",
    "# DATA INGESTION\n",
    "\n",
    "# Identify the source location of the dataset.\n",
    "\n",
    "dspath <- \"C:/Users/zhouf/Documents/Revolution Analytics/Projects/Education2/Demo/studentScoreAUS_20161215.csv\"\n",
    "\n",
    "# Ingest the dataset.\n",
    "\n",
    "studentScoreAUS <- read_csv(file=dspath)\n",
    "\n",
    "# Name the dataset.\n",
    "\n",
    "dsname <- \"studentScoreAUS\""
   ]
  },
  {
   "cell_type": "markdown",
   "metadata": {},
   "source": [
    "# Step 1.2: Load - Generic Variables\n",
    "\n",
    "Next, we will store the variable studentScoreAUS to a generic variable ds and take a glimpse of it. This will make the following steps somewhat generic and often we can just load a different dataset into ds and these steps can simply be re-run without change. Finally, we save the variable studentScoreAUS into a data folder as a .RData file and reload it for testing."
   ]
  },
  {
   "cell_type": "code",
   "execution_count": 6,
   "metadata": {
    "attributes": {
     "classes": [],
     "error": "FALSE",
     "id": "",
     "message": "FALSE,",
     "warning": "FALSE,"
    },
    "collapsed": false
   },
   "outputs": [
    {
     "name": "stdout",
     "output_type": "stream",
     "text": [
      "Observations: 1,222\n",
      "Variables: 11\n",
      "$ student_id        <chr> \"s00058\", \"s00058\", \"s00243\", \"s00201\", \"s00288\",...\n",
      "$ indigenous        <lgl> FALSE, FALSE, FALSE, FALSE, FALSE, FALSE, FALSE, ...\n",
      "$ english_language  <lgl> TRUE, TRUE, TRUE, TRUE, TRUE, TRUE, FALSE, TRUE, ...\n",
      "$ father_occupation <chr> \"other\", \"other\", \"other\", \"services\", \"other\", \"...\n",
      "$ mother_occupation <chr> \"other\", \"other\", \"services\", \"health\", \"other\", ...\n",
      "$ attendance_rate   <dbl> 0.9333333, 0.9333333, 0.9600000, 1.0000000, 0.840...\n",
      "$ guardian          <chr> \"mother\", \"mother\", \"mixed\", \"mother\", \"mother\", ...\n",
      "$ level             <int> 5, 7, 5, 7, 7, 3, 9, 7, 9, 5, 7, 5, 9, 9, 3, 7, 3...\n",
      "$ score             <dbl> 568.0, 481.0, 621.0, 530.0, 474.0, 487.0, 523.0, ...\n",
      "$ test_year         <int> 2011, 2013, 2011, 2013, 2013, 2009, 2015, 2013, 2...\n",
      "$ school_code       <int> 301, 301, 301, 301, 301, 301, 301, 301, 301, 301,...\n"
     ]
    }
   ],
   "source": [
    "# Prepare the dataset for usage with our template.\n",
    "\n",
    "ds <- get(dsname)\n",
    "glimpse(ds)"
   ]
  },
  {
   "cell_type": "code",
   "execution_count": 7,
   "metadata": {
    "attributes": {
     "classes": [],
     "error": "FALSE",
     "id": "",
     "message": "FALSE,",
     "warning": "FALSE,"
    },
    "collapsed": false
   },
   "outputs": [
    {
     "name": "stdout",
     "output_type": "stream",
     "text": [
      "[1] \"studentScoreAUS\"\n"
     ]
    }
   ],
   "source": [
    "# Save the dataset to disk as a binary backup if needed.\n",
    "\n",
    "fpath <- \"data\"\n",
    "fname <- file.path(fpath, dsname %s+% \".RData\")\n",
    "if (! dir.exists(fpath)) dir.create(fpath)\n",
    "save(studentScoreAUS, file=fname)\n",
    "\n",
    "# Remove the original dataset to save on memory.\n",
    "\n",
    "rm(studentScoreAUS)\n",
    "\n",
    "# Test the loading of the saved dataset and then cleanup.\n",
    "\n",
    "load(fname) %>% print()\n",
    "\n",
    "rm(studentScoreAUS)"
   ]
  },
  {
   "cell_type": "markdown",
   "metadata": {},
   "source": [
    "# Step 2.1: Review - Dataset\n",
    "\n",
    "We check the dimension and variable information of the dataset. There are 1,222 rows and 11 columns totally in the dataset, which includes variables showing information about test history, student demographic, school records and family information in various data types (chr, logi, int, and num)."
   ]
  },
  {
   "cell_type": "code",
   "execution_count": 8,
   "metadata": {
    "attributes": {
     "classes": [],
     "error": "FALSE",
     "id": "",
     "message": "FALSE,",
     "warning": "FALSE,"
    },
    "collapsed": false
   },
   "outputs": [
    {
     "name": "stdout",
     "output_type": "stream",
     "text": [
      "1,222 \n",
      "11 \n"
     ]
    }
   ],
   "source": [
    "########################################################################\n",
    "# DATA OBSERVATION\n",
    "\n",
    "# Basic size information.\n",
    "\n",
    "nrow(ds) %>% echo()\n",
    "ncol(ds) %>% echo()"
   ]
  },
  {
   "cell_type": "code",
   "execution_count": 9,
   "metadata": {
    "attributes": {
     "classes": [],
     "error": "FALSE",
     "id": "",
     "message": "FALSE,",
     "warning": "FALSE,"
    },
    "collapsed": false
   },
   "outputs": [
    {
     "name": "stdout",
     "output_type": "stream",
     "text": [
      "Observations: 1,222\n",
      "Variables: 11\n",
      "$ student_id        <chr> \"s00058\", \"s00058\", \"s00243\", \"s00201\", \"s00288\",...\n",
      "$ indigenous        <lgl> FALSE, FALSE, FALSE, FALSE, FALSE, FALSE, FALSE, ...\n",
      "$ english_language  <lgl> TRUE, TRUE, TRUE, TRUE, TRUE, TRUE, FALSE, TRUE, ...\n",
      "$ father_occupation <chr> \"other\", \"other\", \"other\", \"services\", \"other\", \"...\n",
      "$ mother_occupation <chr> \"other\", \"other\", \"services\", \"health\", \"other\", ...\n",
      "$ attendance_rate   <dbl> 0.9333333, 0.9333333, 0.9600000, 1.0000000, 0.840...\n",
      "$ guardian          <chr> \"mother\", \"mother\", \"mixed\", \"mother\", \"mother\", ...\n",
      "$ level             <int> 5, 7, 5, 7, 7, 3, 9, 7, 9, 5, 7, 5, 9, 9, 3, 7, 3...\n",
      "$ score             <dbl> 568.0, 481.0, 621.0, 530.0, 474.0, 487.0, 523.0, ...\n",
      "$ test_year         <int> 2011, 2013, 2011, 2013, 2013, 2009, 2015, 2013, 2...\n",
      "$ school_code       <int> 301, 301, 301, 301, 301, 301, 301, 301, 301, 301,...\n"
     ]
    }
   ],
   "source": [
    "# A glimpse into the dataset.\n",
    "\n",
    "glimpse(ds)"
   ]
  },
  {
   "cell_type": "markdown",
   "metadata": {},
   "source": [
    "# Step 2.2: Review - Meta Data Cleansing\n",
    "\n",
    "Then we review the variable names and convert them into a standard form using the function normVarNames() from rattle."
   ]
  },
  {
   "cell_type": "code",
   "execution_count": 10,
   "metadata": {
    "attributes": {
     "classes": [],
     "error": "FALSE",
     "id": "",
     "message": "FALSE,",
     "warning": "FALSE,"
    },
    "collapsed": false
   },
   "outputs": [
    {
     "data": {
      "text/html": [
       "<ol class=list-inline>\n",
       "\t<li>'student_id'</li>\n",
       "\t<li>'indigenous'</li>\n",
       "\t<li>'english_language'</li>\n",
       "\t<li>'father_occupation'</li>\n",
       "\t<li>'mother_occupation'</li>\n",
       "\t<li>'attendance_rate'</li>\n",
       "\t<li>'guardian'</li>\n",
       "\t<li>'level'</li>\n",
       "\t<li>'score'</li>\n",
       "\t<li>'test_year'</li>\n",
       "\t<li>'school_code'</li>\n",
       "</ol>\n"
      ],
      "text/latex": [
       "\\begin{enumerate*}\n",
       "\\item 'student\\_id'\n",
       "\\item 'indigenous'\n",
       "\\item 'english\\_language'\n",
       "\\item 'father\\_occupation'\n",
       "\\item 'mother\\_occupation'\n",
       "\\item 'attendance\\_rate'\n",
       "\\item 'guardian'\n",
       "\\item 'level'\n",
       "\\item 'score'\n",
       "\\item 'test\\_year'\n",
       "\\item 'school\\_code'\n",
       "\\end{enumerate*}\n"
      ],
      "text/markdown": [
       "1. 'student_id'\n",
       "2. 'indigenous'\n",
       "3. 'english_language'\n",
       "4. 'father_occupation'\n",
       "5. 'mother_occupation'\n",
       "6. 'attendance_rate'\n",
       "7. 'guardian'\n",
       "8. 'level'\n",
       "9. 'score'\n",
       "10. 'test_year'\n",
       "11. 'school_code'\n",
       "\n",
       "\n"
      ],
      "text/plain": [
       " [1] \"student_id\"        \"indigenous\"        \"english_language\" \n",
       " [4] \"father_occupation\" \"mother_occupation\" \"attendance_rate\"  \n",
       " [7] \"guardian\"          \"level\"             \"score\"            \n",
       "[10] \"test_year\"         \"school_code\"      "
      ]
     },
     "metadata": {},
     "output_type": "display_data"
    }
   ],
   "source": [
    "########################################################################\n",
    "# DATA WRANGLING\n",
    "\n",
    "# Review the variables to optionally normalise their names.\n",
    "\n",
    "names(ds)"
   ]
  },
  {
   "cell_type": "code",
   "execution_count": 11,
   "metadata": {
    "attributes": {
     "classes": [],
     "error": "FALSE",
     "id": "",
     "message": "FALSE,",
     "warning": "FALSE,"
    },
    "collapsed": false
   },
   "outputs": [
    {
     "name": "stdout",
     "output_type": "stream",
     "text": [
      " [1] \"student_id\"        \"indigenous\"        \"english_language\" \n",
      " [4] \"father_occupation\" \"mother_occupation\" \"attendance_rate\"  \n",
      " [7] \"guardian\"          \"level\"             \"score\"            \n",
      "[10] \"test_year\"         \"school_code\"      \n"
     ]
    }
   ],
   "source": [
    "# Normalise the variable names.\n",
    "\n",
    "names(ds) %<>% normVarNames() %T>% print()"
   ]
  },
  {
   "cell_type": "code",
   "execution_count": 12,
   "metadata": {
    "attributes": {
     "classes": [],
     "error": "FALSE",
     "id": "",
     "message": "FALSE,",
     "warning": "FALSE,"
    },
    "collapsed": false
   },
   "outputs": [
    {
     "name": "stdout",
     "output_type": "stream",
     "text": [
      "Observations: 1,222\n",
      "Variables: 11\n",
      "$ student_id        <chr> \"s00058\", \"s00058\", \"s00243\", \"s00201\", \"s00288\",...\n",
      "$ indigenous        <lgl> FALSE, FALSE, FALSE, FALSE, FALSE, FALSE, FALSE, ...\n",
      "$ english_language  <lgl> TRUE, TRUE, TRUE, TRUE, TRUE, TRUE, FALSE, TRUE, ...\n",
      "$ father_occupation <chr> \"other\", \"other\", \"other\", \"services\", \"other\", \"...\n",
      "$ mother_occupation <chr> \"other\", \"other\", \"services\", \"health\", \"other\", ...\n",
      "$ attendance_rate   <dbl> 0.9333333, 0.9333333, 0.9600000, 1.0000000, 0.840...\n",
      "$ guardian          <chr> \"mother\", \"mother\", \"mixed\", \"mother\", \"mother\", ...\n",
      "$ level             <int> 5, 7, 5, 7, 7, 3, 9, 7, 9, 5, 7, 5, 9, 9, 3, 7, 3...\n",
      "$ score             <dbl> 568.0, 481.0, 621.0, 530.0, 474.0, 487.0, 523.0, ...\n",
      "$ test_year         <int> 2011, 2013, 2011, 2013, 2013, 2009, 2015, 2013, 2...\n",
      "$ school_code       <int> 301, 301, 301, 301, 301, 301, 301, 301, 301, 301,...\n"
     ]
    }
   ],
   "source": [
    "# Review the dataset.\n",
    "\n",
    "glimpse(ds)"
   ]
  },
  {
   "cell_type": "markdown",
   "metadata": {},
   "source": [
    "# Step 2.3: Review - Observations\n",
    "\n",
    "Once we have normalized the variable names, the next step is to understand the shape of the dataset. A first look at the sample observations by using head(), tail(), and sample_n() give us an initial understanding of the data."
   ]
  },
  {
   "cell_type": "code",
   "execution_count": 13,
   "metadata": {
    "attributes": {
     "classes": [],
     "error": "FALSE",
     "id": "",
     "message": "FALSE,",
     "warning": "FALSE,"
    },
    "collapsed": false
   },
   "outputs": [
    {
     "name": "stdout",
     "output_type": "stream",
     "text": [
      "  student_id indigenous english_language father_occupation mother_occupation\n",
      "1     s00058      FALSE             TRUE             other             other\n",
      "2     s00058      FALSE             TRUE             other             other\n",
      "3     s00243      FALSE             TRUE             other          services\n",
      "4     s00201      FALSE             TRUE          services            health\n",
      "5     s00288      FALSE             TRUE             other             other\n",
      "6     s00070      FALSE             TRUE          services           teacher\n",
      "  attendance_rate guardian level score test_year school_code\n",
      "1       0.9333333   mother     5   568      2011         301\n",
      "2       0.9333333   mother     7   481      2013         301\n",
      "3       0.9600000    mixed     5   621      2011         301\n",
      "4       1.0000000   mother     7   530      2013         301\n",
      "5       0.8400000   mother     7   474      2013         301\n",
      "6       0.9866667   mother     3   487      2009         301\n"
     ]
    }
   ],
   "source": [
    "# Review the first few observations.\n",
    "\n",
    "head(ds) %>% print.data.frame()"
   ]
  },
  {
   "cell_type": "code",
   "execution_count": 14,
   "metadata": {
    "attributes": {
     "classes": [],
     "error": "FALSE",
     "id": "",
     "message": "FALSE,",
     "warning": "FALSE,"
    },
    "collapsed": false
   },
   "outputs": [
    {
     "name": "stdout",
     "output_type": "stream",
     "text": [
      "  student_id indigenous english_language father_occupation mother_occupation\n",
      "1     s00370      FALSE             TRUE             other           at_home\n",
      "2     s00141      FALSE             TRUE             other             other\n",
      "3     s00062      FALSE             TRUE             other             other\n",
      "4     s00332      FALSE             TRUE             other           at_home\n",
      "5     s00107      FALSE            FALSE           teacher             other\n",
      "6     s00164      FALSE            FALSE             other          services\n",
      "  attendance_rate guardian level score test_year school_code\n",
      "1       0.9733333   mother     9   456      2015         302\n",
      "2       0.4133333   mother     5   629      2011         301\n",
      "3       0.8533333   mother     3   546      2009         301\n",
      "4       0.8933333   mother     3   450      2009         301\n",
      "5       0.9466667   mother     3   356      2009         301\n",
      "6       0.8466667   father     5   666      2011         301\n"
     ]
    }
   ],
   "source": [
    "# Review the last few observations.\n",
    "\n",
    "tail(ds) %>% print.data.frame()"
   ]
  },
  {
   "cell_type": "code",
   "execution_count": 15,
   "metadata": {
    "attributes": {
     "classes": [],
     "error": "FALSE",
     "id": "",
     "message": "FALSE,",
     "warning": "FALSE,"
    },
    "collapsed": false
   },
   "outputs": [
    {
     "name": "stdout",
     "output_type": "stream",
     "text": [
      "  student_id indigenous english_language father_occupation mother_occupation\n",
      "1     s00087      FALSE             TRUE            health             other\n",
      "2     s00123      FALSE             TRUE             other             other\n",
      "3     s00011      FALSE             TRUE          services          services\n",
      "4     s00053      FALSE            FALSE             other             other\n",
      "5     s00238      FALSE             TRUE             other           at_home\n",
      "6     s00060      FALSE             TRUE           teacher          services\n",
      "  attendance_rate guardian level score test_year school_code\n",
      "1       0.9733333   father     7   574      2013         301\n",
      "2       0.9600000   mother     3   453      2009         301\n",
      "3       1.0000000   mother     7   642      2013         301\n",
      "4       1.0000000   mother     5   592      2011         301\n",
      "5       0.9333333    other     3   479      2009         301\n",
      "6       0.9866667   mother     9   626      2015         301\n"
     ]
    }
   ],
   "source": [
    "# Review a random sample of observations.\n",
    "\n",
    "sample_n(ds, size=6) %>% print.data.frame()"
   ]
  },
  {
   "cell_type": "markdown",
   "metadata": {},
   "source": [
    "# Step 2.4: Review - Summary\n",
    "\n",
    "Next, we use summary() to preview the distributions of each variable."
   ]
  },
  {
   "cell_type": "code",
   "execution_count": 16,
   "metadata": {
    "attributes": {
     "classes": [],
     "error": "FALSE",
     "id": "",
     "message": "FALSE,",
     "warning": "FALSE,"
    },
    "collapsed": false
   },
   "outputs": [
    {
     "data": {
      "text/plain": [
       "  student_id        indigenous      english_language father_occupation \n",
       " Length:1222        Mode :logical   Mode :logical    Length:1222       \n",
       " Class :character   FALSE:1202      FALSE:58         Class :character  \n",
       " Mode  :character   TRUE :20        TRUE :1164       Mode  :character  \n",
       "                    NA's :0         NA's :0                            \n",
       "                                                                       \n",
       "                                                                       \n",
       " mother_occupation  attendance_rate    guardian             level      \n",
       " Length:1222        Min.   :0.4000   Length:1222        Min.   :3.000  \n",
       " Class :character   1st Qu.:0.9200   Class :character   1st Qu.:3.000  \n",
       " Mode  :character   Median :0.9600   Mode  :character   Median :5.000  \n",
       "                    Mean   :0.9388                      Mean   :5.957  \n",
       "                    3rd Qu.:0.9867                      3rd Qu.:7.000  \n",
       "                    Max.   :1.0000                      Max.   :9.000  \n",
       "     score         test_year     school_code   \n",
       " Min.   :302.4   Min.   :2009   Min.   :301.0  \n",
       " 1st Qu.:481.0   1st Qu.:2009   1st Qu.:301.0  \n",
       " Median :544.0   Median :2011   Median :301.0  \n",
       " Mean   :550.7   Mean   :2012   Mean   :301.1  \n",
       " 3rd Qu.:623.0   3rd Qu.:2013   3rd Qu.:301.0  \n",
       " Max.   :798.0   Max.   :2015   Max.   :302.0  "
      ]
     },
     "metadata": {},
     "output_type": "display_data"
    }
   ],
   "source": [
    "# Traditional dataset summary to get started.\n",
    "\n",
    "summary(ds)"
   ]
  },
  {
   "cell_type": "markdown",
   "metadata": {},
   "source": [
    "# Step 2.5: Review - Data Formats\n",
    "\n",
    "Except for the generic data wrangling, we now do data wrangling customized for studentScoreAUS. For example, we check the number of unique schools in the dataset. Moreover, we may need to correct the format of some of the variables in our dataset. We might first check the data type of each variable. Noting that there are categorical variables in the formats of character, logical and integer, we may like to convert them to factor."
   ]
  },
  {
   "cell_type": "code",
   "execution_count": 17,
   "metadata": {
    "attributes": {
     "classes": [],
     "error": "FALSE",
     "id": "",
     "message": "FALSE,",
     "warning": "FALSE,"
    },
    "collapsed": false
   },
   "outputs": [
    {
     "data": {
      "text/html": [
       "2"
      ],
      "text/latex": [
       "2"
      ],
      "text/markdown": [
       "2"
      ],
      "text/plain": [
       "[1] 2"
      ]
     },
     "metadata": {},
     "output_type": "display_data"
    }
   ],
   "source": [
    "####################################\n",
    "# studentScoreAUS data wrangling.\n",
    "\n",
    "# How many schools are represented in the dataset? (Why we need to know this)\n",
    "\n",
    "ds$school_code %>% \n",
    "  unique() %>%\n",
    "  length()"
   ]
  },
  {
   "cell_type": "code",
   "execution_count": 18,
   "metadata": {
    "attributes": {
     "classes": [],
     "error": "FALSE",
     "id": "",
     "message": "FALSE,",
     "warning": "FALSE,"
    },
    "collapsed": false
   },
   "outputs": [
    {
     "data": {
      "text/html": [
       "<dl class=dl-horizontal>\n",
       "\t<dt>student_id</dt>\n",
       "\t\t<dd>'character'</dd>\n",
       "\t<dt>indigenous</dt>\n",
       "\t\t<dd>'logical'</dd>\n",
       "\t<dt>english_language</dt>\n",
       "\t\t<dd>'logical'</dd>\n",
       "\t<dt>father_occupation</dt>\n",
       "\t\t<dd>'character'</dd>\n",
       "\t<dt>mother_occupation</dt>\n",
       "\t\t<dd>'character'</dd>\n",
       "\t<dt>attendance_rate</dt>\n",
       "\t\t<dd>'numeric'</dd>\n",
       "\t<dt>guardian</dt>\n",
       "\t\t<dd>'character'</dd>\n",
       "\t<dt>level</dt>\n",
       "\t\t<dd>'integer'</dd>\n",
       "\t<dt>score</dt>\n",
       "\t\t<dd>'numeric'</dd>\n",
       "\t<dt>test_year</dt>\n",
       "\t\t<dd>'integer'</dd>\n",
       "\t<dt>school_code</dt>\n",
       "\t\t<dd>'integer'</dd>\n",
       "</dl>\n"
      ],
      "text/latex": [
       "\\begin{description*}\n",
       "\\item[student\\textbackslash{}\\_id] 'character'\n",
       "\\item[indigenous] 'logical'\n",
       "\\item[english\\textbackslash{}\\_language] 'logical'\n",
       "\\item[father\\textbackslash{}\\_occupation] 'character'\n",
       "\\item[mother\\textbackslash{}\\_occupation] 'character'\n",
       "\\item[attendance\\textbackslash{}\\_rate] 'numeric'\n",
       "\\item[guardian] 'character'\n",
       "\\item[level] 'integer'\n",
       "\\item[score] 'numeric'\n",
       "\\item[test\\textbackslash{}\\_year] 'integer'\n",
       "\\item[school\\textbackslash{}\\_code] 'integer'\n",
       "\\end{description*}\n"
      ],
      "text/markdown": [
       "student_id\n",
       ":   'character'indigenous\n",
       ":   'logical'english_language\n",
       ":   'logical'father_occupation\n",
       ":   'character'mother_occupation\n",
       ":   'character'attendance_rate\n",
       ":   'numeric'guardian\n",
       ":   'character'level\n",
       ":   'integer'score\n",
       ":   'numeric'test_year\n",
       ":   'integer'school_code\n",
       ":   'integer'\n",
       "\n"
      ],
      "text/plain": [
       "       student_id        indigenous  english_language father_occupation \n",
       "      \"character\"         \"logical\"         \"logical\"       \"character\" \n",
       "mother_occupation   attendance_rate          guardian             level \n",
       "      \"character\"         \"numeric\"       \"character\"         \"integer\" \n",
       "            score         test_year       school_code \n",
       "        \"numeric\"         \"integer\"         \"integer\" "
      ]
     },
     "metadata": {},
     "output_type": "display_data"
    }
   ],
   "source": [
    "# Check the class of all the variables.\n",
    "\n",
    "ds %>% sapply(class)"
   ]
  },
  {
   "cell_type": "code",
   "execution_count": 19,
   "metadata": {
    "attributes": {
     "classes": [],
     "error": "FALSE",
     "id": "",
     "message": "FALSE,",
     "warning": "FALSE,"
    },
    "collapsed": false
   },
   "outputs": [
    {
     "name": "stdout",
     "output_type": "stream",
     "text": [
      "[1] \"student_id\"        \"father_occupation\" \"mother_occupation\"\n",
      "[4] \"guardian\"         \n"
     ]
    }
   ],
   "source": [
    "# Select all the character variables.\n",
    "\n",
    "ds %>%\n",
    "  sapply(is.character) %>%\n",
    "  which(useNames=TRUE) %>%\n",
    "  names() %T>% \n",
    "  print() ->\n",
    "vnames"
   ]
  },
  {
   "cell_type": "code",
   "execution_count": 20,
   "metadata": {
    "attributes": {
     "classes": [],
     "error": "FALSE",
     "id": "",
     "message": "FALSE,",
     "warning": "FALSE,"
    },
    "collapsed": false
   },
   "outputs": [
    {
     "data": {
      "text/plain": [
       "   student_id   father_occupation mother_occupation   guardian  \n",
       " s00004 :   4   at_home : 56      at_home :167      father:270  \n",
       " s00008 :   4   health  : 50      health  :102      mixed : 21  \n",
       " s00012 :   4   other   :670      other   :452      mother:880  \n",
       " s00015 :   4   services:344      services:301      other : 51  \n",
       " s00019 :   4   teacher :102      teacher :200                  \n",
       " s00021 :   4                                                   \n",
       " (Other):1198                                                   "
      ]
     },
     "metadata": {},
     "output_type": "display_data"
    }
   ],
   "source": [
    "# Review the values of the variables.\n",
    "\n",
    "ds[vnames] %>%\n",
    "  sapply(as.factor) %>%\n",
    "  summary()"
   ]
  },
  {
   "cell_type": "code",
   "execution_count": 21,
   "metadata": {
    "attributes": {
     "classes": [],
     "error": "FALSE",
     "id": "",
     "message": "FALSE,",
     "warning": "FALSE,"
    },
    "collapsed": false
   },
   "outputs": [
    {
     "name": "stdout",
     "output_type": "stream",
     "text": [
      "[1] \"father_occupation\" \"mother_occupation\" \"guardian\"         \n",
      "# A tibble: 6 x 3\n",
      "  father_occupation mother_occupation guardian\n",
      "             <fctr>            <fctr>   <fctr>\n",
      "1             other             other   mother\n",
      "2             other             other   mother\n",
      "3             other          services    mixed\n",
      "4          services            health   mother\n",
      "5             other             other   mother\n",
      "6          services           teacher   mother\n"
     ]
    },
    {
     "data": {
      "text/html": [
       "<dl class=dl-horizontal>\n",
       "\t<dt>father_occupation</dt>\n",
       "\t\t<dd>'factor'</dd>\n",
       "\t<dt>mother_occupation</dt>\n",
       "\t\t<dd>'factor'</dd>\n",
       "\t<dt>guardian</dt>\n",
       "\t\t<dd>'factor'</dd>\n",
       "</dl>\n"
      ],
      "text/latex": [
       "\\begin{description*}\n",
       "\\item[father\\textbackslash{}\\_occupation] 'factor'\n",
       "\\item[mother\\textbackslash{}\\_occupation] 'factor'\n",
       "\\item[guardian] 'factor'\n",
       "\\end{description*}\n"
      ],
      "text/markdown": [
       "father_occupation\n",
       ":   'factor'mother_occupation\n",
       ":   'factor'guardian\n",
       ":   'factor'\n",
       "\n"
      ],
      "text/plain": [
       "father_occupation mother_occupation          guardian \n",
       "         \"factor\"          \"factor\"          \"factor\" "
      ]
     },
     "metadata": {},
     "output_type": "display_data"
    }
   ],
   "source": [
    "# Choose to convert these variables from character to factor.\n",
    "\n",
    "vnames %<>% setdiff(c(\"student_id\")) %T>% print()\n",
    "\n",
    "ds[vnames] %<>% \n",
    "  lapply(factor) %>% \n",
    "  data.frame() %>% \n",
    "  tbl_df() %T>%\n",
    "  {head(.) %>% print()}\n",
    "\n",
    "# Confirm they are now factors.\n",
    "\n",
    "ds[vnames] %>% sapply(class)"
   ]
  },
  {
   "cell_type": "code",
   "execution_count": 22,
   "metadata": {
    "attributes": {
     "classes": [],
     "error": "FALSE",
     "id": "",
     "message": "FALSE,",
     "warning": "FALSE,"
    },
    "collapsed": false
   },
   "outputs": [
    {
     "name": "stdout",
     "output_type": "stream",
     "text": [
      "[1] \"indigenous\"       \"english_language\"\n"
     ]
    }
   ],
   "source": [
    "# Select all the logical variables.\n",
    "\n",
    "ds %>%\n",
    "  sapply(is.logical) %>%\n",
    "  which(useNames=TRUE) %>%\n",
    "  names() %T>% \n",
    "  print() ->\n",
    "vnames"
   ]
  },
  {
   "cell_type": "code",
   "execution_count": 23,
   "metadata": {
    "attributes": {
     "classes": [],
     "error": "FALSE",
     "id": "",
     "message": "FALSE,",
     "warning": "FALSE,"
    },
    "collapsed": false
   },
   "outputs": [
    {
     "data": {
      "text/html": [
       "<table>\n",
       "<thead><tr><th scope=col>indigenous</th><th scope=col>english_language</th></tr></thead>\n",
       "<tbody>\n",
       "\t<tr><td>FALSE</td><td>TRUE </td></tr>\n",
       "\t<tr><td>FALSE</td><td>TRUE </td></tr>\n",
       "\t<tr><td>FALSE</td><td>TRUE </td></tr>\n",
       "\t<tr><td>FALSE</td><td>TRUE </td></tr>\n",
       "\t<tr><td>FALSE</td><td>TRUE </td></tr>\n",
       "\t<tr><td>FALSE</td><td>TRUE </td></tr>\n",
       "</tbody>\n",
       "</table>\n"
      ],
      "text/latex": [
       "\\begin{tabular}{r|ll}\n",
       " indigenous & english\\_language\\\\\n",
       "\\hline\n",
       "\t FALSE & TRUE \\\\\n",
       "\t FALSE & TRUE \\\\\n",
       "\t FALSE & TRUE \\\\\n",
       "\t FALSE & TRUE \\\\\n",
       "\t FALSE & TRUE \\\\\n",
       "\t FALSE & TRUE \\\\\n",
       "\\end{tabular}\n"
      ],
      "text/plain": [
       "  indigenous english_language\n",
       "1 FALSE      TRUE            \n",
       "2 FALSE      TRUE            \n",
       "3 FALSE      TRUE            \n",
       "4 FALSE      TRUE            \n",
       "5 FALSE      TRUE            \n",
       "6 FALSE      TRUE            "
      ]
     },
     "metadata": {},
     "output_type": "display_data"
    }
   ],
   "source": [
    "# Decide to convert these variables from logical to factor.\n",
    "\n",
    "ds[vnames] %>% head()"
   ]
  },
  {
   "cell_type": "code",
   "execution_count": 24,
   "metadata": {
    "attributes": {
     "classes": [],
     "error": "FALSE",
     "id": "",
     "message": "FALSE,",
     "warning": "FALSE,"
    },
    "collapsed": false
   },
   "outputs": [
    {
     "name": "stdout",
     "output_type": "stream",
     "text": [
      "# A tibble: 6 x 2\n",
      "  indigenous english_language\n",
      "      <fctr>           <fctr>\n",
      "1      FALSE             TRUE\n",
      "2      FALSE             TRUE\n",
      "3      FALSE             TRUE\n",
      "4      FALSE             TRUE\n",
      "5      FALSE             TRUE\n",
      "6      FALSE             TRUE\n"
     ]
    }
   ],
   "source": [
    "ds[vnames] %<>% \n",
    "  lapply(factor) %>% \n",
    "  data.frame() %>% \n",
    "  tbl_df() %T>%\n",
    "  {head(.) %>% print()}"
   ]
  },
  {
   "cell_type": "code",
   "execution_count": 25,
   "metadata": {
    "attributes": {
     "classes": [],
     "error": "FALSE",
     "id": "",
     "message": "FALSE,",
     "warning": "FALSE,"
    },
    "collapsed": false
   },
   "outputs": [
    {
     "name": "stdout",
     "output_type": "stream",
     "text": [
      "[1] \"level\"       \"test_year\"   \"school_code\"\n"
     ]
    }
   ],
   "source": [
    "# Select all the integer variables.\n",
    "\n",
    "ds %>%\n",
    "  sapply(is.integer) %>%\n",
    "  which(useNames=TRUE) %>%\n",
    "  names() %T>% \n",
    "  print() ->\n",
    "vnames"
   ]
  },
  {
   "cell_type": "code",
   "execution_count": 26,
   "metadata": {
    "attributes": {
     "classes": [],
     "error": "FALSE",
     "id": "",
     "message": "FALSE,",
     "warning": "FALSE,"
    },
    "collapsed": false
   },
   "outputs": [
    {
     "data": {
      "text/html": [
       "<table>\n",
       "<thead><tr><th scope=col>level</th><th scope=col>test_year</th><th scope=col>school_code</th></tr></thead>\n",
       "<tbody>\n",
       "\t<tr><td>5   </td><td>2011</td><td>301 </td></tr>\n",
       "\t<tr><td>7   </td><td>2013</td><td>301 </td></tr>\n",
       "\t<tr><td>5   </td><td>2011</td><td>301 </td></tr>\n",
       "\t<tr><td>7   </td><td>2013</td><td>301 </td></tr>\n",
       "\t<tr><td>7   </td><td>2013</td><td>301 </td></tr>\n",
       "\t<tr><td>3   </td><td>2009</td><td>301 </td></tr>\n",
       "</tbody>\n",
       "</table>\n"
      ],
      "text/latex": [
       "\\begin{tabular}{r|lll}\n",
       " level & test\\_year & school\\_code\\\\\n",
       "\\hline\n",
       "\t 5    & 2011 & 301 \\\\\n",
       "\t 7    & 2013 & 301 \\\\\n",
       "\t 5    & 2011 & 301 \\\\\n",
       "\t 7    & 2013 & 301 \\\\\n",
       "\t 7    & 2013 & 301 \\\\\n",
       "\t 3    & 2009 & 301 \\\\\n",
       "\\end{tabular}\n"
      ],
      "text/plain": [
       "  level test_year school_code\n",
       "1 5     2011      301        \n",
       "2 7     2013      301        \n",
       "3 5     2011      301        \n",
       "4 7     2013      301        \n",
       "5 7     2013      301        \n",
       "6 3     2009      301        "
      ]
     },
     "metadata": {},
     "output_type": "display_data"
    }
   ],
   "source": [
    "# Decide to convert these variables from integer to factor.\n",
    "\n",
    "ds[vnames] %>% head()"
   ]
  },
  {
   "cell_type": "code",
   "execution_count": 27,
   "metadata": {
    "attributes": {
     "classes": [],
     "error": "FALSE",
     "id": "",
     "message": "FALSE,",
     "warning": "FALSE,"
    },
    "collapsed": false
   },
   "outputs": [
    {
     "name": "stdout",
     "output_type": "stream",
     "text": [
      "# A tibble: 6 x 3\n",
      "   level test_year school_code\n",
      "  <fctr>    <fctr>      <fctr>\n",
      "1      5      2011         301\n",
      "2      7      2013         301\n",
      "3      5      2011         301\n",
      "4      7      2013         301\n",
      "5      7      2013         301\n",
      "6      3      2009         301\n"
     ]
    }
   ],
   "source": [
    "ds[vnames] %<>% \n",
    "  lapply(factor) %>% \n",
    "  data.frame() %>% \n",
    "  tbl_df() %T>%\n",
    "  {head(.) %>% print()}"
   ]
  },
  {
   "cell_type": "code",
   "execution_count": 28,
   "metadata": {
    "attributes": {
     "classes": [],
     "error": "FALSE",
     "id": "",
     "message": "FALSE,",
     "warning": "FALSE,"
    },
    "collapsed": false
   },
   "outputs": [
    {
     "data": {
      "text/plain": [
       "$indigenous\n",
       "\n",
       "FALSE  TRUE \n",
       " 1202    20 \n",
       "\n",
       "$english_language\n",
       "\n",
       "FALSE  TRUE \n",
       "   58  1164 \n",
       "\n",
       "$father_occupation\n",
       "\n",
       " at_home   health    other services  teacher \n",
       "      56       50      670      344      102 \n",
       "\n",
       "$mother_occupation\n",
       "\n",
       " at_home   health    other services  teacher \n",
       "     167      102      452      301      200 \n",
       "\n",
       "$guardian\n",
       "\n",
       "father  mixed mother  other \n",
       "   270     21    880     51 \n",
       "\n",
       "$level\n",
       "\n",
       "  3   5   7   9 \n",
       "319 303 296 304 \n",
       "\n",
       "$test_year\n",
       "\n",
       "2009 2011 2013 2015 \n",
       " 319  303  296  304 \n",
       "\n",
       "$school_code\n",
       "\n",
       " 301  302 \n",
       "1085  137 \n"
      ]
     },
     "metadata": {},
     "output_type": "display_data"
    }
   ],
   "source": [
    "# Review the distribution of observations across levels.\n",
    "\n",
    "ds[, sapply(ds, is.factor)] %>% sapply(table)"
   ]
  },
  {
   "cell_type": "code",
   "execution_count": 29,
   "metadata": {
    "attributes": {
     "classes": [],
     "error": "FALSE",
     "id": "",
     "message": "FALSE,",
     "warning": "FALSE,"
    },
    "collapsed": false
   },
   "outputs": [
    {
     "data": {
      "text/html": [
       "<dl class=dl-horizontal>\n",
       "\t<dt>student_id</dt>\n",
       "\t\t<dd>'character'</dd>\n",
       "\t<dt>indigenous</dt>\n",
       "\t\t<dd>'factor'</dd>\n",
       "\t<dt>english_language</dt>\n",
       "\t\t<dd>'factor'</dd>\n",
       "\t<dt>father_occupation</dt>\n",
       "\t\t<dd>'factor'</dd>\n",
       "\t<dt>mother_occupation</dt>\n",
       "\t\t<dd>'factor'</dd>\n",
       "\t<dt>attendance_rate</dt>\n",
       "\t\t<dd>'numeric'</dd>\n",
       "\t<dt>guardian</dt>\n",
       "\t\t<dd>'factor'</dd>\n",
       "\t<dt>level</dt>\n",
       "\t\t<dd>'factor'</dd>\n",
       "\t<dt>score</dt>\n",
       "\t\t<dd>'numeric'</dd>\n",
       "\t<dt>test_year</dt>\n",
       "\t\t<dd>'factor'</dd>\n",
       "\t<dt>school_code</dt>\n",
       "\t\t<dd>'factor'</dd>\n",
       "</dl>\n"
      ],
      "text/latex": [
       "\\begin{description*}\n",
       "\\item[student\\textbackslash{}\\_id] 'character'\n",
       "\\item[indigenous] 'factor'\n",
       "\\item[english\\textbackslash{}\\_language] 'factor'\n",
       "\\item[father\\textbackslash{}\\_occupation] 'factor'\n",
       "\\item[mother\\textbackslash{}\\_occupation] 'factor'\n",
       "\\item[attendance\\textbackslash{}\\_rate] 'numeric'\n",
       "\\item[guardian] 'factor'\n",
       "\\item[level] 'factor'\n",
       "\\item[score] 'numeric'\n",
       "\\item[test\\textbackslash{}\\_year] 'factor'\n",
       "\\item[school\\textbackslash{}\\_code] 'factor'\n",
       "\\end{description*}\n"
      ],
      "text/markdown": [
       "student_id\n",
       ":   'character'indigenous\n",
       ":   'factor'english_language\n",
       ":   'factor'father_occupation\n",
       ":   'factor'mother_occupation\n",
       ":   'factor'attendance_rate\n",
       ":   'numeric'guardian\n",
       ":   'factor'level\n",
       ":   'factor'score\n",
       ":   'numeric'test_year\n",
       ":   'factor'school_code\n",
       ":   'factor'\n",
       "\n"
      ],
      "text/plain": [
       "       student_id        indigenous  english_language father_occupation \n",
       "      \"character\"          \"factor\"          \"factor\"          \"factor\" \n",
       "mother_occupation   attendance_rate          guardian             level \n",
       "         \"factor\"         \"numeric\"          \"factor\"          \"factor\" \n",
       "            score         test_year       school_code \n",
       "        \"numeric\"          \"factor\"          \"factor\" "
      ]
     },
     "metadata": {},
     "output_type": "display_data"
    }
   ],
   "source": [
    "# Note the remaining variables to be dealt with.\n",
    "\n",
    "sapply(ds, class)"
   ]
  },
  {
   "cell_type": "code",
   "execution_count": 30,
   "metadata": {
    "attributes": {
     "classes": [],
     "error": "FALSE",
     "id": "",
     "message": "FALSE,",
     "warning": "FALSE,"
    },
    "collapsed": false
   },
   "outputs": [
    {
     "data": {
      "text/html": [
       "<table>\n",
       "<thead><tr><th scope=col>score</th><th scope=col>attendance_rate</th></tr></thead>\n",
       "<tbody>\n",
       "\t<tr><td>568      </td><td>0.9333333</td></tr>\n",
       "\t<tr><td>481      </td><td>0.9333333</td></tr>\n",
       "\t<tr><td>621      </td><td>0.9600000</td></tr>\n",
       "\t<tr><td>530      </td><td>1.0000000</td></tr>\n",
       "\t<tr><td>474      </td><td>0.8400000</td></tr>\n",
       "\t<tr><td>487      </td><td>0.9866667</td></tr>\n",
       "</tbody>\n",
       "</table>\n"
      ],
      "text/latex": [
       "\\begin{tabular}{r|ll}\n",
       " score & attendance\\_rate\\\\\n",
       "\\hline\n",
       "\t 568       & 0.9333333\\\\\n",
       "\t 481       & 0.9333333\\\\\n",
       "\t 621       & 0.9600000\\\\\n",
       "\t 530       & 1.0000000\\\\\n",
       "\t 474       & 0.8400000\\\\\n",
       "\t 487       & 0.9866667\\\\\n",
       "\\end{tabular}\n"
      ],
      "text/plain": [
       "  score attendance_rate\n",
       "1 568   0.9333333      \n",
       "2 481   0.9333333      \n",
       "3 621   0.9600000      \n",
       "4 530   1.0000000      \n",
       "5 474   0.8400000      \n",
       "6 487   0.9866667      "
      ]
     },
     "metadata": {},
     "output_type": "display_data"
    },
    {
     "data": {
      "text/html": [
       "<table>\n",
       "<thead><tr><th scope=col>score</th><th scope=col>attendance_rate</th></tr></thead>\n",
       "<tbody>\n",
       "\t<tr><td>480      </td><td>0.9733333</td></tr>\n",
       "\t<tr><td>629      </td><td>0.9866667</td></tr>\n",
       "\t<tr><td>513      </td><td>0.8666667</td></tr>\n",
       "\t<tr><td>668      </td><td>0.9466667</td></tr>\n",
       "\t<tr><td>627      </td><td>0.9866667</td></tr>\n",
       "\t<tr><td>493      </td><td>1.0000000</td></tr>\n",
       "</tbody>\n",
       "</table>\n"
      ],
      "text/latex": [
       "\\begin{tabular}{r|ll}\n",
       " score & attendance\\_rate\\\\\n",
       "\\hline\n",
       "\t 480       & 0.9733333\\\\\n",
       "\t 629       & 0.9866667\\\\\n",
       "\t 513       & 0.8666667\\\\\n",
       "\t 668       & 0.9466667\\\\\n",
       "\t 627       & 0.9866667\\\\\n",
       "\t 493       & 1.0000000\\\\\n",
       "\\end{tabular}\n"
      ],
      "text/plain": [
       "  score attendance_rate\n",
       "1 480   0.9733333      \n",
       "2 629   0.9866667      \n",
       "3 513   0.8666667      \n",
       "4 668   0.9466667      \n",
       "5 627   0.9866667      \n",
       "6 493   1.0000000      "
      ]
     },
     "metadata": {},
     "output_type": "display_data"
    }
   ],
   "source": [
    "vnames <- c(\"score\", \"attendance_rate\") \n",
    "\n",
    "# Review the values.\n",
    "\n",
    "head(ds[vnames])\n",
    "sample_n(ds[vnames], 6)"
   ]
  },
  {
   "cell_type": "code",
   "execution_count": 31,
   "metadata": {
    "attributes": {
     "classes": [],
     "error": "FALSE",
     "id": "",
     "message": "FALSE,",
     "warning": "FALSE,"
    },
    "collapsed": false
   },
   "outputs": [
    {
     "data": {
      "text/html": [
       "<dl class=dl-horizontal>\n",
       "\t<dt>score</dt>\n",
       "\t\t<dd>'numeric'</dd>\n",
       "\t<dt>attendance_rate</dt>\n",
       "\t\t<dd>'numeric'</dd>\n",
       "</dl>\n"
      ],
      "text/latex": [
       "\\begin{description*}\n",
       "\\item[score] 'numeric'\n",
       "\\item[attendance\\textbackslash{}\\_rate] 'numeric'\n",
       "\\end{description*}\n"
      ],
      "text/markdown": [
       "score\n",
       ":   'numeric'attendance_rate\n",
       ":   'numeric'\n",
       "\n"
      ],
      "text/plain": [
       "          score attendance_rate \n",
       "      \"numeric\"       \"numeric\" "
      ]
     },
     "metadata": {},
     "output_type": "display_data"
    }
   ],
   "source": [
    "# Check the current class of the variables.\n",
    "\n",
    "ds[vnames] %>% sapply(class)"
   ]
  },
  {
   "cell_type": "markdown",
   "metadata": {},
   "source": [
    "# Step 2.6: Review - Variable Roles\n",
    "\n",
    "We are now in a position to identify the roles played by the variables within the dataset. We assign the variable score which we are going to predict to be our target variable and put it in front of all. From our observations so far we note that the variable test_year is not relevant to the modelling. Also we treat the varaibles student_id and school_code as observation identifiers."
   ]
  },
  {
   "cell_type": "code",
   "execution_count": 32,
   "metadata": {
    "attributes": {
     "classes": [],
     "error": "FALSE",
     "id": "",
     "message": "FALSE,",
     "warning": "FALSE,"
    },
    "collapsed": false
   },
   "outputs": [
    {
     "name": "stdout",
     "output_type": "stream",
     "text": [
      " [1] \"student_id\"        \"indigenous\"        \"english_language\" \n",
      " [4] \"father_occupation\" \"mother_occupation\" \"attendance_rate\"  \n",
      " [7] \"guardian\"          \"level\"             \"score\"            \n",
      "[10] \"test_year\"         \"school_code\"      \n"
     ]
    }
   ],
   "source": [
    "####################################\n",
    "# Variable Roles\n",
    "\n",
    "# Note the available variables.\n",
    "\n",
    "vars <- names(ds) %T>% print()"
   ]
  },
  {
   "cell_type": "code",
   "execution_count": 33,
   "metadata": {
    "attributes": {
     "classes": [],
     "error": "FALSE",
     "id": "",
     "message": "FALSE,",
     "warning": "FALSE,"
    },
    "collapsed": false
   },
   "outputs": [
    {
     "name": "stdout",
     "output_type": "stream",
     "text": [
      " [1] \"score\"             \"student_id\"        \"indigenous\"       \n",
      " [4] \"english_language\"  \"father_occupation\" \"mother_occupation\"\n",
      " [7] \"attendance_rate\"   \"guardian\"          \"level\"            \n",
      "[10] \"test_year\"         \"school_code\"      \n"
     ]
    }
   ],
   "source": [
    "# Note the target variable.\n",
    "\n",
    "target <- \"score\"\n",
    "\n",
    "# Place the target variable at the beginning of the vars.\n",
    "\n",
    "vars <- c(target, vars) %>% unique() %T>% print()\n",
    "\n",
    "# Note any identifiers.\n",
    "\n",
    "id <- c(\"student_id\", \"school_code\", \"test_year\")"
   ]
  },
  {
   "cell_type": "markdown",
   "metadata": {},
   "source": [
    "# Step 3.1: Clean - Ignore IDs, Outputs, Missing\n",
    "\n",
    "## IDs and Outputs \n",
    "\n",
    "We will want to ignore some variables that are irrelevant or inappropriate for modelling as normal predictors. We start with the identifiers and the risk variable (there is no risk variable in this case)."
   ]
  },
  {
   "cell_type": "code",
   "execution_count": 34,
   "metadata": {
    "attributes": {
     "classes": [],
     "error": "FALSE",
     "id": "",
     "message": "FALSE,",
     "warning": "FALSE,"
    },
    "collapsed": false
   },
   "outputs": [
    {
     "name": "stdout",
     "output_type": "stream",
     "text": [
      "[1] \"student_id\"  \"school_code\" \"test_year\"  \n"
     ]
    }
   ],
   "source": [
    "####################################\n",
    "# Generic data wrangling.\n",
    "\n",
    "# Initialise ignored variables: identifiers and risk.\n",
    "\n",
    "ignore <- union(id, if (exists(\"risk\")) risk) %T>% print()"
   ]
  },
  {
   "cell_type": "markdown",
   "metadata": {},
   "source": [
    "We might also identify any variable that has a unique value for every observation. These are sometimes identifiers as well and if so are candidates for ignoring."
   ]
  },
  {
   "cell_type": "code",
   "execution_count": 35,
   "metadata": {
    "attributes": {
     "classes": [],
     "error": "FALSE",
     "id": "",
     "message": "FALSE,",
     "warning": "FALSE,"
    },
    "collapsed": false
   },
   "outputs": [
    {
     "name": "stdout",
     "output_type": "stream",
     "text": [
      "character(0)\n",
      "[1] \"student_id\"  \"school_code\" \"test_year\"  \n"
     ]
    }
   ],
   "source": [
    "# Heuristic for candidate indentifiers to possibly ignore. \n",
    "\n",
    "ds[vars] %>%\n",
    "  sapply(function(x) x %>% unique() %>% length()) %>%\n",
    "  equals(nrow(ds)) %>%\n",
    "  which() %>%\n",
    "  names() %T>%\n",
    "  print() ->\n",
    "ids\n",
    "\n",
    "# Add them if any to the variables to be ignored for modelling.\n",
    "\n",
    "ignore <- union(ignore, ids) %T>% print()"
   ]
  },
  {
   "cell_type": "markdown",
   "metadata": {},
   "source": [
    "## All Missing\n",
    "\n",
    "We then remove any variable where all of the values are missing."
   ]
  },
  {
   "cell_type": "code",
   "execution_count": 36,
   "metadata": {
    "attributes": {
     "classes": [],
     "error": "FALSE",
     "id": "",
     "message": "FALSE,",
     "warning": "FALSE,"
    },
    "collapsed": false
   },
   "outputs": [
    {
     "name": "stdout",
     "output_type": "stream",
     "text": [
      "character(0)\n",
      "[1] \"student_id\"  \"school_code\" \"test_year\"  \n"
     ]
    }
   ],
   "source": [
    "# Identify variables with only missing values.\n",
    "\n",
    "ds[vars] %>%\n",
    "  sapply(function(x) x %>% is.na %>% sum) %>%\n",
    "  equals(nrow(ds)) %>%\n",
    "  which() %>%\n",
    "  names() %T>%\n",
    "  print() ->\n",
    "missing\n",
    "\n",
    "# Add them if any to the variables to be ignored for modelling.\n",
    "\n",
    "ignore <- union(ignore, missing) %T>% print()"
   ]
  },
  {
   "cell_type": "markdown",
   "metadata": {},
   "source": [
    "## Many Missing\n",
    "\n",
    "Perhaps we also want to ignore variables with more than 70% of the values missing."
   ]
  },
  {
   "cell_type": "code",
   "execution_count": 37,
   "metadata": {
    "attributes": {
     "classes": [],
     "error": "FALSE",
     "id": "",
     "message": "FALSE,",
     "warning": "FALSE,"
    },
    "collapsed": false
   },
   "outputs": [
    {
     "name": "stdout",
     "output_type": "stream",
     "text": [
      "character(0)\n",
      "[1] \"student_id\"  \"school_code\" \"test_year\"  \n"
     ]
    }
   ],
   "source": [
    "# Identify a threshold above which proportion missing is fatal.\n",
    "\n",
    "missing.threshold <- 0.7\n",
    "\n",
    "# Identify variables that are mostly missing.\n",
    "\n",
    "ds[vars] %>%\n",
    "  sapply(function(x) x %>% is.na() %>% sum()) %>%\n",
    "  '>'(missing.threshold*nrow(ds)) %>%\n",
    "  which() %>%\n",
    "  names() %T>%\n",
    "  print() ->\n",
    "mostly\n",
    "\n",
    "# Add them if any to the variables to be ignored for modelling.\n",
    "\n",
    "ignore <- union(ignore, mostly) %T>% print()"
   ]
  },
  {
   "cell_type": "markdown",
   "metadata": {},
   "source": [
    "# Step 3.2: Clean - Ignore MultiLevel, Constants\n",
    "\n",
    "## Too Many Levels\n",
    "\n",
    "We might also want to ignore variables with too many levels."
   ]
  },
  {
   "cell_type": "code",
   "execution_count": 38,
   "metadata": {
    "attributes": {
     "classes": [],
     "error": "FALSE",
     "id": "",
     "message": "FALSE,",
     "warning": "FALSE,"
    },
    "collapsed": false
   },
   "outputs": [
    {
     "name": "stdout",
     "output_type": "stream",
     "text": [
      "character(0)\n",
      "[1] \"student_id\"  \"school_code\" \"test_year\"  \n"
     ]
    }
   ],
   "source": [
    "# Identify a threshold above which we have too many levels.\n",
    "\n",
    "levels.threshold <- 20\n",
    "\n",
    "# Identify variables that have too many levels.\n",
    "\n",
    "ds[vars] %>%\n",
    "  sapply(is.factor) %>%\n",
    "  which() %>%\n",
    "  names() %>%\n",
    "  sapply(function(x) ds %>% extract2(x) %>% levels() %>% length()) %>%\n",
    "  '>='(levels.threshold) %>%\n",
    "  which() %>%\n",
    "  names() %T>%\n",
    "  print() ->\n",
    "too.many\n",
    "\n",
    "# Add them if any to the variables to be ignored for modelling.\n",
    "\n",
    "ignore <- union(ignore, too.many) %T>% print()"
   ]
  },
  {
   "cell_type": "markdown",
   "metadata": {},
   "source": [
    "## Constants\n",
    "\n",
    "We ingore variables with constant values as well."
   ]
  },
  {
   "cell_type": "code",
   "execution_count": 39,
   "metadata": {
    "attributes": {
     "classes": [],
     "error": "FALSE",
     "id": "",
     "message": "FALSE,",
     "warning": "FALSE,"
    },
    "collapsed": false
   },
   "outputs": [
    {
     "name": "stdout",
     "output_type": "stream",
     "text": [
      "character(0)\n",
      "[1] \"student_id\"  \"school_code\" \"test_year\"  \n"
     ]
    }
   ],
   "source": [
    "# Identify variables that have a single value.\n",
    "\n",
    "ds[vars] %>%\n",
    "  sapply(function(x) all(x == x[1L])) %>%\n",
    "  which() %>%\n",
    "  names() %T>%\n",
    "  print() ->\n",
    "constants \n",
    "\n",
    "# Add them if any to the variables to be ignored for modelling.\n",
    "\n",
    "ignore <- union(ignore, constants) %T>% print()"
   ]
  },
  {
   "cell_type": "markdown",
   "metadata": {},
   "source": [
    "# Step 3.3: Clean - Ignore Correlated Varaibles\n",
    "\n",
    "Within all the numeric varaibles, we can identify pairs where we want to keep one but not the other, because they are highly correlated. We will select them manually since it is a judgement call. Normally we might limit the removals to those correlations that are 0.95 or more. In this case, there does not exist a collinearity."
   ]
  },
  {
   "cell_type": "code",
   "execution_count": 40,
   "metadata": {
    "attributes": {
     "classes": [],
     "error": "FALSE",
     "id": "",
     "message": "FALSE,",
     "warning": "FALSE,"
    },
    "collapsed": false
   },
   "outputs": [
    {
     "name": "stdout",
     "output_type": "stream",
     "text": [
      "[1] \"score\"           \"attendance_rate\"\n"
     ]
    }
   ],
   "source": [
    "# Note which variables are numeric.\n",
    "\n",
    "vars %>%\n",
    "  setdiff(ignore) %>%\n",
    "  '['(ds, .) %>%\n",
    "  sapply(is.numeric) %>% \n",
    "  which() %>%\n",
    "  names() %T>%\n",
    "  print() ->\n",
    "numc"
   ]
  },
  {
   "cell_type": "code",
   "execution_count": 41,
   "metadata": {
    "attributes": {
     "classes": [],
     "error": "FALSE",
     "id": "",
     "message": "FALSE,",
     "warning": "FALSE,"
    },
    "collapsed": false
   },
   "outputs": [
    {
     "name": "stdout",
     "output_type": "stream",
     "text": [
      "# A tibble: 1 x 3\n",
      "             var1  var2       cor\n",
      "            <chr> <chr>     <dbl>\n",
      "1 attendance_rate score 0.1722439\n"
     ]
    }
   ],
   "source": [
    "# For the numeric variables generate a table of correlations\n",
    "\n",
    "ds[numc] %>%\n",
    "  cor(use=\"complete.obs\") %>%\n",
    "  ifelse(upper.tri(., diag=TRUE), NA, .) %>% \n",
    "  abs %>% \n",
    "  data.frame %>%\n",
    "  tbl_df %>%\n",
    "  set_colnames(numc) %>%\n",
    "  mutate(var1=numc) %>% \n",
    "  gather(var2, cor, -var1) %>% \n",
    "  na.omit %>%\n",
    "  arrange(-abs(cor)) %T>%\n",
    "  print() ->\n",
    "mc"
   ]
  },
  {
   "cell_type": "code",
   "execution_count": 42,
   "metadata": {
    "attributes": {
     "classes": [],
     "error": "FALSE",
     "id": "",
     "message": "FALSE,",
     "warning": "FALSE,"
    },
    "collapsed": false
   },
   "outputs": [
    {
     "name": "stdout",
     "output_type": "stream",
     "text": [
      "[1] \"student_id\"  \"school_code\" \"test_year\"  \n"
     ]
    }
   ],
   "source": [
    "# Any variables could be removed because highly correlated?\n",
    "\n",
    "ignore <- union(ignore, NULL) %T>% print()"
   ]
  },
  {
   "cell_type": "markdown",
   "metadata": {},
   "source": [
    "# Step 3.4: Clean - Remove the Ignored Variables\n",
    "\n",
    "Once we have identified the variables to ignore, we remove them from our list of variables to use."
   ]
  },
  {
   "cell_type": "code",
   "execution_count": 43,
   "metadata": {
    "attributes": {
     "classes": [],
     "error": "FALSE",
     "id": "",
     "message": "FALSE,",
     "warning": "FALSE,"
    },
    "collapsed": false
   },
   "outputs": [
    {
     "data": {
      "text/html": [
       "11"
      ],
      "text/latex": [
       "11"
      ],
      "text/markdown": [
       "11"
      ],
      "text/plain": [
       "[1] 11"
      ]
     },
     "metadata": {},
     "output_type": "display_data"
    }
   ],
   "source": [
    "# Check the number of variables currently.\n",
    "\n",
    "length(vars)"
   ]
  },
  {
   "cell_type": "code",
   "execution_count": 44,
   "metadata": {
    "attributes": {
     "classes": [],
     "error": "FALSE",
     "id": "",
     "message": "FALSE,",
     "warning": "FALSE,"
    },
    "collapsed": false
   },
   "outputs": [
    {
     "name": "stdout",
     "output_type": "stream",
     "text": [
      "[1] \"score\"             \"indigenous\"        \"english_language\" \n",
      "[4] \"father_occupation\" \"mother_occupation\" \"attendance_rate\"  \n",
      "[7] \"guardian\"          \"level\"            \n"
     ]
    }
   ],
   "source": [
    "# Remove the variables to ignore.\n",
    "\n",
    "vars <- setdiff(vars, ignore) %T>% print()"
   ]
  },
  {
   "cell_type": "code",
   "execution_count": 45,
   "metadata": {
    "attributes": {
     "classes": [],
     "error": "FALSE",
     "id": "",
     "message": "FALSE,",
     "warning": "FALSE,"
    },
    "collapsed": false
   },
   "outputs": [
    {
     "data": {
      "text/html": [
       "8"
      ],
      "text/latex": [
       "8"
      ],
      "text/markdown": [
       "8"
      ],
      "text/plain": [
       "[1] 8"
      ]
     },
     "metadata": {},
     "output_type": "display_data"
    }
   ],
   "source": [
    "# Confirm they are now ignored.\n",
    "\n",
    "length(vars)"
   ]
  },
  {
   "cell_type": "markdown",
   "metadata": {},
   "source": [
    "# Step 3.5: Clean - Feature Selection\n",
    "\n",
    "The FSelector (Romanski, 2013) package provides functions to identify subsets of variables that might be more effective for modelling. For example, we can use correlation search function cfs() to identify key variables and thus decide which variables to retain."
   ]
  },
  {
   "cell_type": "code",
   "execution_count": 46,
   "metadata": {
    "attributes": {
     "classes": [],
     "error": "FALSE",
     "id": "",
     "message": "FALSE,",
     "warning": "FALSE,"
    },
    "collapsed": false
   },
   "outputs": [
    {
     "name": "stdout",
     "output_type": "stream",
     "text": [
      "score ~ .\n"
     ]
    }
   ],
   "source": [
    "####################################\n",
    "# Variable Selection\n",
    "\n",
    "# Formula for modelling.\n",
    "\n",
    "form <- formula(target %s+% \" ~ .\") %T>% print()"
   ]
  },
  {
   "cell_type": "code",
   "execution_count": 47,
   "metadata": {
    "attributes": {
     "classes": [],
     "error": "FALSE",
     "id": "",
     "message": "FALSE,",
     "warning": "FALSE,"
    },
    "collapsed": false
   },
   "outputs": [
    {
     "data": {
      "text/html": [
       "<ol class=list-inline>\n",
       "\t<li>'indigenous'</li>\n",
       "\t<li>'attendance_rate'</li>\n",
       "</ol>\n"
      ],
      "text/latex": [
       "\\begin{enumerate*}\n",
       "\\item 'indigenous'\n",
       "\\item 'attendance\\_rate'\n",
       "\\end{enumerate*}\n"
      ],
      "text/markdown": [
       "1. 'indigenous'\n",
       "2. 'attendance_rate'\n",
       "\n",
       "\n"
      ],
      "text/plain": [
       "[1] \"indigenous\"      \"attendance_rate\""
      ]
     },
     "metadata": {},
     "output_type": "display_data"
    }
   ],
   "source": [
    "# Use correlation search to identify key variables.\n",
    "# Could be useful to decide which variables to retain.\n",
    "\n",
    "cfs(form, ds[vars])"
   ]
  },
  {
   "cell_type": "code",
   "execution_count": 48,
   "metadata": {
    "attributes": {
     "classes": [],
     "error": "FALSE",
     "id": "",
     "message": "FALSE,",
     "warning": "FALSE,"
    },
    "collapsed": false
   },
   "outputs": [
    {
     "name": "stdout",
     "output_type": "stream",
     "text": [
      "[1] \"score\"             \"indigenous\"        \"english_language\" \n",
      "[4] \"father_occupation\" \"mother_occupation\" \"attendance_rate\"  \n",
      "[7] \"guardian\"          \"level\"            \n"
     ]
    }
   ],
   "source": [
    "# Any variables to remove because not useful?\n",
    "\n",
    "vars %<>% setdiff(NULL) %T>% print()"
   ]
  },
  {
   "cell_type": "markdown",
   "metadata": {},
   "source": [
    "Or, we can use the function information.gain() to identify varaible importance and decide which varaibles to remove."
   ]
  },
  {
   "cell_type": "code",
   "execution_count": 49,
   "metadata": {
    "attributes": {
     "classes": [],
     "error": "FALSE",
     "id": "",
     "message": "FALSE,",
     "warning": "FALSE,"
    },
    "collapsed": false
   },
   "outputs": [
    {
     "data": {
      "text/html": [
       "<table>\n",
       "<thead><tr><th scope=col>rowname</th><th scope=col>attr_importance</th></tr></thead>\n",
       "<tbody>\n",
       "\t<tr><td>attendance_rate  </td><td>0.000000000      </td></tr>\n",
       "\t<tr><td>indigenous       </td><td>0.004184051      </td></tr>\n",
       "\t<tr><td>english_language </td><td>0.004523435      </td></tr>\n",
       "\t<tr><td>guardian         </td><td>0.014006316      </td></tr>\n",
       "\t<tr><td>mother_occupation</td><td>0.014825539      </td></tr>\n",
       "\t<tr><td>father_occupation</td><td>0.024635172      </td></tr>\n",
       "\t<tr><td>level            </td><td>0.087427661      </td></tr>\n",
       "</tbody>\n",
       "</table>\n"
      ],
      "text/latex": [
       "\\begin{tabular}{r|ll}\n",
       " rowname & attr\\_importance\\\\\n",
       "\\hline\n",
       "\t attendance\\_rate   & 0.000000000        \\\\\n",
       "\t indigenous        & 0.004184051      \\\\\n",
       "\t english\\_language  & 0.004523435        \\\\\n",
       "\t guardian          & 0.014006316      \\\\\n",
       "\t mother\\_occupation & 0.014825539        \\\\\n",
       "\t father\\_occupation & 0.024635172        \\\\\n",
       "\t level             & 0.087427661      \\\\\n",
       "\\end{tabular}\n"
      ],
      "text/plain": [
       "  rowname           attr_importance\n",
       "1 attendance_rate   0.000000000    \n",
       "2 indigenous        0.004184051    \n",
       "3 english_language  0.004523435    \n",
       "4 guardian          0.014006316    \n",
       "5 mother_occupation 0.014825539    \n",
       "6 father_occupation 0.024635172    \n",
       "7 level             0.087427661    "
      ]
     },
     "metadata": {},
     "output_type": "display_data"
    }
   ],
   "source": [
    "# Use information gain to identify variable importance.\n",
    "\n",
    "information.gain(form, ds[vars]) %>%\n",
    "  rownames_to_column() %>%\n",
    "  arrange(attr_importance)\n",
    "\n",
    "# Any variables to remove because not useful?\n",
    "\n",
    "vars %<>% setdiff(NULL)"
   ]
  },
  {
   "cell_type": "markdown",
   "metadata": {},
   "source": [
    "# Step 3.6: Clean - Remove Missing Target\n",
    "\n",
    "In addition to varaibles, sometimes there may be further cleansing with the observations. Here, we remove observations with a missing target first."
   ]
  },
  {
   "cell_type": "code",
   "execution_count": 50,
   "metadata": {
    "attributes": {
     "classes": [],
     "error": "FALSE",
     "id": "",
     "message": "FALSE,",
     "warning": "FALSE,"
    },
    "collapsed": false
   },
   "outputs": [
    {
     "name": "stdout",
     "output_type": "stream",
     "text": [
      "1,222    11 \n"
     ]
    }
   ],
   "source": [
    "####################################\n",
    "# Continue Wrangling\n",
    "\n",
    "# Check the dimensions to start with.\n",
    "\n",
    "dim(ds) %>% echo()"
   ]
  },
  {
   "cell_type": "code",
   "execution_count": 51,
   "metadata": {
    "attributes": {
     "classes": [],
     "error": "FALSE",
     "id": "",
     "message": "FALSE,",
     "warning": "FALSE,"
    },
    "collapsed": false
   },
   "outputs": [
    {
     "name": "stdout",
     "output_type": "stream",
     "text": [
      "[1] 0\n"
     ]
    }
   ],
   "source": [
    "# Identify observations with a missing target.\n",
    "\n",
    "ds %>% \n",
    "  extract2(target) %>% \n",
    "  is.na() %T>%\n",
    "  {sum(.) %>% print()} ->\n",
    "missing.target "
   ]
  },
  {
   "cell_type": "code",
   "execution_count": 52,
   "metadata": {
    "attributes": {
     "classes": [],
     "error": "FALSE",
     "id": "",
     "message": "FALSE,",
     "warning": "FALSE,"
    },
    "collapsed": false
   },
   "outputs": [
    {
     "name": "stdout",
     "output_type": "stream",
     "text": [
      "1,222    11 \n"
     ]
    }
   ],
   "source": [
    "# Remove observations with a missing target.\n",
    "\n",
    "ds %<>% filter(!missing.target)\n",
    "\n",
    "# Confirm the filter delivered the expected dataset.\n",
    "\n",
    "dim(ds) %>% echo()"
   ]
  },
  {
   "cell_type": "markdown",
   "metadata": {},
   "source": [
    "# Step 3.7: Clean - Deal with Missing Values\n",
    "\n",
    "To clean observatons with missing predictors, we can impute missing values in the data by using na.roughfix() from package randomForest (Breiman et al, 2012)."
   ]
  },
  {
   "cell_type": "code",
   "execution_count": 53,
   "metadata": {
    "attributes": {
     "classes": [],
     "error": "FALSE",
     "id": "",
     "message": "FALSE,",
     "warning": "FALSE,"
    },
    "collapsed": false
   },
   "outputs": [
    {
     "name": "stdout",
     "output_type": "stream",
     "text": [
      "0 \n"
     ]
    }
   ],
   "source": [
    "####################################\n",
    "## Optional missing value imputation.\n",
    "\n",
    "# Count the number of missing values.\n",
    "\n",
    "ds[vars] %>%  is.na() %>% sum() %>% echo()"
   ]
  },
  {
   "cell_type": "code",
   "execution_count": 54,
   "metadata": {
    "attributes": {
     "classes": [],
     "error": "FALSE",
     "id": "",
     "message": "FALSE,",
     "warning": "FALSE,"
    },
    "collapsed": true
   },
   "outputs": [],
   "source": [
    "# Impute missing values.\n",
    "\n",
    "ds[vars] %<>% na.roughfix()"
   ]
  },
  {
   "cell_type": "code",
   "execution_count": 55,
   "metadata": {
    "attributes": {
     "classes": [],
     "error": "FALSE",
     "id": "",
     "message": "FALSE,",
     "warning": "FALSE,"
    },
    "collapsed": false
   },
   "outputs": [
    {
     "name": "stdout",
     "output_type": "stream",
     "text": [
      "0 \n"
     ]
    }
   ],
   "source": [
    "# Confirm that no missing values remain.\n",
    "\n",
    "ds[vars] %>%  is.na() %>% sum() %>% echo()"
   ]
  },
  {
   "cell_type": "markdown",
   "metadata": {},
   "source": [
    "Alternatively, we can simply remove observations that have missing values. Here na.omit() identifies the rows to omit based on the vars to be included for modelling. This list of rows to omit is stored as the na.action attribute of the returned object. We then remove these observations from the dataset."
   ]
  },
  {
   "cell_type": "code",
   "execution_count": 56,
   "metadata": {
    "attributes": {
     "classes": [],
     "error": "FALSE",
     "id": "",
     "message": "FALSE,",
     "warning": "FALSE,"
    },
    "collapsed": false
   },
   "outputs": [
    {
     "name": "stdout",
     "output_type": "stream",
     "text": [
      "1,222 \n",
      "0 \n"
     ]
    }
   ],
   "source": [
    "####################################\n",
    "# Optional remove observations with missing values.\n",
    "\n",
    "# Initialise the list of observations to be removed.\n",
    "\n",
    "omit <- NULL\n",
    "\n",
    "# Review the current dataset.\n",
    "\n",
    "ds[vars] %>% nrow() %>% echo()\n",
    "ds[vars] %>% is.na() %>% sum() %>% echo()"
   ]
  },
  {
   "cell_type": "code",
   "execution_count": 57,
   "metadata": {
    "attributes": {
     "classes": [],
     "error": "FALSE",
     "id": "",
     "message": "FALSE,",
     "warning": "FALSE,"
    },
    "collapsed": false
   },
   "outputs": [
    {
     "name": "stdout",
     "output_type": "stream",
     "text": [
      "NULL\n"
     ]
    }
   ],
   "source": [
    "# Identify any observations with missing values.\n",
    "\n",
    "ds[vars] %>%\n",
    "  na.omit() %>%\n",
    "  attr(\"na.action\") %T>%\n",
    "  print() ->\n",
    "mo"
   ]
  },
  {
   "cell_type": "code",
   "execution_count": 58,
   "metadata": {
    "attributes": {
     "classes": [],
     "error": "FALSE",
     "id": "",
     "message": "FALSE,",
     "warning": "FALSE,"
    },
    "collapsed": false
   },
   "outputs": [
    {
     "name": "stdout",
     "output_type": "stream",
     "text": [
      "[1] 0\n"
     ]
    }
   ],
   "source": [
    "# Record the observations to omit.\n",
    "\n",
    "omit <- union(omit, mo) %T>% {length(.) %>% print()}"
   ]
  },
  {
   "cell_type": "code",
   "execution_count": 59,
   "metadata": {
    "attributes": {
     "classes": [],
     "error": "FALSE",
     "id": "",
     "message": "FALSE,",
     "warning": "FALSE,"
    },
    "collapsed": false
   },
   "outputs": [
    {
     "name": "stdout",
     "output_type": "stream",
     "text": [
      "1,222 \n",
      "0 \n"
     ]
    }
   ],
   "source": [
    "# If there are observations to omit then remove them.\n",
    "\n",
    "if (length(omit)) ds <- ds[-omit,]\n",
    "\n",
    "# Confirm the observations have been removed.\n",
    "\n",
    "ds[vars] %>% nrow() %>% echo()\n",
    "ds[vars] %>% is.na() %>% sum() %>% echo()"
   ]
  },
  {
   "cell_type": "markdown",
   "metadata": {},
   "source": [
    "# Step 3.8: Clean - Normalise Factors\n",
    "\n",
    "Some variables will have levels with spaces, and mixture of cases, etc. We may like to normalise the levels for each of the categoric variables."
   ]
  },
  {
   "cell_type": "code",
   "execution_count": 60,
   "metadata": {
    "attributes": {
     "classes": [],
     "error": "FALSE",
     "id": "",
     "message": "FALSE,",
     "warning": "FALSE,"
    },
    "collapsed": false
   },
   "outputs": [
    {
     "name": "stdout",
     "output_type": "stream",
     "text": [
      "[1] \"indigenous\"        \"english_language\"  \"father_occupation\"\n",
      "[4] \"mother_occupation\" \"guardian\"          \"level\"            \n"
     ]
    }
   ],
   "source": [
    "####################################\n",
    "# Normalise factors.\n",
    "\n",
    "# Note which variables are categoric.\n",
    "\n",
    "ds[vars] %>%\n",
    "  sapply(is.factor) %>%\n",
    "  which() %>%\n",
    "  names() %T>%\n",
    "  print() ->\n",
    "catc"
   ]
  },
  {
   "cell_type": "code",
   "execution_count": 61,
   "metadata": {
    "attributes": {
     "classes": [],
     "error": "FALSE",
     "id": "",
     "message": "FALSE,",
     "warning": "FALSE,"
    },
    "collapsed": false
   },
   "outputs": [
    {
     "data": {
      "text/html": [
       "<dl>\n",
       "\t<dt>$indigenous</dt>\n",
       "\t\t<dd><ol class=list-inline>\n",
       "\t<li>'FALSE'</li>\n",
       "\t<li>'TRUE'</li>\n",
       "</ol>\n",
       "</dd>\n",
       "\t<dt>$english_language</dt>\n",
       "\t\t<dd><ol class=list-inline>\n",
       "\t<li>'FALSE'</li>\n",
       "\t<li>'TRUE'</li>\n",
       "</ol>\n",
       "</dd>\n",
       "\t<dt>$father_occupation</dt>\n",
       "\t\t<dd><ol class=list-inline>\n",
       "\t<li>'at_home'</li>\n",
       "\t<li>'health'</li>\n",
       "\t<li>'other'</li>\n",
       "\t<li>'services'</li>\n",
       "\t<li>'teacher'</li>\n",
       "</ol>\n",
       "</dd>\n",
       "\t<dt>$mother_occupation</dt>\n",
       "\t\t<dd><ol class=list-inline>\n",
       "\t<li>'at_home'</li>\n",
       "\t<li>'health'</li>\n",
       "\t<li>'other'</li>\n",
       "\t<li>'services'</li>\n",
       "\t<li>'teacher'</li>\n",
       "</ol>\n",
       "</dd>\n",
       "\t<dt>$guardian</dt>\n",
       "\t\t<dd><ol class=list-inline>\n",
       "\t<li>'father'</li>\n",
       "\t<li>'mixed'</li>\n",
       "\t<li>'mother'</li>\n",
       "\t<li>'other'</li>\n",
       "</ol>\n",
       "</dd>\n",
       "\t<dt>$level</dt>\n",
       "\t\t<dd><ol class=list-inline>\n",
       "\t<li>'3'</li>\n",
       "\t<li>'5'</li>\n",
       "\t<li>'7'</li>\n",
       "\t<li>'9'</li>\n",
       "</ol>\n",
       "</dd>\n",
       "</dl>\n"
      ],
      "text/latex": [
       "\\begin{description}\n",
       "\\item[\\$indigenous] \\begin{enumerate*}\n",
       "\\item 'FALSE'\n",
       "\\item 'TRUE'\n",
       "\\end{enumerate*}\n",
       "\n",
       "\\item[\\$english\\_language] \\begin{enumerate*}\n",
       "\\item 'FALSE'\n",
       "\\item 'TRUE'\n",
       "\\end{enumerate*}\n",
       "\n",
       "\\item[\\$father\\_occupation] \\begin{enumerate*}\n",
       "\\item 'at\\_home'\n",
       "\\item 'health'\n",
       "\\item 'other'\n",
       "\\item 'services'\n",
       "\\item 'teacher'\n",
       "\\end{enumerate*}\n",
       "\n",
       "\\item[\\$mother\\_occupation] \\begin{enumerate*}\n",
       "\\item 'at\\_home'\n",
       "\\item 'health'\n",
       "\\item 'other'\n",
       "\\item 'services'\n",
       "\\item 'teacher'\n",
       "\\end{enumerate*}\n",
       "\n",
       "\\item[\\$guardian] \\begin{enumerate*}\n",
       "\\item 'father'\n",
       "\\item 'mixed'\n",
       "\\item 'mother'\n",
       "\\item 'other'\n",
       "\\end{enumerate*}\n",
       "\n",
       "\\item[\\$level] \\begin{enumerate*}\n",
       "\\item '3'\n",
       "\\item '5'\n",
       "\\item '7'\n",
       "\\item '9'\n",
       "\\end{enumerate*}\n",
       "\n",
       "\\end{description}\n"
      ],
      "text/markdown": [
       "$indigenous\n",
       ":   1. 'FALSE'\n",
       "2. 'TRUE'\n",
       "\n",
       "\n",
       "\n",
       "$english_language\n",
       ":   1. 'FALSE'\n",
       "2. 'TRUE'\n",
       "\n",
       "\n",
       "\n",
       "$father_occupation\n",
       ":   1. 'at_home'\n",
       "2. 'health'\n",
       "3. 'other'\n",
       "4. 'services'\n",
       "5. 'teacher'\n",
       "\n",
       "\n",
       "\n",
       "$mother_occupation\n",
       ":   1. 'at_home'\n",
       "2. 'health'\n",
       "3. 'other'\n",
       "4. 'services'\n",
       "5. 'teacher'\n",
       "\n",
       "\n",
       "\n",
       "$guardian\n",
       ":   1. 'father'\n",
       "2. 'mixed'\n",
       "3. 'mother'\n",
       "4. 'other'\n",
       "\n",
       "\n",
       "\n",
       "$level\n",
       ":   1. '3'\n",
       "2. '5'\n",
       "3. '7'\n",
       "4. '9'\n",
       "\n",
       "\n",
       "\n",
       "\n",
       "\n"
      ],
      "text/plain": [
       "$indigenous\n",
       "[1] \"FALSE\" \"TRUE\" \n",
       "\n",
       "$english_language\n",
       "[1] \"FALSE\" \"TRUE\" \n",
       "\n",
       "$father_occupation\n",
       "[1] \"at_home\"  \"health\"   \"other\"    \"services\" \"teacher\" \n",
       "\n",
       "$mother_occupation\n",
       "[1] \"at_home\"  \"health\"   \"other\"    \"services\" \"teacher\" \n",
       "\n",
       "$guardian\n",
       "[1] \"father\" \"mixed\"  \"mother\" \"other\" \n",
       "\n",
       "$level\n",
       "[1] \"3\" \"5\" \"7\" \"9\"\n"
      ]
     },
     "metadata": {},
     "output_type": "display_data"
    }
   ],
   "source": [
    "# Check the levels.\n",
    "\n",
    "ds[catc] %>% sapply(levels)"
   ]
  },
  {
   "cell_type": "code",
   "execution_count": 62,
   "metadata": {
    "attributes": {
     "classes": [],
     "error": "FALSE",
     "id": "",
     "message": "FALSE,",
     "warning": "FALSE,"
    },
    "collapsed": false
   },
   "outputs": [
    {
     "data": {
      "text/html": [
       "<dl>\n",
       "\t<dt>$indigenous</dt>\n",
       "\t\t<dd><ol class=list-inline>\n",
       "\t<li>'false'</li>\n",
       "\t<li>'true'</li>\n",
       "</ol>\n",
       "</dd>\n",
       "\t<dt>$english_language</dt>\n",
       "\t\t<dd><ol class=list-inline>\n",
       "\t<li>'false'</li>\n",
       "\t<li>'true'</li>\n",
       "</ol>\n",
       "</dd>\n",
       "\t<dt>$father_occupation</dt>\n",
       "\t\t<dd><ol class=list-inline>\n",
       "\t<li>'at_home'</li>\n",
       "\t<li>'health'</li>\n",
       "\t<li>'other'</li>\n",
       "\t<li>'services'</li>\n",
       "\t<li>'teacher'</li>\n",
       "</ol>\n",
       "</dd>\n",
       "\t<dt>$mother_occupation</dt>\n",
       "\t\t<dd><ol class=list-inline>\n",
       "\t<li>'at_home'</li>\n",
       "\t<li>'health'</li>\n",
       "\t<li>'other'</li>\n",
       "\t<li>'services'</li>\n",
       "\t<li>'teacher'</li>\n",
       "</ol>\n",
       "</dd>\n",
       "\t<dt>$guardian</dt>\n",
       "\t\t<dd><ol class=list-inline>\n",
       "\t<li>'father'</li>\n",
       "\t<li>'mixed'</li>\n",
       "\t<li>'mother'</li>\n",
       "\t<li>'other'</li>\n",
       "</ol>\n",
       "</dd>\n",
       "\t<dt>$level</dt>\n",
       "\t\t<dd><ol class=list-inline>\n",
       "\t<li>'3'</li>\n",
       "\t<li>'5'</li>\n",
       "\t<li>'7'</li>\n",
       "\t<li>'9'</li>\n",
       "</ol>\n",
       "</dd>\n",
       "</dl>\n"
      ],
      "text/latex": [
       "\\begin{description}\n",
       "\\item[\\$indigenous] \\begin{enumerate*}\n",
       "\\item 'false'\n",
       "\\item 'true'\n",
       "\\end{enumerate*}\n",
       "\n",
       "\\item[\\$english\\_language] \\begin{enumerate*}\n",
       "\\item 'false'\n",
       "\\item 'true'\n",
       "\\end{enumerate*}\n",
       "\n",
       "\\item[\\$father\\_occupation] \\begin{enumerate*}\n",
       "\\item 'at\\_home'\n",
       "\\item 'health'\n",
       "\\item 'other'\n",
       "\\item 'services'\n",
       "\\item 'teacher'\n",
       "\\end{enumerate*}\n",
       "\n",
       "\\item[\\$mother\\_occupation] \\begin{enumerate*}\n",
       "\\item 'at\\_home'\n",
       "\\item 'health'\n",
       "\\item 'other'\n",
       "\\item 'services'\n",
       "\\item 'teacher'\n",
       "\\end{enumerate*}\n",
       "\n",
       "\\item[\\$guardian] \\begin{enumerate*}\n",
       "\\item 'father'\n",
       "\\item 'mixed'\n",
       "\\item 'mother'\n",
       "\\item 'other'\n",
       "\\end{enumerate*}\n",
       "\n",
       "\\item[\\$level] \\begin{enumerate*}\n",
       "\\item '3'\n",
       "\\item '5'\n",
       "\\item '7'\n",
       "\\item '9'\n",
       "\\end{enumerate*}\n",
       "\n",
       "\\end{description}\n"
      ],
      "text/markdown": [
       "$indigenous\n",
       ":   1. 'false'\n",
       "2. 'true'\n",
       "\n",
       "\n",
       "\n",
       "$english_language\n",
       ":   1. 'false'\n",
       "2. 'true'\n",
       "\n",
       "\n",
       "\n",
       "$father_occupation\n",
       ":   1. 'at_home'\n",
       "2. 'health'\n",
       "3. 'other'\n",
       "4. 'services'\n",
       "5. 'teacher'\n",
       "\n",
       "\n",
       "\n",
       "$mother_occupation\n",
       ":   1. 'at_home'\n",
       "2. 'health'\n",
       "3. 'other'\n",
       "4. 'services'\n",
       "5. 'teacher'\n",
       "\n",
       "\n",
       "\n",
       "$guardian\n",
       ":   1. 'father'\n",
       "2. 'mixed'\n",
       "3. 'mother'\n",
       "4. 'other'\n",
       "\n",
       "\n",
       "\n",
       "$level\n",
       ":   1. '3'\n",
       "2. '5'\n",
       "3. '7'\n",
       "4. '9'\n",
       "\n",
       "\n",
       "\n",
       "\n",
       "\n"
      ],
      "text/plain": [
       "$indigenous\n",
       "[1] \"false\" \"true\" \n",
       "\n",
       "$english_language\n",
       "[1] \"false\" \"true\" \n",
       "\n",
       "$father_occupation\n",
       "[1] \"at_home\"  \"health\"   \"other\"    \"services\" \"teacher\" \n",
       "\n",
       "$mother_occupation\n",
       "[1] \"at_home\"  \"health\"   \"other\"    \"services\" \"teacher\" \n",
       "\n",
       "$guardian\n",
       "[1] \"father\" \"mixed\"  \"mother\" \"other\" \n",
       "\n",
       "$level\n",
       "[1] \"3\" \"5\" \"7\" \"9\"\n"
      ]
     },
     "metadata": {},
     "output_type": "display_data"
    }
   ],
   "source": [
    "# Normalise the levels of all categoric variables.\n",
    "\n",
    "for (v in catc) \n",
    "  levels(ds[[v]]) %<>% normVarNames()\n",
    "\n",
    "# Review the levels.\n",
    "\n",
    "ds[catc] %>% sapply(levels)"
   ]
  },
  {
   "cell_type": "markdown",
   "metadata": {},
   "source": [
    "# Step 3.9: Clean - Ensure Target is Numeric\n",
    "\n",
    "For regression models, we want to ensure the target is numeric."
   ]
  },
  {
   "cell_type": "code",
   "execution_count": 63,
   "metadata": {
    "attributes": {
     "classes": [],
     "error": "FALSE",
     "id": "",
     "message": "FALSE,",
     "warning": "FALSE,"
    },
    "collapsed": false
   },
   "outputs": [
    {
     "data": {
      "text/html": [
       "'numeric'"
      ],
      "text/latex": [
       "'numeric'"
      ],
      "text/markdown": [
       "'numeric'"
      ],
      "text/plain": [
       "[1] \"numeric\""
      ]
     },
     "metadata": {},
     "output_type": "display_data"
    },
    {
     "data": {
      "text/plain": [
       "     score      \n",
       " Min.   :302.4  \n",
       " 1st Qu.:481.0  \n",
       " Median :544.0  \n",
       " Mean   :550.7  \n",
       " 3rd Qu.:623.0  \n",
       " Max.   :798.0  "
      ]
     },
     "metadata": {},
     "output_type": "display_data"
    }
   ],
   "source": [
    "# Ensure the target is numeric.\n",
    "\n",
    "class(ds[[target]])\n",
    "\n",
    "ds[[target]] %<>% as.numeric()\n",
    "\n",
    "# Confirm the distribution.\n",
    "\n",
    "ds[target] %>% summary()"
   ]
  },
  {
   "cell_type": "markdown",
   "metadata": {},
   "source": [
    "Here, we visualise the distribution of the target variable using ggplot2."
   ]
  },
  {
   "cell_type": "code",
   "execution_count": 64,
   "metadata": {
    "attributes": {
     "classes": [],
     "error": "FALSE",
     "id": "",
     "message": "FALSE,",
     "warning": "FALSE,"
    },
    "collapsed": false
   },
   "outputs": [
    {
     "data": {},
     "metadata": {},
     "output_type": "display_data"
    },
    {
     "data": {
      "image/png": "[encoded data removed]",
      "text/plain": [
       "plot without title"
      ]
     },
     "metadata": {},
     "output_type": "display_data"
    }
   ],
   "source": [
    "ds %>%\n",
    "  ggplot(aes_string(x=target)) +\n",
    "  geom_histogram(fill=\"grey\", col=\"black\", binwidth=20) +\n",
    "  theme(text=element_text(size=14))"
   ]
  },
  {
   "cell_type": "markdown",
   "metadata": {},
   "source": [
    "# Step 4.1: Prepare - Variable\n",
    "\n",
    "We are now ready to identify the variables that we will use to build the model. Previously we identified the variable roles. Now we identify those that we wish to model. We begin with the model input variables, identifying them as a vector of characters (the variable name) and a vector of integers (the variable index)."
   ]
  },
  {
   "cell_type": "code",
   "execution_count": 65,
   "metadata": {
    "attributes": {
     "classes": [],
     "error": "FALSE",
     "id": "",
     "message": "FALSE,",
     "warning": "FALSE,"
    },
    "collapsed": false
   },
   "outputs": [
    {
     "name": "stdout",
     "output_type": "stream",
     "text": [
      "[1] \"indigenous\"        \"english_language\"  \"father_occupation\"\n",
      "[4] \"mother_occupation\" \"attendance_rate\"   \"guardian\"         \n",
      "[7] \"level\"            \n"
     ]
    }
   ],
   "source": [
    "########################################################################\n",
    "# VARIABLE ROLES\n",
    "\n",
    "# Identify the input variables by name.\n",
    "\n",
    "inputs <- setdiff(vars, target) %T>% print()"
   ]
  },
  {
   "cell_type": "code",
   "execution_count": 66,
   "metadata": {
    "attributes": {
     "classes": [],
     "error": "FALSE",
     "id": "",
     "message": "FALSE,",
     "warning": "FALSE,"
    },
    "collapsed": false
   },
   "outputs": [
    {
     "name": "stdout",
     "output_type": "stream",
     "text": [
      "[1] 2 3 4 5 6 7 8\n"
     ]
    }
   ],
   "source": [
    "# Identify the input variables by index.\n",
    "\n",
    "inputi <- sapply(inputs, \n",
    "                 function(x) which(x == names(ds)), \n",
    "                 USE.NAMES=FALSE) %T>% print()"
   ]
  },
  {
   "cell_type": "markdown",
   "metadata": {},
   "source": [
    "For convenience we record the number of observations."
   ]
  },
  {
   "cell_type": "code",
   "execution_count": 67,
   "metadata": {
    "attributes": {
     "classes": [],
     "error": "FALSE",
     "id": "",
     "message": "FALSE,",
     "warning": "FALSE,"
    },
    "collapsed": false
   },
   "outputs": [
    {
     "name": "stdout",
     "output_type": "stream",
     "text": [
      "1,222 \n"
     ]
    }
   ],
   "source": [
    "nobs <- nrow(ds) %T>% echo()"
   ]
  },
  {
   "cell_type": "markdown",
   "metadata": {},
   "source": [
    "Here we simply report on the dimensions of various data subsets."
   ]
  },
  {
   "cell_type": "code",
   "execution_count": 68,
   "metadata": {
    "attributes": {
     "classes": [],
     "error": "FALSE",
     "id": "",
     "message": "FALSE,",
     "warning": "FALSE,"
    },
    "collapsed": false
   },
   "outputs": [
    {
     "name": "stdout",
     "output_type": "stream",
     "text": [
      "1,222    11 \n",
      "1,222     8 \n",
      "1,222     7 \n",
      "1,222     7 \n"
     ]
    }
   ],
   "source": [
    "# Confirm various subset sizes.\n",
    "\n",
    "dim(ds) %>% echo()\n",
    "dim(ds[vars]) %>% echo()\n",
    "dim(ds[inputs]) %>% echo()\n",
    "dim(ds[inputi]) %>% echo()"
   ]
  },
  {
   "cell_type": "markdown",
   "metadata": {},
   "source": [
    "# Step 4.2: Prepare - Numeric and Categoric Variables\n",
    "\n",
    "Sometimes we need to identify the numeric and categoric variables. Many cluster analysis algorithms only deal with numeric variables, for example. Here we identify them both by name and by index. Note that when using the index we have to assume the variables always remain in the same order within the dataset and all variables are present. Otherwise the indicies will get out of sync."
   ]
  },
  {
   "cell_type": "code",
   "execution_count": 69,
   "metadata": {
    "attributes": {
     "classes": [],
     "error": "FALSE",
     "id": "",
     "message": "FALSE,",
     "warning": "FALSE,"
    },
    "collapsed": false
   },
   "outputs": [
    {
     "name": "stdout",
     "output_type": "stream",
     "text": [
      "[1] 6\n"
     ]
    }
   ],
   "source": [
    "# Identify the numeric variables by index.\n",
    "\n",
    "ds %>%\n",
    "  sapply(is.numeric) %>%\n",
    "  which() %>%\n",
    "  intersect(inputi) %T>%\n",
    "  print() ->\n",
    "numi"
   ]
  },
  {
   "cell_type": "code",
   "execution_count": 70,
   "metadata": {
    "attributes": {
     "classes": [],
     "error": "FALSE",
     "id": "",
     "message": "FALSE,",
     "warning": "FALSE,"
    },
    "collapsed": false
   },
   "outputs": [
    {
     "name": "stdout",
     "output_type": "stream",
     "text": [
      "[1] \"attendance_rate\"\n"
     ]
    }
   ],
   "source": [
    "# Identify the numeric variables by name.\n",
    "\n",
    "numc <- \n",
    "  ds %>% \n",
    "  names() %>% \n",
    "  '['(numi) %T>% \n",
    "  print()"
   ]
  },
  {
   "cell_type": "code",
   "execution_count": 71,
   "metadata": {
    "attributes": {
     "classes": [],
     "error": "FALSE",
     "id": "",
     "message": "FALSE,",
     "warning": "FALSE,"
    },
    "collapsed": false
   },
   "outputs": [
    {
     "name": "stdout",
     "output_type": "stream",
     "text": [
      "[1] 2 3 4 5 7 8\n"
     ]
    }
   ],
   "source": [
    "# Identify the categoric variables by index.\n",
    "\n",
    "ds %>%\n",
    "  sapply(is.factor) %>%\n",
    "  which() %>%\n",
    "  intersect(inputi) %T>%\n",
    "  print() ->\n",
    "cati"
   ]
  },
  {
   "cell_type": "code",
   "execution_count": 72,
   "metadata": {
    "attributes": {
     "classes": [],
     "error": "FALSE",
     "id": "",
     "message": "FALSE,",
     "warning": "FALSE,"
    },
    "collapsed": false
   },
   "outputs": [
    {
     "name": "stdout",
     "output_type": "stream",
     "text": [
      "[1] \"indigenous\"        \"english_language\"  \"father_occupation\"\n",
      "[4] \"mother_occupation\" \"guardian\"          \"level\"            \n"
     ]
    }
   ],
   "source": [
    "# Identify the categoric variables by name.\n",
    "\n",
    "ds %>% \n",
    "  names() %>% \n",
    "  '['(cati) %T>% \n",
    "  print() ->\n",
    "catc"
   ]
  },
  {
   "cell_type": "markdown",
   "metadata": {},
   "source": [
    "# Step 4.3: Prepare - Save Dataset\n",
    "\n",
    "For large datasets we may want to save it to a bianry .RData file once we have it in the right shape."
   ]
  },
  {
   "cell_type": "code",
   "execution_count": 73,
   "metadata": {
    "attributes": {
     "classes": [],
     "error": "FALSE",
     "id": "",
     "message": "FALSE,",
     "warning": "FALSE,"
    },
    "collapsed": false
   },
   "outputs": [
    {
     "name": "stdout",
     "output_type": "stream",
     "text": [
      "[1] \"data/studentScoreAUS_20161215.RData\"\n"
     ]
    }
   ],
   "source": [
    "########################################################################\n",
    "# SAVE THE DATASET\n",
    "\n",
    "# We will use a fixed timestamp to identify our file for convenience.\n",
    "\n",
    "dsdate <- \"_20161215\"\n",
    "\n",
    "# Filename for the saved dataset.\n",
    "\n",
    "dsrdata <- \n",
    "  file.path(fpath, dsname %s+% dsdate %s+% \".RData\") %T>% \n",
    "  print()\n",
    "\n",
    "# Save relevant R objects to the binary RData file.\n",
    "\n",
    "save(ds, dsname, dspath, dsdate, nobs,\n",
    "     vars, target, id, ignore, omit, \n",
    "     inputi, inputs, numi, numc, cati, catc, \n",
    "     file=dsrdata)"
   ]
  },
  {
   "cell_type": "code",
   "execution_count": null,
   "metadata": {
    "collapsed": true
   },
   "outputs": [],
   "source": []
  },
  {
   "cell_type": "code",
   "execution_count": null,
   "metadata": {
    "collapsed": true
   },
   "outputs": [],
   "source": []
  }
 ],
 "metadata": {
  "kernelspec": {
   "display_name": "R",
   "language": "R",
   "name": "ir"
  },
  "language_info": {
   "codemirror_mode": "r",
   "file_extension": ".r",
   "mimetype": "text/x-r-source",
   "name": "R",
   "pygments_lexer": "r",
   "version": "3.2.5"
  }
 },
 "nbformat": 4,
 "nbformat_minor": 1
}
